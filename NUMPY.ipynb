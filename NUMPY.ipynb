{
 "cells": [
  {
   "cell_type": "code",
   "execution_count": 1,
   "id": "e4ce599d",
   "metadata": {},
   "outputs": [
    {
     "name": "stdout",
     "output_type": "stream",
     "text": [
      "Collecting package metadata (current_repodata.json): ...working... failed\n",
      "\n",
      "Note: you may need to restart the kernel to use updated packages.\n"
     ]
    },
    {
     "name": "stderr",
     "output_type": "stream",
     "text": [
      "\n",
      "CondaHTTPError: HTTP 000 CONNECTION FAILED for url <https://repo.anaconda.com/pkgs/main/win-64/current_repodata.json>\n",
      "Elapsed: -\n",
      "\n",
      "An HTTP error occurred when trying to retrieve this URL.\n",
      "HTTP errors are often intermittent, and a simple retry will get you on your way.\n",
      "\n",
      "If your current network has https://www.anaconda.com blocked, please file\n",
      "a support request with your network engineering team.\n",
      "\n",
      "'https//repo.anaconda.com/pkgs/main/win-64'\n",
      "\n",
      "\n"
     ]
    }
   ],
   "source": [
    "conda install numpy"
   ]
  },
  {
   "cell_type": "code",
   "execution_count": 2,
   "id": "fb3500ef",
   "metadata": {},
   "outputs": [
    {
     "name": "stdout",
     "output_type": "stream",
     "text": [
      "Requirement already satisfied: numpy in c:\\users\\admin\\anaconda3\\lib\\site-packages (1.24.3)\n"
     ]
    }
   ],
   "source": [
    "!pip install numpy"
   ]
  },
  {
   "cell_type": "code",
   "execution_count": 1,
   "id": "c6212329",
   "metadata": {},
   "outputs": [],
   "source": [
    "import numpy as np"
   ]
  },
  {
   "cell_type": "code",
   "execution_count": 6,
   "id": "9bc54bec",
   "metadata": {},
   "outputs": [
    {
     "name": "stdout",
     "output_type": "stream",
     "text": [
      "Type of weight <class 'list'>\n",
      "Type of Array Weight:  <class 'numpy.ndarray'>\n",
      "[25 35 45 76 89 95]\n"
     ]
    }
   ],
   "source": [
    "# Conversion of list into an array\n",
    "\n",
    "weight = [25,35,45,76,89,95]\n",
    " v\n",
    "print('Type of weight',type(weight))\n",
    "\n",
    "Array_weight = np.array(weight)\n",
    "print('Type of Array Weight: ', type(Array_weight))\n",
    "\n",
    "print(Array_weight)"
   ]
  },
  {
   "cell_type": "code",
   "execution_count": 7,
   "id": "b4e226cc",
   "metadata": {},
   "outputs": [
    {
     "data": {
      "text/plain": [
       "array([25, 35, 45, 76, 89, 95])"
      ]
     },
     "execution_count": 7,
     "metadata": {},
     "output_type": "execute_result"
    }
   ],
   "source": [
    "Array_weight"
   ]
  },
  {
   "cell_type": "code",
   "execution_count": 10,
   "id": "2dc1fcde",
   "metadata": {},
   "outputs": [
    {
     "name": "stdout",
     "output_type": "stream",
     "text": [
      "6\n",
      "(6,)\n"
     ]
    }
   ],
   "source": [
    "print(Array_weight.size)\n",
    "print(Array_weight.shape)"
   ]
  },
  {
   "cell_type": "code",
   "execution_count": 11,
   "id": "7ef50489",
   "metadata": {},
   "outputs": [
    {
     "data": {
      "text/plain": [
       "array([0.91114552, 0.74312944, 0.7029137 , 0.7099826 , 0.63243727,\n",
       "       0.5165845 , 0.96681542, 0.39030627, 0.89748343, 0.81270153,\n",
       "       0.84513575, 0.7682866 , 0.89520711, 0.76926054, 0.82793585])"
      ]
     },
     "execution_count": 11,
     "metadata": {},
     "output_type": "execute_result"
    }
   ],
   "source": [
    "import random as rn\n",
    "\n",
    "#Random - random,randn,randint\n",
    "\n",
    "np.random.random(size = 15)\n",
    "\n",
    "#Uniform Distribution\n",
    "#[0.0 - 1.00]\n",
    "#0.0 - Inclusive,1.00 - Exclusive"
   ]
  },
  {
   "cell_type": "code",
   "execution_count": 17,
   "id": "86621a0e",
   "metadata": {},
   "outputs": [
    {
     "data": {
      "text/plain": [
       "array([-1.04774863, -1.63093359, -2.40105462, -0.95990578,  0.49665106])"
      ]
     },
     "execution_count": 17,
     "metadata": {},
     "output_type": "execute_result"
    }
   ],
   "source": [
    "np.random.randn(5)\n",
    "\n",
    "# Uniform Dist\n",
    "# [0.0 - 1]\n",
    "# 0 - Inclusive,1-Inclusive"
   ]
  },
  {
   "cell_type": "code",
   "execution_count": 18,
   "id": "f413e6ab",
   "metadata": {},
   "outputs": [
    {
     "data": {
      "text/plain": [
       "11"
      ]
     },
     "execution_count": 18,
     "metadata": {},
     "output_type": "execute_result"
    }
   ],
   "source": [
    "np.random.randint(5,20) # 5 - 19 (random int numbers)"
   ]
  },
  {
   "cell_type": "code",
   "execution_count": 29,
   "id": "21cbd996",
   "metadata": {},
   "outputs": [
    {
     "data": {
      "text/plain": [
       "array([49, 40, 14, 27, 23])"
      ]
     },
     "execution_count": 29,
     "metadata": {},
     "output_type": "execute_result"
    }
   ],
   "source": [
    "np.random.randint(5,50,5) #5-49-5\n",
    "#5 la start aayu 50 la end aaganum,50 is exclusive,5 size la"
   ]
  },
  {
   "cell_type": "code",
   "execution_count": 31,
   "id": "5b9fd8a4",
   "metadata": {},
   "outputs": [
    {
     "data": {
      "text/plain": [
       "array([10, 12, 14, 16, 18])"
      ]
     },
     "execution_count": 31,
     "metadata": {},
     "output_type": "execute_result"
    }
   ],
   "source": [
    "even_num = np.arange(start = 10,stop = 20,step=2)\n",
    "even_num\n",
    "#arange is a keyword as well as start stop step (Range here arange)"
   ]
  },
  {
   "cell_type": "code",
   "execution_count": 255,
   "id": "05248998",
   "metadata": {},
   "outputs": [
    {
     "data": {
      "text/plain": [
       "array([ 0.        ,  5.55555556, 11.11111111, 16.66666667, 22.22222222,\n",
       "       27.77777778, 33.33333333, 38.88888889, 44.44444444, 50.        ])"
      ]
     },
     "execution_count": 255,
     "metadata": {},
     "output_type": "execute_result"
    }
   ],
   "source": [
    "# Linspace:\n",
    "\n",
    "# Evenly Spaced ndarray Numbers\n",
    "\"\"\" Even ah space aagum like 1.123456789,2.123456789\"\"\"\n",
    "np.linspace(start=0,stop=50,num=10)\n"
   ]
  },
  {
   "cell_type": "code",
   "execution_count": 247,
   "id": "971c2b9b",
   "metadata": {},
   "outputs": [
    {
     "data": {
      "text/plain": [
       "array([0., 0., 0., 0., 0.])"
      ]
     },
     "execution_count": 247,
     "metadata": {},
     "output_type": "execute_result"
    }
   ],
   "source": [
    "# Creating 1D array filled with Zeros:\n",
    "# 1D array mattum tha work aagum \n",
    "# Here 5 is Size\n",
    "np.zeros(5)"
   ]
  },
  {
   "cell_type": "code",
   "execution_count": 45,
   "id": "285cbfa4",
   "metadata": {},
   "outputs": [
    {
     "data": {
      "text/plain": [
       "array([1., 1., 1., 1., 1.])"
      ]
     },
     "execution_count": 45,
     "metadata": {},
     "output_type": "execute_result"
    }
   ],
   "source": [
    "# Creating 1D array filled with Ones:\n",
    "# 1D array mattum tha work aagum \n",
    "\n",
    "np.ones(5)"
   ]
  },
  {
   "cell_type": "code",
   "execution_count": 8,
   "id": "14a62808",
   "metadata": {},
   "outputs": [
    {
     "data": {
      "text/plain": [
       "array([[6.23042070e-307, 4.67296746e-307, 1.69121096e-306,\n",
       "        1.29061074e-306, 7.56587585e-307, 1.37961302e-306,\n",
       "        1.05699242e-307, 8.01097889e-307, 1.78020169e-306],\n",
       "       [7.56601165e-307, 1.02359984e-306, 1.33510679e-306,\n",
       "        2.22522597e-306, 1.78019761e-306, 1.37962185e-306,\n",
       "        1.78019625e-306, 8.34451928e-308, 2.22507386e-306]])"
      ]
     },
     "execution_count": 8,
     "metadata": {},
     "output_type": "execute_result"
    }
   ],
   "source": [
    "# Empty Matrix:\n",
    "# In Numpy Everything are keywords\n",
    "# dtype means keyword for datatype\n",
    "# 2d Array \n",
    "\n",
    "empty_matrix=np.empty((2,9), dtype = float)\n",
    "empty_matrix\n",
    "\n",
    "# Undefined arbitrary Values(uninitialized)"
   ]
  },
  {
   "cell_type": "code",
   "execution_count": 47,
   "id": "b7ea17e6",
   "metadata": {},
   "outputs": [
    {
     "data": {
      "text/plain": [
       "array([[ 1655285930, -1320766154],\n",
       "       [  843568155,  -771794923]])"
      ]
     },
     "execution_count": 47,
     "metadata": {},
     "output_type": "execute_result"
    }
   ],
   "source": [
    "empty_matrix=np.empty((2,2), dtype = int)\n",
    "empty_matrix\n"
   ]
  },
  {
   "cell_type": "code",
   "execution_count": 51,
   "id": "de1bfd6f",
   "metadata": {},
   "outputs": [
    {
     "data": {
      "text/plain": [
       "array([[None, None],\n",
       "       [None, None]], dtype=object)"
      ]
     },
     "execution_count": 51,
     "metadata": {},
     "output_type": "execute_result"
    }
   ],
   "source": [
    "# String means Object\n",
    "# 2d array\n",
    "empty_matrix=np.empty((2,2), dtype = 'object')\n",
    "empty_matrix"
   ]
  },
  {
   "cell_type": "code",
   "execution_count": 53,
   "id": "def14632",
   "metadata": {},
   "outputs": [
    {
     "data": {
      "text/plain": [
       "array([[0, 0, 0, 0],\n",
       "       [0, 0, 0, 0]])"
      ]
     },
     "execution_count": 53,
     "metadata": {},
     "output_type": "execute_result"
    }
   ],
   "source": [
    "# FUll Matrix:\n",
    "# SHIFT + TAB for Suggesitons\n",
    "# Here 2 means 2 Rows and 4 MEANS columns\n",
    "\"\"\" Fill_value na Namma enna value fill pannanum nu solramo it can be any \n",
    "number 2 or 3 or 4 or anything\"\"\"\n",
    "\n",
    "\n",
    "np.full((2,4), fill_value=0)"
   ]
  },
  {
   "cell_type": "code",
   "execution_count": 54,
   "id": "1b48c29f",
   "metadata": {},
   "outputs": [
    {
     "data": {
      "text/plain": [
       "array([[4, 4, 4, 4],\n",
       "       [4, 4, 4, 4]])"
      ]
     },
     "execution_count": 54,
     "metadata": {},
     "output_type": "execute_result"
    }
   ],
   "source": [
    "np.full((2,4), fill_value=4)"
   ]
  },
  {
   "cell_type": "code",
   "execution_count": 56,
   "id": "2ab357f5",
   "metadata": {},
   "outputs": [
    {
     "data": {
      "text/plain": [
       "array([[1., 0., 0., 0.],\n",
       "       [0., 1., 0., 0.],\n",
       "       [0., 0., 1., 0.],\n",
       "       [0., 0., 0., 1.]])"
      ]
     },
     "execution_count": 56,
     "metadata": {},
     "output_type": "execute_result"
    }
   ],
   "source": [
    "# Creating a Idenity Matrix\n",
    "# Diagonal ah 1 varum\n",
    "# for Eg 4 na 4 rows and 4 columns,5 na 5 rows 5 columns \n",
    "\n",
    "np.identity(4)"
   ]
  },
  {
   "cell_type": "code",
   "execution_count": 57,
   "id": "bf07c948",
   "metadata": {},
   "outputs": [
    {
     "data": {
      "text/plain": [
       "array([[1., 0., 0., 0., 0., 0.],\n",
       "       [0., 1., 0., 0., 0., 0.],\n",
       "       [0., 0., 1., 0., 0., 0.],\n",
       "       [0., 0., 0., 1., 0., 0.],\n",
       "       [0., 0., 0., 0., 1., 0.],\n",
       "       [0., 0., 0., 0., 0., 1.]])"
      ]
     },
     "execution_count": 57,
     "metadata": {},
     "output_type": "execute_result"
    }
   ],
   "source": [
    "np.identity(6)"
   ]
  },
  {
   "cell_type": "code",
   "execution_count": 67,
   "id": "1d79a8f8",
   "metadata": {},
   "outputs": [
    {
     "data": {
      "text/plain": [
       "array([[0., 1., 0.],\n",
       "       [0., 0., 1.],\n",
       "       [0., 0., 0.]])"
      ]
     },
     "execution_count": 67,
     "metadata": {},
     "output_type": "execute_result"
    }
   ],
   "source": [
    "# Eye\n",
    "\n",
    "np.eye(N =3, M = 3, k= 0)\n",
    "\n",
    "\n",
    "# K= 0 Represents Main Diagonal\n",
    "# K > 0 Represents Upper Diagonal\n",
    "# K < 0 Represents Lower Diagonal"
   ]
  },
  {
   "cell_type": "code",
   "execution_count": 68,
   "id": "889dd691",
   "metadata": {},
   "outputs": [
    {
     "data": {
      "text/plain": [
       "array([[0., 1., 0.],\n",
       "       [0., 0., 1.],\n",
       "       [0., 0., 0.]])"
      ]
     },
     "execution_count": 68,
     "metadata": {},
     "output_type": "execute_result"
    }
   ],
   "source": [
    "np.eye(N =3, M = 3, k= 1)"
   ]
  },
  {
   "cell_type": "code",
   "execution_count": 69,
   "id": "7a38192a",
   "metadata": {},
   "outputs": [
    {
     "data": {
      "text/plain": [
       "array([[0., 0., 0.],\n",
       "       [1., 0., 0.],\n",
       "       [0., 1., 0.]])"
      ]
     },
     "execution_count": 69,
     "metadata": {},
     "output_type": "execute_result"
    }
   ],
   "source": [
    "np.eye(N =3, M = 3, k= -1)"
   ]
  },
  {
   "cell_type": "code",
   "execution_count": 72,
   "id": "2e9b8167",
   "metadata": {},
   "outputs": [
    {
     "name": "stdout",
     "output_type": "stream",
     "text": [
      "Student Name <class 'list'>\n",
      "['Kavin' 'Prabhu' 'Vikas' 'Ravi']\n"
     ]
    }
   ],
   "source": [
    "names = ['Kavin','Prabhu','Vikas','Ravi']\n",
    "print ('Student Name', type(names))\n",
    "\n",
    "array_names=np.array(names)\n",
    "print(array_names)"
   ]
  },
  {
   "cell_type": "code",
   "execution_count": 84,
   "id": "1ab2300a",
   "metadata": {},
   "outputs": [
    {
     "name": "stdout",
     "output_type": "stream",
     "text": [
      "Dimensions:  1\n",
      "Shape:  (8,)\n",
      "Size:  8\n",
      "Data Type:  int32\n"
     ]
    }
   ],
   "source": [
    "# One Dimensional\n",
    "one_dimensional = np.array([1,2,3,4,5,6,7,8])\n",
    "\n",
    "print('Dimensions: ', one_dimensional.ndim)\n",
    "print('Shape: ',one_dimensional.shape)\n",
    "print('Size: ', one_dimensional.size)\n",
    "print('Data Type: ',one_dimensional.dtype)"
   ]
  },
  {
   "cell_type": "code",
   "execution_count": 100,
   "id": "2d584f62",
   "metadata": {},
   "outputs": [
    {
     "name": "stdout",
     "output_type": "stream",
     "text": [
      "Dimensions:  2\n",
      "Shape:  (3, 4)\n",
      "Size:  12\n",
      "Data Type:  int32\n"
     ]
    }
   ],
   "source": [
    "# Two Dimensional\n",
    "\n",
    "two_dimensional = np.array([(1,2,3,4),(6,7,8,9),(2,3,5,8)])\n",
    "\n",
    "print('Dimensions: ', two_dimensional.ndim)\n",
    "print('Shape: ',two_dimensional.shape)\n",
    "print('Size: ', two_dimensional.size)\n",
    "print('Data Type: ',two_dimensional.dtype)"
   ]
  },
  {
   "cell_type": "code",
   "execution_count": 91,
   "id": "ba2cf88c",
   "metadata": {},
   "outputs": [
    {
     "name": "stdout",
     "output_type": "stream",
     "text": [
      "Dimensions:  3\n",
      "Shape:  (1, 3, 4)\n",
      "Size:  12\n",
      "Data Type:  int32\n"
     ]
    }
   ],
   "source": [
    "# Three Dimensional \n",
    "three_dimensional = np.array([(((1,2,3,4),(6,7,8,9),(2,3,5,8)))])\n",
    "\n",
    "print('Dimensions: ', three_dimensionall.ndim)\n",
    "print('Shape: ',three_dimensional.shape)\n",
    "print('Size: ', three_dimensional.size)\n",
    "print('Data Type: ',three_dimensional.dtype)"
   ]
  },
  {
   "cell_type": "code",
   "execution_count": 101,
   "id": "c144afb4",
   "metadata": {},
   "outputs": [
    {
     "name": "stdout",
     "output_type": "stream",
     "text": [
      "Dimensions:  1\n",
      "Shape:  (3,)\n",
      "Size:  3\n",
      "Data Type:  <U5\n"
     ]
    }
   ],
   "source": [
    "# One Dimensional using String\n",
    "one_dimensional = np.array(['kavin','ram','mohan'])\n",
    "\n",
    "print('Dimensions: ', one_dimensional.ndim)\n",
    "print('Shape: ',one_dimensional.shape)\n",
    "print('Size: ', one_dimensional.size)\n",
    "print('Data Type: ',one_dimensional.dtype)"
   ]
  },
  {
   "cell_type": "code",
   "execution_count": 148,
   "id": "14f4b06d",
   "metadata": {},
   "outputs": [
    {
     "name": "stdout",
     "output_type": "stream",
     "text": [
      "Dimensions:  2\n",
      "Shape:  (2, 4)\n",
      "Size:  8\n",
      "Data Type:  <U5\n"
     ]
    }
   ],
   "source": [
    "# Two Dimensional using String\n",
    "two_dimensional = np.array([('kavin','ram','mohan','Ravi'),\n",
    "                            ('kavin','ram','mohan','Ravi')])\n",
    "\n",
    "print('Dimensions: ', two_dimensional.ndim)\n",
    "print('Shape: ',two_dimensional.shape)\n",
    "print('Size: ', two_dimensional.size)\n",
    "print('Data Type: ',two_dimensional.dtype)"
   ]
  },
  {
   "cell_type": "code",
   "execution_count": 103,
   "id": "c75aa98c",
   "metadata": {},
   "outputs": [
    {
     "name": "stdout",
     "output_type": "stream",
     "text": [
      "Dimensions:  3\n",
      "Shape:  (1, 3, 3)\n",
      "Size:  9\n",
      "Data Type:  <U5\n"
     ]
    }
   ],
   "source": [
    "# Three Dimensional using String\n",
    "three_dimensional = np.array([((('kavin','ram','mohan'),\n",
    "                                ('kavin','ram','mohan'),\n",
    "                                ('kavin','ram','mohan')))])\n",
    "\n",
    "print('Dimensions: ', three_dimensional.ndim)\n",
    "print('Shape: ', three_dimensional.shape)\n",
    "print('Size: ', three_dimensional.size)\n",
    "print('Data Type: ',three_dimensional.dtype)"
   ]
  },
  {
   "cell_type": "code",
   "execution_count": 136,
   "id": "962a6114",
   "metadata": {},
   "outputs": [
    {
     "name": "stdout",
     "output_type": "stream",
     "text": [
      "Original Array : \n",
      " [[2 3]\n",
      " [5 6]\n",
      " [7 8]]\n",
      "Shape of Original Array:  (3, 2)\n",
      "-------------------------------------------------------------\n",
      "\n",
      "\n",
      "Reshaped Array :\n",
      " [[2 3 5]\n",
      " [6 7 8]]\n",
      "Shape of Reshaped Array :  (2, 3)\n",
      "-------------------------------------------------------------\n"
     ]
    }
   ],
   "source": [
    "# Numpy in Array Methods:\n",
    "\n",
    "\n",
    "original_array = np.array([(2,3),(5,6),(7,8)])\n",
    "print('Original Array : \\n', original_array)\n",
    "print('Shape of Original Array: ', original_array.shape)\n",
    "print(\"-------------------------------------------------------------\")\n",
    "print('\\n')\n",
    "\n",
    "reshaped_array = original_array.reshape(2,3)\n",
    "print('Reshaped Array :\\n', reshaped_array)\n",
    "print('Shape of Reshaped Array : ',reshaped_array.shape)\n",
    "print(\"-------------------------------------------------------------\")\n",
    "\n"
   ]
  },
  {
   "cell_type": "code",
   "execution_count": 140,
   "id": "acf1728f",
   "metadata": {},
   "outputs": [
    {
     "name": "stdout",
     "output_type": "stream",
     "text": [
      "Original Number:  [ 0  1  2  3  4  5  6  7  8  9 10 11 12 13 14 15 16 17 18 19]\n",
      "Shape of Original Number:  (20,)\n",
      "-------------------------------------------------------------\n",
      "Reshaped number : [[ 0  1]\n",
      " [ 2  3]\n",
      " [ 4  5]\n",
      " [ 6  7]\n",
      " [ 8  9]\n",
      " [10 11]\n",
      " [12 13]\n",
      " [14 15]\n",
      " [16 17]\n",
      " [18 19]]\n",
      "Shape of Reshaped number :  (10, 2)\n"
     ]
    }
   ],
   "source": [
    "# Using Range\n",
    "\n",
    "original_num = np.arange(20)\n",
    "print('Original Number: ',original_num)\n",
    "print('Shape of Original Number: ', original_num.shape)\n",
    "print(\"-------------------------------------------------------------\")\n",
    "\n",
    "reshaped_num = original_num.reshape(10,2)\n",
    "print('Reshaped number :', reshaped_num)\n",
    "print('Shape of Reshaped number : ',reshaped_num.shape)\n",
    "\n",
    "\n"
   ]
  },
  {
   "cell_type": "code",
   "execution_count": 147,
   "id": "365ef1d4",
   "metadata": {},
   "outputs": [
    {
     "name": "stdout",
     "output_type": "stream",
     "text": [
      "Indexing ;  45\n",
      "Indexing 55\n",
      "Indexing 88\n",
      "SKip ELements  [55 99 46]\n"
     ]
    }
   ],
   "source": [
    "# Indexing in 1D Array\n",
    "\n",
    "weight = np.array([45,55,88,99,63,46])\n",
    "\n",
    "print('Indexing ; ' ,weight[0])\n",
    "print('Indexing' ,weight[1])\n",
    "print('Indexing' ,weight[2])\n",
    "\n",
    "# How to Skip the Elements (By using :: two times naa 3 kudanum,three times\n",
    "# na 4 kudukkanum because kadaisi exclusive epayume)\n",
    "''' Because We said start from 1 '''\n",
    "print('SKip ELements ',weight[1::2])\n",
    "\n",
    "\n",
    "\n"
   ]
  },
  {
   "cell_type": "code",
   "execution_count": 146,
   "id": "d241ade0",
   "metadata": {},
   "outputs": [
    {
     "name": "stdout",
     "output_type": "stream",
     "text": [
      "Indexing:  [[45 55]\n",
      " [88 99]]\n"
     ]
    }
   ],
   "source": [
    "weight = np.array([(45,55),(88,99),(63,46)])\n",
    "\n",
    "print('Indexing: ',weight[0:2])"
   ]
  },
  {
   "cell_type": "code",
   "execution_count": 178,
   "id": "a614a929",
   "metadata": {},
   "outputs": [
    {
     "name": "stdout",
     "output_type": "stream",
     "text": [
      "Slicing : [[40 50 60]]\n"
     ]
    }
   ],
   "source": [
    "student = np.array([(10,20,30),(40,50,60),(70,80,90)])\n",
    "print('Slicing :', student[1:2])\n",
    "\n"
   ]
  },
  {
   "cell_type": "code",
   "execution_count": 187,
   "id": "cbfc4a45",
   "metadata": {},
   "outputs": [
    {
     "data": {
      "text/plain": [
       "array([[90]])"
      ]
     },
     "execution_count": 187,
     "metadata": {},
     "output_type": "execute_result"
    }
   ],
   "source": [
    "student[2:4,2:3]"
   ]
  },
  {
   "cell_type": "code",
   "execution_count": 196,
   "id": "8a2b461c",
   "metadata": {},
   "outputs": [
    {
     "data": {
      "text/plain": [
       "array([[50]])"
      ]
     },
     "execution_count": 196,
     "metadata": {},
     "output_type": "execute_result"
    }
   ],
   "source": [
    "# Take 50\n",
    "student = np.array([(10,20,30),(40,50,60),(70,80,90)])\n",
    "\n",
    "student[1:2,1:2]"
   ]
  },
  {
   "cell_type": "code",
   "execution_count": 208,
   "id": "9ed11f23",
   "metadata": {},
   "outputs": [
    {
     "name": "stdout",
     "output_type": "stream",
     "text": [
      "Dimensions:  2\n"
     ]
    }
   ],
   "source": [
    "student_rollno = np.array([(1,2,3,4,5,6,7,8,9,10),\n",
    "                                (11,12,13,14,15,16,17,18,19,20),\n",
    "                                (21,22,23,24,25,26,27,28,29,30),\n",
    "                                (31,32,33,34,35,36,37,38,39,40),\n",
    "                                (41,42,43,44,45,46,47,48,49,50),\n",
    "                                (51,52,53,54,55,56,57,58,59,60),\n",
    "                                (61,62,63,64,65,66,67,68,69,70),\n",
    "                                (71,72,73,74,75,76,77,78,79,80),\n",
    "                                (81,82,83,84,85,86,87,88,89,90),\n",
    "                                (91,92,93,94,95,96,97,98,99,100)\n",
    "                                ])\n",
    "print('Dimensions: ', student_rollno.ndim)"
   ]
  },
  {
   "cell_type": "code",
   "execution_count": 217,
   "id": "8ad20d9d",
   "metadata": {},
   "outputs": [
    {
     "data": {
      "text/plain": [
       "array([[88]])"
      ]
     },
     "execution_count": 217,
     "metadata": {},
     "output_type": "execute_result"
    }
   ],
   "source": [
    "student_rollno[8:9,7:8]"
   ]
  },
  {
   "cell_type": "code",
   "execution_count": 224,
   "id": "b7e42683",
   "metadata": {},
   "outputs": [
    {
     "name": "stdout",
     "output_type": "stream",
     "text": [
      "Age :  [38 55 60 90 88]\n"
     ]
    }
   ],
   "source": [
    "# Comparison Operator\n",
    "age = np.array([21,25,26,35,38,55,60,90,88])\n",
    "\n",
    "print('Age : ',age[age>35])"
   ]
  },
  {
   "cell_type": "code",
   "execution_count": 245,
   "id": "e52d7bb6",
   "metadata": {},
   "outputs": [
    {
     "name": "stdout",
     "output_type": "stream",
     "text": [
      "Summation : [ 3  7 11 15 19 23 27]\n",
      "Multiplication : [  2  12  30  56  90 132 182]\n",
      "Division : [0.5        0.75       0.83333333 0.875      0.9        0.91666667\n",
      " 0.92857143]\n",
      "Division : [          1          81       15625     5764801  -808182895 -1192716655\n",
      "  -523170343]\n",
      "Floor Division : [0 0 0 0 0 0 0]\n"
     ]
    }
   ],
   "source": [
    "# Arithmetic Operator\n",
    "odd_numbers = np.array([1,3,5,7,9,11,13]) #1+2=3,3+4=7,5+6=11,7+8=15\n",
    "even_numbers= np.array([2,4,6,8,10,12,14])\n",
    "print('Summation :', odd_numbers+even_numbers)\n",
    "print('Multiplication :', odd_numbers * even_numbers)\n",
    "print('Division :', odd_numbers / even_numbers)\n",
    "print('Exponential :', odd_numbers ** even_numbers)\n",
    "print('Floor Division :', odd_numbers // even_numbers)\n",
    "\n"
   ]
  },
  {
   "cell_type": "code",
   "execution_count": 3,
   "id": "cc2185eb",
   "metadata": {},
   "outputs": [
    {
     "name": "stdout",
     "output_type": "stream",
     "text": [
      "Age :  [35 38 55 60 90 88]\n"
     ]
    }
   ],
   "source": [
    "age = np.array([21,25,26,35,38,55,60,90,88])\n",
    "\n",
    "print('Age : ',age[age>=35])"
   ]
  },
  {
   "cell_type": "code",
   "execution_count": 14,
   "id": "684a4782",
   "metadata": {},
   "outputs": [
    {
     "name": "stdout",
     "output_type": "stream",
     "text": [
      "[[ 1  0  2]\n",
      " [ 4 -2  3]]\n",
      "[[4 0]\n",
      " [2 3]\n",
      " [1 4]]\n"
     ]
    }
   ],
   "source": [
    "# Two Dimension Array\n",
    "\n",
    "num_matrix1 = np.array([[1,0,2],[4,-2,3]])\n",
    "num_matrix2=np.array([[4,0],[2,3],[1,4]])\n",
    "print(num_matrix1)\n",
    "print(num_matrix2)"
   ]
  },
  {
   "cell_type": "code",
   "execution_count": 18,
   "id": "651ddfde",
   "metadata": {},
   "outputs": [
    {
     "name": "stdout",
     "output_type": "stream",
     "text": [
      "[[ 6  8]\n",
      " [15  6]]\n"
     ]
    }
   ],
   "source": [
    "# .dot apdingaruthu 2 cross 3 ipdi irukaratha multiply pannum\n",
    "\n",
    "a = num_matrix1.dot(num_matrix2)\n",
    "print(a)"
   ]
  },
  {
   "cell_type": "code",
   "execution_count": 19,
   "id": "b322dd73",
   "metadata": {},
   "outputs": [
    {
     "name": "stdout",
     "output_type": "stream",
     "text": [
      "Minimum Age:  21\n"
     ]
    }
   ],
   "source": [
    "age = np.array([25,35,97,89,21,27])\n",
    "print('Minimum Age: ',age.min())"
   ]
  },
  {
   "cell_type": "code",
   "execution_count": 30,
   "id": "7de1da15",
   "metadata": {},
   "outputs": [
    {
     "name": "stdout",
     "output_type": "stream",
     "text": [
      "Maximum Age:  97\n",
      "Variance :  990.6666666666666\n",
      "Standard Deviation :  31.47485769096767\n",
      "Sum of all the Elements :  294\n",
      "Mean of All the Elements :  49.0\n",
      "Square :  [ 625 1225 9409 7921  441  729]\n",
      "Power :  [ 15625  42875 912673 704969   9261  19683]\n"
     ]
    }
   ],
   "source": [
    "age = np.array([25,35,97,89,21,27])\n",
    "print('Maximum Age: ',age.max())\n",
    "print('Variance : ', age.var())\n",
    "print('Standard Deviation : ', age.std())\n",
    "print('Sum of all the Elements : ', age.sum())\n",
    "print('Mean of All the Elements : ', age.mean())\n",
    "print('Square : ', np.square(age))\n",
    "print('Power : ', np.power(age, 3))"
   ]
  },
  {
   "cell_type": "code",
   "execution_count": 35,
   "id": "aaedb367",
   "metadata": {},
   "outputs": [
    {
     "name": "stdout",
     "output_type": "stream",
     "text": [
      "[[ 1  0  2]\n",
      " [ 4 -2  3]]\n",
      "[[ 1  4]\n",
      " [ 0 -2]\n",
      " [ 2  3]]\n"
     ]
    }
   ],
   "source": [
    "# Transpose in 2 D \n",
    "matrix1 = np.array([[1,0,2],[4,-2,3]])\n",
    "matrix2=np.array([[4,0],[2,3],[1,4]])\n",
    "print(matrix1)\n",
    "print(np.transpose(matrix1))"
   ]
  },
  {
   "cell_type": "code",
   "execution_count": 36,
   "id": "0c604d44",
   "metadata": {},
   "outputs": [
    {
     "data": {
      "text/plain": [
       "array([25, 26, 55, 88, 65, 23, 42, 67, 84, 52, 75, 65, 61, 23, 46])"
      ]
     },
     "execution_count": 36,
     "metadata": {},
     "output_type": "execute_result"
    }
   ],
   "source": [
    "# Concationation of 1 Dimensional Array\n",
    "\n",
    "order1 = np.array([25,26,55,88,65])\n",
    "order2= np.array([23,42,67,84,52])\n",
    "order3= np.array([75,65,61,23,46])\n",
    "np.concatenate([order1,order2,order3])"
   ]
  },
  {
   "cell_type": "code",
   "execution_count": 54,
   "id": "7bd32a8b",
   "metadata": {},
   "outputs": [
    {
     "name": "stdout",
     "output_type": "stream",
     "text": [
      "Row wise Concatenation : \n",
      " [[ 1  3  5  7  9]\n",
      " [11 13 15 17 19]\n",
      " [ 2  4  6  8 10]\n",
      " [12 14 16 18 20]]\n",
      "\n",
      "\n",
      "Column wise Concatenation : \n",
      " [[ 1  3  5  7  9  2  4  6  8 10]\n",
      " [11 13 15 17 19 12 14 16 18 20]]\n"
     ]
    }
   ],
   "source": [
    "#  concate Two DImensional 2 Cross 2:\n",
    "\n",
    "odd_array= np.array([[1,3,5,7,9],[11,13,15,17,19]])\n",
    "even_array = np.array([[2,4,6,8,10],[12,14,16,18,20]])\n",
    "\n",
    "\n",
    "print('Row wise Concatenation : \\n', \n",
    "      np.concatenate([odd_array, even_array]))\n",
    "print('\\n')\n",
    "print('Column wise Concatenation : \\n', \n",
    "      np.concatenate([odd_array, even_array], axis = 1))"
   ]
  },
  {
   "cell_type": "code",
   "execution_count": 66,
   "id": "df52ab6f",
   "metadata": {
    "scrolled": true
   },
   "outputs": [
    {
     "name": "stdout",
     "output_type": "stream",
     "text": [
      "Row wise Concatenation : \n",
      " [[[ 1  3  5  7  9]\n",
      "  [11 13 15 17 19]]\n",
      "\n",
      " [[ 2  4  6  8 10]\n",
      "  [12 14 16 18 20]]]\n",
      "\n",
      "\n",
      "Column wise Concatenation : \n",
      " [[[ 1  3  5  7  9]\n",
      "  [11 13 15 17 19]\n",
      "  [ 2  4  6  8 10]\n",
      "  [12 14 16 18 20]]]\n"
     ]
    }
   ],
   "source": [
    "# Concate Three Dimensional Array:\n",
    "\n",
    "odd= np.array([[[1,3,5,7,9],[11,13,15,17,19]]])\n",
    "even= np.array([[[2,4,6,8,10],[12,14,16,18,20]]])\n",
    "\n",
    "\n",
    "print('Row wise Concatenation : \\n', \n",
    "      np.concatenate([odd, even]))\n",
    "print('\\n')\n",
    "print('Column wise Concatenation : \\n', \n",
    "      np.concatenate([odd, even],axis=1))"
   ]
  },
  {
   "cell_type": "markdown",
   "id": "ebd3ea98",
   "metadata": {},
   "source": [
    "# Two Dimensational\n",
    "\"\"\"Stacking - IF we have 2 Dimensational Array\n",
    "It will Convert into 3 Dimensational Array \"\"\""
   ]
  },
  {
   "cell_type": "code",
   "execution_count": 72,
   "id": "cbdbbe64",
   "metadata": {},
   "outputs": [
    {
     "name": "stdout",
     "output_type": "stream",
     "text": [
      "Stacking through Arrays : \n",
      " [[[ 1  3]\n",
      "  [ 5  7]\n",
      "  [11 13]\n",
      "  [15 17]]\n",
      "\n",
      " [[ 2  4]\n",
      "  [ 6  8]\n",
      "  [12 14]\n",
      "  [16 18]]]\n",
      "Stacking and its Dimensions :\n",
      "  3\n"
     ]
    }
   ],
   "source": [
    "#Stacking\n",
    "odd1 = np.array([[1,3],[5,7],[11,13],[15,17]])\n",
    "even2 = np.array([[2,4],[6,8,],[12,14],[16,18]])\n",
    "\n",
    "\n",
    "print('Stacking through Arrays : \\n', np.stack([odd1, even2]))\n",
    "\n",
    "print('Stacking and its Dimensions :\\n ', \n",
    "      np.ndim(np.stack([odd1, even2], axis = 1)))"
   ]
  },
  {
   "cell_type": "markdown",
   "id": "0f67300c",
   "metadata": {},
   "source": [
    "# HORIZONTAL STACK"
   ]
  },
  {
   "cell_type": "code",
   "execution_count": 73,
   "id": "3eb8b8f4",
   "metadata": {
    "scrolled": true
   },
   "outputs": [
    {
     "name": "stdout",
     "output_type": "stream",
     "text": [
      "Horizontal Stacking through Arrays : \n",
      " [[1 3 2 4]\n",
      " [5 7 6 8]]\n"
     ]
    }
   ],
   "source": [
    "# Horizontal ah Stack agum\n",
    "lenovo = np.array([(1,3),(5,7)])\n",
    "dell = ([(2,4),(6,8)])\n",
    "\n",
    "print('Horizontal Stacking through Arrays : \\n', np.hstack([lenovo, dell]))\n",
    "\n"
   ]
  },
  {
   "cell_type": "markdown",
   "id": "3b17dd4b",
   "metadata": {},
   "source": [
    "# Vertical Stacking"
   ]
  },
  {
   "cell_type": "code",
   "execution_count": 74,
   "id": "0e80f4c1",
   "metadata": {},
   "outputs": [
    {
     "name": "stdout",
     "output_type": "stream",
     "text": [
      "Vertical Stacking through Arrays : \n",
      " [[1 3]\n",
      " [5 7]\n",
      " [2 4]\n",
      " [6 8]]\n"
     ]
    }
   ],
   "source": [
    "# Vertical ah Stack agum\n",
    "\n",
    "lenovo = np.array([(1,3),(5,7)])\n",
    "dell = ([(2,4),(6,8)])\n",
    "\n",
    "print('Vertical Stacking through Arrays : \\n', np.vstack([lenovo, dell]))"
   ]
  },
  {
   "cell_type": "markdown",
   "id": "e50101b9",
   "metadata": {},
   "source": [
    "# Depth Wise Stacking"
   ]
  },
  {
   "cell_type": "code",
   "execution_count": 77,
   "id": "91450df1",
   "metadata": {
    "scrolled": false
   },
   "outputs": [
    {
     "name": "stdout",
     "output_type": "stream",
     "text": [
      "Depth Wise Stacking through Arrays : \n",
      " [[[1 2]\n",
      "  [3 4]]\n",
      "\n",
      " [[5 6]\n",
      "  [7 8]]]\n"
     ]
    }
   ],
   "source": [
    "lenovo = np.array([(1,3),(5,7)])\n",
    "dell = np.array([(2,4),(6,8)])\n",
    "\n",
    "print('Depth Wise Stacking through Arrays : \\n', np.dstack([lenovo, dell]))"
   ]
  },
  {
   "cell_type": "markdown",
   "id": "bc263998",
   "metadata": {},
   "source": [
    "## Column Stack\n",
    "Column Stack um Horizontal Stack um Onnu than"
   ]
  },
  {
   "cell_type": "code",
   "execution_count": 79,
   "id": "e175a626",
   "metadata": {},
   "outputs": [
    {
     "name": "stdout",
     "output_type": "stream",
     "text": [
      "Column Stacking through Arrays : \n",
      " [[1 3 2 4]\n",
      " [5 7 6 8]]\n"
     ]
    }
   ],
   "source": [
    "lenovo = np.array([(1,3),(5,7)])\n",
    "dell = np.array([(2,4),(6,8)])\n",
    "\n",
    "print('Column Stacking through Arrays : \\n', np.column_stack([lenovo, dell])) "
   ]
  },
  {
   "cell_type": "code",
   "execution_count": 81,
   "id": "d43cb9d3",
   "metadata": {},
   "outputs": [
    {
     "data": {
      "text/plain": [
       "array([[0., 0., 1., 1.],\n",
       "       [0., 0., 1., 1.],\n",
       "       [0., 0., 1., 1.],\n",
       "       [0., 0., 1., 1.]])"
      ]
     },
     "execution_count": 81,
     "metadata": {},
     "output_type": "execute_result"
    }
   ],
   "source": [
    "m1 = np.zeros((2, 2))\n",
    "m2 = np.ones((2, 2))\n",
    "m3 = np.zeros((2, 2))\n",
    "m4 = np.ones((2, 2))\n",
    "\n",
    "a = np.block([[m1, m2], [m3, m4]])\n",
    "a"
   ]
  },
  {
   "cell_type": "code",
   "execution_count": 82,
   "id": "5e20c3dd",
   "metadata": {
    "scrolled": true
   },
   "outputs": [
    {
     "data": {
      "text/plain": [
       "array([[0., 0.],\n",
       "       [0., 0.]])"
      ]
     },
     "execution_count": 82,
     "metadata": {},
     "output_type": "execute_result"
    }
   ],
   "source": [
    "m1 = np.zeros((2, 2))\n",
    "m1"
   ]
  },
  {
   "cell_type": "markdown",
   "id": "9dc0a7a3",
   "metadata": {},
   "source": [
    "# Spliting \n",
    "- keyword split\n",
    "- for arange 9 means split value should be equal"
   ]
  },
  {
   "cell_type": "code",
   "execution_count": 87,
   "id": "2adad3e5",
   "metadata": {},
   "outputs": [
    {
     "data": {
      "text/plain": [
       "[array([0, 1, 2]), array([3, 4, 5]), array([6, 7, 8])]"
      ]
     },
     "execution_count": 87,
     "metadata": {},
     "output_type": "execute_result"
    }
   ],
   "source": [
    "#Split:\n",
    "one_d = np.arange(9)\n",
    "var_1 = np.split(one_d,3)\n",
    "var_1"
   ]
  },
  {
   "cell_type": "code",
   "execution_count": 34,
   "id": "4b53b870",
   "metadata": {
    "scrolled": false
   },
   "outputs": [
    {
     "name": "stdout",
     "output_type": "stream",
     "text": [
      "[array([[[2],\n",
      "        [2],\n",
      "        [7]]]), array([[[4],\n",
      "        [4],\n",
      "        [5]]]), array([[[6],\n",
      "        [5],\n",
      "        [8]]]), array([[[8],\n",
      "        [6],\n",
      "        [6]]]), array([[[10],\n",
      "        [ 7],\n",
      "        [ 2]]])]\n"
     ]
    }
   ],
   "source": [
    "#Dsplit_d \n",
    "# Dplit works only for 3 Dimensitional Array\n",
    "ones= np.array([[[2,4,6,8,10],[2,4,5,6,7],[7,5,8,6,2]]])\n",
    "var_2 = np.dsplit(ones,5)\n",
    "print(var_2)\n"
   ]
  },
  {
   "cell_type": "code",
   "execution_count": 37,
   "id": "ae9b2077",
   "metadata": {},
   "outputs": [
    {
     "name": "stdout",
     "output_type": "stream",
     "text": [
      "[ 2  4  6  8 10  2  4  5  6  7  7  5  8  6  2]\n"
     ]
    }
   ],
   "source": [
    "# Flatten the Array\n",
    "# It will output in a single line & Keyword is FLatten\n",
    "char= np.array([[[2,4,6,8,10],[2,4,5,6,7],[7,5,8,6,2]]])\n",
    "var_3 = char.flatten()\n",
    "print(var_3)"
   ]
  },
  {
   "cell_type": "code",
   "execution_count": null,
   "id": "347ce012",
   "metadata": {},
   "outputs": [],
   "source": []
  }
 ],
 "metadata": {
  "kernelspec": {
   "display_name": "Python 3 (ipykernel)",
   "language": "python",
   "name": "python3"
  },
  "language_info": {
   "codemirror_mode": {
    "name": "ipython",
    "version": 3
   },
   "file_extension": ".py",
   "mimetype": "text/x-python",
   "name": "python",
   "nbconvert_exporter": "python",
   "pygments_lexer": "ipython3",
   "version": "3.11.3"
  }
 },
 "nbformat": 4,
 "nbformat_minor": 5
}
