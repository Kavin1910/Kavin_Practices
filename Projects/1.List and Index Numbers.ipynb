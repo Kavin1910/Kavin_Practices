{
 "cells": [
  {
   "cell_type": "code",
   "execution_count": null,
   "id": "1cf8d5c0",
   "metadata": {},
   "outputs": [],
   "source": [
    "# List:\n",
    "\n",
    "--It is a COntainer\n",
    "--It can take multiple data types\n",
    "-- List is mutable(you can replace or add data in list)\n",
    "-- It comes with square braces"
   ]
  },
  {
   "cell_type": "code",
   "execution_count": 1,
   "id": "78ab2347",
   "metadata": {},
   "outputs": [
    {
     "name": "stdout",
     "output_type": "stream",
     "text": [
      "[1, 2, 3, 4, 5, 6, 7, 8, 9, 10]\n"
     ]
    }
   ],
   "source": [
    "a = [1,2,3,4,5,6,7,8,9,10]\n",
    "print(a)"
   ]
  },
  {
   "cell_type": "code",
   "execution_count": 2,
   "id": "f6f7db96",
   "metadata": {},
   "outputs": [
    {
     "name": "stdout",
     "output_type": "stream",
     "text": [
      "[1, 2, 3, 4, 5, 6, 7, 8, 9, 10]\n",
      "<class 'list'>\n"
     ]
    }
   ],
   "source": [
    "a = [1,2,3,4,5,6,7,8,9,10]\n",
    "print(a)\n",
    "print(type(a))"
   ]
  },
  {
   "cell_type": "code",
   "execution_count": 22,
   "id": "bf3cc221",
   "metadata": {},
   "outputs": [
    {
     "name": "stdout",
     "output_type": "stream",
     "text": [
      "['kavin', True, 2.0]\n"
     ]
    }
   ],
   "source": [
    "#? Why double quotes is not there for true\n",
    "a = [\"kavin\",True, 2.0]\n",
    "print (a)"
   ]
  },
  {
   "cell_type": "code",
   "execution_count": 23,
   "id": "768c9d8a",
   "metadata": {},
   "outputs": [
    {
     "name": "stdout",
     "output_type": "stream",
     "text": [
      "<class 'bool'>\n"
     ]
    }
   ],
   "source": [
    "a = True\n",
    "print(type(a))"
   ]
  },
  {
   "cell_type": "code",
   "execution_count": 24,
   "id": "a094f731",
   "metadata": {},
   "outputs": [
    {
     "name": "stdout",
     "output_type": "stream",
     "text": [
      "[1, 2, 3, 4, 5]\n"
     ]
    }
   ],
   "source": [
    "a = [1,2,3,4,5]\n",
    "print(a)"
   ]
  },
  {
   "cell_type": "code",
   "execution_count": 25,
   "id": "fa0a4e7f",
   "metadata": {},
   "outputs": [
    {
     "name": "stdout",
     "output_type": "stream",
     "text": [
      "[1, 2, 3, 4, 5, 6]\n"
     ]
    }
   ],
   "source": [
    "a.append(6)\n",
    "print(a)"
   ]
  },
  {
   "cell_type": "code",
   "execution_count": 26,
   "id": "33a239a3",
   "metadata": {},
   "outputs": [
    {
     "name": "stdout",
     "output_type": "stream",
     "text": [
      "[1, 2, 3, 4, 5, 6, 7]\n"
     ]
    }
   ],
   "source": [
    "a.append(7)\n",
    "print(a)"
   ]
  },
  {
   "cell_type": "code",
   "execution_count": 27,
   "id": "c57c763d",
   "metadata": {},
   "outputs": [
    {
     "name": "stdout",
     "output_type": "stream",
     "text": [
      "[1, 2, 3, 4, 5, 6, 7, 'Kavin']\n"
     ]
    }
   ],
   "source": [
    "a.append(\"Kavin\")\n",
    "print(a)"
   ]
  },
  {
   "cell_type": "code",
   "execution_count": 33,
   "id": "dbbc71fe",
   "metadata": {},
   "outputs": [
    {
     "name": "stdout",
     "output_type": "stream",
     "text": [
      "[1, 2, 3, 5, 6, 7, 'Kavin', 'Navin', 'Pravin', 'Navin', 'Pravin']\n"
     ]
    }
   ],
   "source": [
    "a.extend([\"Navin\",\"Pravin\"])\n",
    "print(a)"
   ]
  },
  {
   "cell_type": "code",
   "execution_count": 36,
   "id": "3e9ec404",
   "metadata": {},
   "outputs": [
    {
     "name": "stdout",
     "output_type": "stream",
     "text": [
      "[1, 2, 3, 5, 7, 'Kavin', 'Navin', 'Pravin', 'Navin', 'Pravin']\n"
     ]
    }
   ],
   "source": [
    "a.remove(6)\n",
    "print(a)"
   ]
  },
  {
   "cell_type": "code",
   "execution_count": 24,
   "id": "1069c879",
   "metadata": {},
   "outputs": [
    {
     "name": "stdout",
     "output_type": "stream",
     "text": [
      "[1, 2, 3, 4, 5, 6, 7, 8, 9, 10, 11, 12, 13, 14, 15, 16]\n"
     ]
    }
   ],
   "source": [
    "ab = [1,2,3,4,5,6,7,8,9,10,11,12,13,14,15,16]\n",
    "print(ab)"
   ]
  },
  {
   "cell_type": "code",
   "execution_count": 25,
   "id": "52e8d17d",
   "metadata": {},
   "outputs": [
    {
     "data": {
      "text/plain": [
       "16"
      ]
     },
     "execution_count": 25,
     "metadata": {},
     "output_type": "execute_result"
    }
   ],
   "source": [
    "ab[-1]"
   ]
  },
  {
   "cell_type": "code",
   "execution_count": 26,
   "id": "aa891c9a",
   "metadata": {},
   "outputs": [
    {
     "data": {
      "text/plain": [
       "1"
      ]
     },
     "execution_count": 26,
     "metadata": {},
     "output_type": "execute_result"
    }
   ],
   "source": [
    "ab[0]\n"
   ]
  },
  {
   "cell_type": "code",
   "execution_count": 27,
   "id": "e5417e2a",
   "metadata": {},
   "outputs": [
    {
     "data": {
      "text/plain": [
       "6"
      ]
     },
     "execution_count": 27,
     "metadata": {},
     "output_type": "execute_result"
    }
   ],
   "source": [
    "ab[5]"
   ]
  },
  {
   "cell_type": "code",
   "execution_count": 28,
   "id": "e0656699",
   "metadata": {},
   "outputs": [
    {
     "data": {
      "text/plain": [
       "[1, 2, 3, 4, 5, 6, 7, 8, 9, 10, 11, 12, 13, 14, 15, 16]"
      ]
     },
     "execution_count": 28,
     "metadata": {},
     "output_type": "execute_result"
    }
   ],
   "source": [
    "ab[:]"
   ]
  },
  {
   "cell_type": "code",
   "execution_count": 29,
   "id": "0b7ebbb1",
   "metadata": {},
   "outputs": [
    {
     "data": {
      "text/plain": [
       "[1, 2, 3, 4, 5, 6, 7, 8, 9]"
      ]
     },
     "execution_count": 29,
     "metadata": {},
     "output_type": "execute_result"
    }
   ],
   "source": [
    "ab[:9]"
   ]
  },
  {
   "cell_type": "code",
   "execution_count": 30,
   "id": "4729eca6",
   "metadata": {},
   "outputs": [
    {
     "data": {
      "text/plain": [
       "[1, 2, 3, 4, 5, 6, 7, 8, 9, 10, 11, 12, 13, 14, 15, 16]"
      ]
     },
     "execution_count": 30,
     "metadata": {},
     "output_type": "execute_result"
    }
   ],
   "source": [
    "ab[0:]"
   ]
  },
  {
   "cell_type": "code",
   "execution_count": 31,
   "id": "3586f649",
   "metadata": {},
   "outputs": [
    {
     "data": {
      "text/plain": [
       "15"
      ]
     },
     "execution_count": 31,
     "metadata": {},
     "output_type": "execute_result"
    }
   ],
   "source": [
    "ab[-2]"
   ]
  },
  {
   "cell_type": "code",
   "execution_count": 32,
   "id": "069d3ef5",
   "metadata": {},
   "outputs": [
    {
     "name": "stdout",
     "output_type": "stream",
     "text": [
      "[99, 1, 2, 3, 4, 5, 6, 7, 8, 9, 10, 11, 12, 13, 14, 15, 16]\n"
     ]
    }
   ],
   "source": [
    "ab.insert(0,99)\n",
    "print(ab)"
   ]
  },
  {
   "cell_type": "code",
   "execution_count": 55,
   "id": "573044a0",
   "metadata": {},
   "outputs": [],
   "source": [
    "ab.clear()"
   ]
  },
  {
   "cell_type": "code",
   "execution_count": 56,
   "id": "0e6a7f7f",
   "metadata": {},
   "outputs": [
    {
     "name": "stdout",
     "output_type": "stream",
     "text": [
      "[]\n"
     ]
    }
   ],
   "source": [
    "print(ab)"
   ]
  },
  {
   "cell_type": "code",
   "execution_count": 59,
   "id": "dc4f0f5e",
   "metadata": {},
   "outputs": [
    {
     "name": "stdout",
     "output_type": "stream",
     "text": [
      "['aple', 'Banana', 'Cherry', 'Kiwi']\n"
     ]
    }
   ],
   "source": [
    "# Question fruits=[\"Apple\",\"Banana\",\"Cherry\",\"Kiwi\"]\n",
    "#Using For Loop Only\n",
    "\n",
    "fruits = ['apple', 'banana, 'cherry'\n",
    "print(fruits)\n",
    "        "
   ]
  },
  {
   "cell_type": "code",
   "execution_count": 5,
   "id": "95546720",
   "metadata": {},
   "outputs": [
    {
     "data": {
      "text/plain": [
       "['Apple', 'Banana']"
      ]
     },
     "execution_count": 5,
     "metadata": {},
     "output_type": "execute_result"
    }
   ],
   "source": [
    "fruits[:2]"
   ]
  },
  {
   "cell_type": "code",
   "execution_count": 16,
   "id": "874207c4",
   "metadata": {},
   "outputs": [
    {
     "name": "stdout",
     "output_type": "stream",
     "text": [
      "<class 'list'>\n"
     ]
    }
   ],
   "source": [
    "fruits = [\"Apple\",\"Banana\",\"Cherry\",\"Kiwi\"]\n",
    "print(type(fruits))\n",
    "  "
   ]
  },
  {
   "cell_type": "code",
   "execution_count": 12,
   "id": "e923a14c",
   "metadata": {},
   "outputs": [
    {
     "data": {
      "text/plain": [
       "['Apple', 'Banana', 'Cherry']"
      ]
     },
     "execution_count": 12,
     "metadata": {},
     "output_type": "execute_result"
    }
   ],
   "source": [
    "fruits = [\"Apple\",\"Banana\",\"Cherry\",\"Kiwi\"]\n",
    "fruits[0:3]"
   ]
  },
  {
   "cell_type": "code",
   "execution_count": 46,
   "id": "f3f2392c",
   "metadata": {},
   "outputs": [
    {
     "name": "stdout",
     "output_type": "stream",
     "text": [
      "Banana\n",
      "Banana\n",
      "Banana\n",
      "Banana\n"
     ]
    }
   ],
   "source": [
    "fruits = [\"Apple\",\"Banana\",\"Cherry\",\"Kiwi\"]\n",
    "\n",
    "\n",
    "for a in fruits:\n",
    "        if \"a\" in \"Banana\":\n",
    "            print(\"Banana\")\n",
    "        elif \"a\" in \"Apple\":\n",
    "            print(\"Apple\")\n",
    "            \n",
    "            \n",
    "        \n"
   ]
  },
  {
   "cell_type": "code",
   "execution_count": 54,
   "id": "8a582480",
   "metadata": {},
   "outputs": [
    {
     "name": "stdout",
     "output_type": "stream",
     "text": [
      "Banana\n"
     ]
    }
   ],
   "source": [
    "fruits = [\"apple\",\"Banana\",\"Cherry\",\"Kiwi\"]\n",
    "for a in fruits:\n",
    "        if a in \"Banana\":\n",
    "            print(\"Banana\")\n",
    "        elif a in \"Apple\":\n",
    "            print(\"Apple\")"
   ]
  },
  {
   "cell_type": "code",
   "execution_count": 64,
   "id": "5c78788b",
   "metadata": {},
   "outputs": [
    {
     "name": "stdout",
     "output_type": "stream",
     "text": [
      "Banana Apple\n"
     ]
    }
   ],
   "source": [
    "fruits = [\"apple\",\"Banana\",\"Cherry\",\"Kiwi\"]\n",
    "for a in fruits:\n",
    "        if a in \"Banana\" and \"Apple\":\n",
    "            print(\"Banana\",\"Apple\")"
   ]
  },
  {
   "cell_type": "code",
   "execution_count": 65,
   "id": "e2447f08",
   "metadata": {},
   "outputs": [
    {
     "name": "stdout",
     "output_type": "stream",
     "text": [
      "apple\n",
      "Banana\n"
     ]
    }
   ],
   "source": [
    "for i in fruits:\n",
    "    if 'a' in i:\n",
    "        print(i)"
   ]
  },
  {
   "cell_type": "code",
   "execution_count": 5,
   "id": "f9eeebae",
   "metadata": {},
   "outputs": [
    {
     "name": "stdout",
     "output_type": "stream",
     "text": [
      "apple Banana Kiwi "
     ]
    }
   ],
   "source": [
    "fruits = [\"apple\",\"Banana\",\"Cherry\",\"Kiwi\"]\n",
    "for i in fruits:\n",
    "    if \"a\" in i or \"i\" in i:\n",
    "        print(i,end = \" \")"
   ]
  },
  {
   "cell_type": "code",
   "execution_count": 16,
   "id": "3c3fd6f2",
   "metadata": {
    "scrolled": true
   },
   "outputs": [
    {
     "name": "stdout",
     "output_type": "stream",
     "text": [
      "[]\n"
     ]
    }
   ],
   "source": [
    "a = []\n",
    "print(a)"
   ]
  },
  {
   "cell_type": "code",
   "execution_count": 17,
   "id": "55d485a9",
   "metadata": {},
   "outputs": [
    {
     "name": "stdout",
     "output_type": "stream",
     "text": [
      "['apple']\n"
     ]
    }
   ],
   "source": [
    "a.append(\"apple\")\n",
    "print(a)"
   ]
  },
  {
   "cell_type": "code",
   "execution_count": 18,
   "id": "0e9404c8",
   "metadata": {},
   "outputs": [
    {
     "name": "stdout",
     "output_type": "stream",
     "text": [
      "['apple', 'banana']\n"
     ]
    }
   ],
   "source": [
    "a.append(\"banana\")\n",
    "print(a)"
   ]
  },
  {
   "cell_type": "code",
   "execution_count": 19,
   "id": "6a99d364",
   "metadata": {},
   "outputs": [
    {
     "name": "stdout",
     "output_type": "stream",
     "text": [
      "['apple', 'banana', 'Kiwi']\n"
     ]
    }
   ],
   "source": [
    "a.append(\"Kiwi\")\n",
    "print(a)"
   ]
  },
  {
   "cell_type": "code",
   "execution_count": 27,
   "id": "ab48ce0a",
   "metadata": {},
   "outputs": [
    {
     "name": "stdout",
     "output_type": "stream",
     "text": [
      "apple Banana Kiwi ['apple', 'Banana', 'Kiwi']\n"
     ]
    }
   ],
   "source": [
    "fruits = [\"apple\",\"Banana\",\"Cherry\",\"Kiwi\"]\n",
    "b = []\n",
    "for i in fruits:\n",
    "    if \"a\" in i or \"i\" in i:\n",
    "        print(i,end = \" \")\n",
    "        b.append(i)\n",
    "print(b)"
   ]
  },
  {
   "cell_type": "code",
   "execution_count": 29,
   "id": "68773196",
   "metadata": {},
   "outputs": [
    {
     "name": "stdout",
     "output_type": "stream",
     "text": [
      "['apple', 'Banana', 'Kiwi']\n"
     ]
    }
   ],
   "source": [
    "fruits = [\"apple\",\"Banana\",\"Cherry\",\"Kiwi\"]\n",
    "b = []\n",
    "for i in fruits:\n",
    "    if \"a\" in i or \"i\" in i:\n",
    "        b.append(i)\n",
    "print(b)"
   ]
  },
  {
   "cell_type": "code",
   "execution_count": 31,
   "id": "d69eac77",
   "metadata": {},
   "outputs": [
    {
     "name": "stdout",
     "output_type": "stream",
     "text": [
      "Summation = 67\n"
     ]
    }
   ],
   "source": [
    "a = [-1,3,5,-9,77,-8]\n",
    "sum = 0\n",
    "\n",
    "for i in a:\n",
    "    sum = sum + i\n",
    "print(f\"Summation = {sum}\")"
   ]
  },
  {
   "cell_type": "code",
   "execution_count": 32,
   "id": "03a64754",
   "metadata": {},
   "outputs": [
    {
     "data": {
      "text/plain": [
       "67"
      ]
     },
     "execution_count": 32,
     "metadata": {},
     "output_type": "execute_result"
    }
   ],
   "source": [
    "-1+3+5-9+77-8"
   ]
  },
  {
   "cell_type": "code",
   "execution_count": 37,
   "id": "7436cc44",
   "metadata": {},
   "outputs": [
    {
     "name": "stdout",
     "output_type": "stream",
     "text": [
      "Summation = -83160\n"
     ]
    }
   ],
   "source": [
    "a = [-1,3,5,-9,77,-8]\n",
    "sum = 1\n",
    "\n",
    "for i in a:\n",
    "    sum = sum * i\n",
    "print(f\"Summation = {sum}\")"
   ]
  },
  {
   "cell_type": "code",
   "execution_count": 34,
   "id": "d8e41226",
   "metadata": {},
   "outputs": [
    {
     "data": {
      "text/plain": [
       "-83160"
      ]
     },
     "execution_count": 34,
     "metadata": {},
     "output_type": "execute_result"
    }
   ],
   "source": [
    "-1*3*5*-9*77*-8"
   ]
  },
  {
   "cell_type": "code",
   "execution_count": 5,
   "id": "23bc596d",
   "metadata": {},
   "outputs": [
    {
     "name": "stdout",
     "output_type": "stream",
     "text": [
      "102 is the Largest Value\n"
     ]
    }
   ],
   "source": [
    "a = [1,5,17,99,102,34]\n",
    "i = 0\n",
    "for i in a :\n",
    "    if 102>1 and 102>5 and 102>5 and 102>17 and 102>99 and 102>34:\n",
    "        i = i + 1\n",
    "print(\"102 is the Largest Value\")        "
   ]
  },
  {
   "cell_type": "code",
   "execution_count": 66,
   "id": "bd136430",
   "metadata": {},
   "outputs": [
    {
     "name": "stdout",
     "output_type": "stream",
     "text": [
      "1\n"
     ]
    }
   ],
   "source": [
    "a = [1,5,17,99,102,34]\n",
    "\n",
    "maximum = a[0]\n",
    "\n",
    "for i in a:\n",
    "    if i < maximum:\n",
    "        maximum = i\n",
    "print(maximum)"
   ]
  },
  {
   "cell_type": "code",
   "execution_count": 11,
   "id": "0afaa47c",
   "metadata": {},
   "outputs": [
    {
     "data": {
      "text/plain": [
       "['i', 'am', 'here']"
      ]
     },
     "execution_count": 11,
     "metadata": {},
     "output_type": "execute_result"
    }
   ],
   "source": [
    "# Spilt will not work for list[]:\n",
    "\n",
    "a = 'i am here'\n",
    "a.split(' ')"
   ]
  },
  {
   "cell_type": "code",
   "execution_count": 17,
   "id": "d4d08b8a",
   "metadata": {},
   "outputs": [
    {
     "name": "stdout",
     "output_type": "stream",
     "text": [
      "Not an empty List\n"
     ]
    }
   ],
   "source": [
    "# Write a python program to check a list is empty or not :  \n",
    "\n",
    "a = [1,2,3,4,5]\n",
    "\n",
    "if a ==[ ]:\n",
    "    print(a, \"empty\")\n",
    "else:\n",
    "    print(\"Not an empty List\")"
   ]
  },
  {
   "cell_type": "code",
   "execution_count": 48,
   "id": "1724a7ee",
   "metadata": {},
   "outputs": [
    {
     "name": "stdout",
     "output_type": "stream",
     "text": [
      "Enter a Number3\n",
      "['Find', 'List', 'Words', 'that', 'Longer', 'than', 'from', 'given', 'list', 'words']\n"
     ]
    }
   ],
   "source": [
    "\"\"\"Write a Python program to find the list of words that are \n",
    "longer than than n from a given list of words\n",
    "\n",
    "Sample word = Find the List of Words that are Longer than n from \n",
    "given list of words\"\"\"\n",
    "\n",
    "num = int(input(\"Enter a Number\"))\n",
    "word = \"Find the List of Words that are Longer than n from given list of words\"\n",
    "text = word.split( \" \")\n",
    "new_list=[]\n",
    "\n",
    "for i in text:\n",
    "    if len(i)>num:\n",
    "        new_list.append(i)\n",
    "print(new_list)"
   ]
  },
  {
   "cell_type": "code",
   "execution_count": 47,
   "id": "7b191bcb",
   "metadata": {},
   "outputs": [],
   "source": [
    "a = [87979]"
   ]
  },
  {
   "cell_type": "code",
   "execution_count": 15,
   "id": "42b354c1",
   "metadata": {},
   "outputs": [
    {
     "name": "stdout",
     "output_type": "stream",
     "text": [
      "[3, 4]\n"
     ]
    }
   ],
   "source": [
    "a = list([3, 4])\n",
    "print(a)"
   ]
  },
  {
   "cell_type": "code",
   "execution_count": 74,
   "id": "62693bad",
   "metadata": {},
   "outputs": [
    {
     "name": "stdout",
     "output_type": "stream",
     "text": [
      "5\n"
     ]
    }
   ],
   "source": [
    "\"\"\"Write a Program that get two lists as input\n",
    "and check if they have at least one common member\n",
    "\n",
    "list1=[1,2,3,4,5]\n",
    "list2=[5,6,7,8,9]\"\"\"\n",
    "\n",
    "list_1= [1,2,3,4,5]\n",
    "list_2= [5,6,7,8,9]\n",
    "\n",
    "for i in list_1:\n",
    "    for j in list_2:\n",
    "        if i == j:\n",
    "            print(i)"
   ]
  },
  {
   "cell_type": "code",
   "execution_count": 77,
   "id": "447ad5b7",
   "metadata": {
    "scrolled": true
   },
   "outputs": [
    {
     "ename": "TypeError",
     "evalue": "insert expected 2 arguments, got 1",
     "output_type": "error",
     "traceback": [
      "\u001b[1;31m---------------------------------------------------------------------------\u001b[0m",
      "\u001b[1;31mTypeError\u001b[0m                                 Traceback (most recent call last)",
      "Cell \u001b[1;32mIn[77], line 4\u001b[0m\n\u001b[0;32m      1\u001b[0m list1 \u001b[38;5;241m=\u001b[39m [\u001b[38;5;124m\"\u001b[39m\u001b[38;5;124mHello\u001b[39m\u001b[38;5;124m\"\u001b[39m,\u001b[38;5;124m\"\u001b[39m\u001b[38;5;124mtake\u001b[39m\u001b[38;5;124m\"\u001b[39m]\n\u001b[0;32m      2\u001b[0m list2 \u001b[38;5;241m=\u001b[39m [\u001b[38;5;124m\"\u001b[39m\u001b[38;5;124mDear\u001b[39m\u001b[38;5;124m\"\u001b[39m,\u001b[38;5;124m\"\u001b[39m\u001b[38;5;124mSir\u001b[39m\u001b[38;5;124m\"\u001b[39m]\n\u001b[1;32m----> 4\u001b[0m list1\u001b[38;5;241m.\u001b[39minsert(list2)\n",
      "\u001b[1;31mTypeError\u001b[0m: insert expected 2 arguments, got 1"
     ]
    }
   ],
   "source": [
    "list1 = [\"Hello\",\"take\"]\n",
    "list2 = [\"Dear\",\"Sir\"]\n",
    "\n",
    "list1.insert()"
   ]
  },
  {
   "cell_type": "code",
   "execution_count": 44,
   "id": "6f7364e7",
   "metadata": {},
   "outputs": [
    {
     "name": "stdout",
     "output_type": "stream",
     "text": [
      "[2, 4, 6, 8, 10, 12, 14, 16]\n"
     ]
    }
   ],
   "source": [
    "kavin = [2,4,6,8,10,12,14,16]\n",
    "print(kavin)\n"
   ]
  },
  {
   "cell_type": "code",
   "execution_count": 47,
   "id": "e3d6ab44",
   "metadata": {},
   "outputs": [],
   "source": [
    "kavin.insert(2,99)"
   ]
  },
  {
   "cell_type": "code",
   "execution_count": 39,
   "id": "d0c4635f",
   "metadata": {},
   "outputs": [],
   "source": [
    "abc = [2,4,6,8,10,12]\n"
   ]
  },
  {
   "cell_type": "code",
   "execution_count": 40,
   "id": "69e8acfa",
   "metadata": {},
   "outputs": [
    {
     "data": {
      "text/plain": [
       "[2, 4, 6]"
      ]
     },
     "execution_count": 40,
     "metadata": {},
     "output_type": "execute_result"
    }
   ],
   "source": [
    "abc[0:3]"
   ]
  },
  {
   "cell_type": "code",
   "execution_count": 60,
   "id": "02c87ffa",
   "metadata": {},
   "outputs": [
    {
     "name": "stdout",
     "output_type": "stream",
     "text": [
      "[2, 4, 6, 8, 10, 12, 14, 16]\n"
     ]
    }
   ],
   "source": [
    "rrr = [2,4,6,8,10,12,14,16]\n",
    "print(rrr)"
   ]
  },
  {
   "cell_type": "code",
   "execution_count": 61,
   "id": "1ed5fa55",
   "metadata": {},
   "outputs": [],
   "source": [
    "rrr.insert(2,99)"
   ]
  },
  {
   "cell_type": "code",
   "execution_count": 62,
   "id": "3f4f209a",
   "metadata": {},
   "outputs": [
    {
     "name": "stdout",
     "output_type": "stream",
     "text": [
      "[2, 4, 99, 6, 8, 10, 12, 14, 16]\n"
     ]
    }
   ],
   "source": [
    "print(rrr)"
   ]
  },
  {
   "cell_type": "code",
   "execution_count": 22,
   "id": "1e47eb7c",
   "metadata": {},
   "outputs": [
    {
     "name": "stdout",
     "output_type": "stream",
     "text": [
      "[1, 4, 9, 16, 25, 36, 49, 64, 81, 100, 121, 144, 169, 196, 225, 256, 289, 324, 361, 400, 441, 484, 529, 576, 625, 676, 729, 784, 841]\n"
     ]
    }
   ],
   "source": [
    "\"\"\"Write a python program to generate and print a list of first and last 5 elements where the \n",
    "values are sqaure of numbers between 1 and 30\"\"\"\n",
    "s_numbers=[]\n",
    "\n",
    "for i in range(1,30):\n",
    "    i = i**2\n",
    "    s_numbers.append(i)\n",
    "print(s_numbers)\n",
    "    "
   ]
  },
  {
   "cell_type": "code",
   "execution_count": 17,
   "id": "47a59250",
   "metadata": {},
   "outputs": [
    {
     "data": {
      "text/plain": [
       "[1, 4, 9, 16, 25, 36]"
      ]
     },
     "execution_count": 17,
     "metadata": {},
     "output_type": "execute_result"
    }
   ],
   "source": [
    "s_numbers[0:6]"
   ]
  },
  {
   "cell_type": "code",
   "execution_count": 39,
   "id": "0b342a3a",
   "metadata": {},
   "outputs": [
    {
     "data": {
      "text/plain": [
       "[625, 676, 729, 784, 841]"
      ]
     },
     "execution_count": 39,
     "metadata": {},
     "output_type": "execute_result"
    }
   ],
   "source": [
    "s_numbers[24:29]"
   ]
  },
  {
   "cell_type": "code",
   "execution_count": 64,
   "id": "235d2853",
   "metadata": {},
   "outputs": [
    {
     "data": {
      "text/plain": [
       "[]"
      ]
     },
     "execution_count": 64,
     "metadata": {},
     "output_type": "execute_result"
    }
   ],
   "source": [
    "sample_data=[[1,3,5,7,9,10],[2,4,6,8]]\n",
    "\n",
    "sample_data[8:]"
   ]
  },
  {
   "cell_type": "code",
   "execution_count": 18,
   "id": "b49600c9",
   "metadata": {},
   "outputs": [
    {
     "name": "stdout",
     "output_type": "stream",
     "text": [
      "[3, 4]\n"
     ]
    }
   ],
   "source": [
    "a = list([3,4])\n",
    "print(a)"
   ]
  },
  {
   "cell_type": "code",
   "execution_count": 19,
   "id": "635cc4c6",
   "metadata": {
    "scrolled": false
   },
   "outputs": [
    {
     "name": "stdout",
     "output_type": "stream",
     "text": [
      "[3, 4]\n"
     ]
    }
   ],
   "source": [
    "a = [3,4]\n",
    "print(a)"
   ]
  },
  {
   "cell_type": "code",
   "execution_count": 3,
   "id": "b8deca43",
   "metadata": {},
   "outputs": [
    {
     "name": "stdout",
     "output_type": "stream",
     "text": [
      "23 24 54 34 "
     ]
    }
   ],
   "source": [
    "\"\"\"Write a program to print all the elements of a list in single line: \n",
    "num = [23,24,54,34]\n",
    "\n",
    "Expected Output\n",
    "23 24 54 34\"\"\"\n",
    "\n",
    "\n",
    "num = [23,24,54,34]\n",
    "\n",
    "for i in num:\n",
    "    print(i, end= \" \")"
   ]
  },
  {
   "cell_type": "code",
   "execution_count": 2,
   "id": "2f8ae2f6",
   "metadata": {},
   "outputs": [
    {
     "name": "stdout",
     "output_type": "stream",
     "text": [
      "Total Count of items are: 5\n"
     ]
    }
   ],
   "source": [
    "\"\"\"Write a program to count the number of items stored in a list\n",
    "num=[23,34,\"hello\",32,56]\n",
    "\n",
    "Expected Output\n",
    "Total count of items are:5\"\"\"\n",
    "\n",
    "num=[23,34,\"hello\",32,56]\n",
    "a = 0\n",
    "for i in num:\n",
    "    a = a + 1\n",
    "print(f\"Total Count of items are: {a}\")"
   ]
  },
  {
   "cell_type": "code",
   "execution_count": 1,
   "id": "0f646d5c",
   "metadata": {},
   "outputs": [
    {
     "name": "stdout",
     "output_type": "stream",
     "text": [
      "4 9 16 25 36 "
     ]
    }
   ],
   "source": [
    "\"\"\"Python Program to square each element of a list:\n",
    "Given: x=[2,3,4,5,6]\"\"\"\n",
    "\n",
    "x = [2,3,4,5,6]\n",
    "for i in x:\n",
    "    i = i**2\n",
    "    print(i, end= \" \")"
   ]
  },
  {
   "cell_type": "code",
   "execution_count": 6,
   "id": "d336c149",
   "metadata": {},
   "outputs": [
    {
     "name": "stdout",
     "output_type": "stream",
     "text": [
      "4 9 16 25 36 "
     ]
    }
   ],
   "source": [
    "\"\"\"Python Program to square each element of a list:\n",
    "Given: x=[2,3,4,5,6]\"\"\"\n",
    "\n",
    "x = [2,3,4,5,6]\n",
    "for i in x:\n",
    "    i = i**2\n",
    "    print(i, end= \" \")"
   ]
  },
  {
   "cell_type": "code",
   "execution_count": 13,
   "id": "d7ed6b42",
   "metadata": {},
   "outputs": [
    {
     "name": "stdout",
     "output_type": "stream",
     "text": [
      "102\n"
     ]
    }
   ],
   "source": [
    "\n",
    "\n",
    "a = [1,5,17,99,102,34]\n",
    "\n",
    "maximum = a[0]\n",
    "\n",
    "for i in a:\n",
    "    if i > maximum:\n",
    "        maximum = i\n",
    "print(maximum)"
   ]
  },
  {
   "cell_type": "code",
   "execution_count": 11,
   "id": "a21dcc1c",
   "metadata": {},
   "outputs": [
    {
     "name": "stdout",
     "output_type": "stream",
     "text": [
      "Hello Dear\n",
      "Hello Sir\n",
      "take Dear\n",
      "take Sir\n"
     ]
    }
   ],
   "source": [
    "list1= [\"Hello\",\"take\"]\n",
    "list2= [\"Dear\",\"Sir\"]\n",
    "\n",
    "for i in list1:\n",
    "    for j in list2:\n",
    "        if i + j:\n",
    "            print(i,j)"
   ]
  },
  {
   "cell_type": "code",
   "execution_count": 5,
   "id": "41f3b1ce",
   "metadata": {},
   "outputs": [
    {
     "name": "stdout",
     "output_type": "stream",
     "text": [
      "['Hello', 'Hello', 'take', 'take']\n",
      "['Dear', 'Sir', 'Dear', 'Sir']\n"
     ]
    }
   ],
   "source": [
    "list1= [\"Hello\",\"take\"]\n",
    "list2= [\"Dear\",\"Sir\"]\n",
    "a =[]\n",
    "b =[]\n",
    "for i in list1:\n",
    "    for j in list2:\n",
    "        if i + j:\n",
    "            a.append(i)\n",
    "            b.append(j)\n",
    "print(a)\n",
    "print(b)"
   ]
  },
  {
   "cell_type": "code",
   "execution_count": 7,
   "id": "209a0837",
   "metadata": {},
   "outputs": [
    {
     "name": "stdout",
     "output_type": "stream",
     "text": [
      "['Hello', 34, 45, 40]\n"
     ]
    }
   ],
   "source": [
    "\"\"\"Python Program to remove an empty element from a list.\n",
    "num = [\"Hello\",34,45,\"\",40]\n",
    "Expected Output\n",
    "Result: [\"Hello\",34,45,\"\",40]\"\"\"\n",
    "\n",
    "num = [\"Hello\",34,45,\"\",40]\n",
    "num.remove(\"\")\n",
    "print(num)"
   ]
  },
  {
   "cell_type": "code",
   "execution_count": 46,
   "id": "0b5d0a95",
   "metadata": {},
   "outputs": [
    {
     "name": "stdout",
     "output_type": "stream",
     "text": [
      "[1, 3, 5, 7, 9, 2, 4, 6, 8]\n"
     ]
    }
   ],
   "source": [
    "\"\"\"Write a python program to replace the last element in a list with another.\n",
    "Sample data:[1,3,5,7,9,10],[2,4,6,8]\n",
    "Expected Output:[1,3,5,7,9,2,4,6,8]\"\"\"\n",
    "\n",
    "\n",
    "a=[1,3,5,7,9,10],[2,4,6,8]\n",
    "c = []\n",
    "for i in a:\n",
    "    for a in i:\n",
    "        c.append(a)\n",
    "c.remove(10)\n",
    "print(c)\n",
    "    \n"
   ]
  },
  {
   "cell_type": "code",
   "execution_count": 47,
   "id": "8995c74e",
   "metadata": {},
   "outputs": [
    {
     "data": {
      "text/plain": [
       "[1, 3, 5, 7, 9, 2, 4, 6, 8]"
      ]
     },
     "execution_count": 47,
     "metadata": {},
     "output_type": "execute_result"
    }
   ],
   "source": [
    "a=[1,3,5,7,9,10],[2,4,6,8]\n",
    "b = a[0][:-1] + a[1]\n",
    "b"
   ]
  },
  {
   "cell_type": "code",
   "execution_count": null,
   "id": "fafbd02f",
   "metadata": {},
   "outputs": [],
   "source": []
  },
  {
   "cell_type": "code",
   "execution_count": 34,
   "id": "a9f2b5e1",
   "metadata": {},
   "outputs": [],
   "source": [
    "z = [[1,3,5,7,9,10],[2,4,6,8]]"
   ]
  },
  {
   "cell_type": "code",
   "execution_count": 35,
   "id": "211728bd",
   "metadata": {},
   "outputs": [
    {
     "data": {
      "text/plain": [
       "3"
      ]
     },
     "execution_count": 35,
     "metadata": {},
     "output_type": "execute_result"
    }
   ],
   "source": [
    "z[0][1]"
   ]
  },
  {
   "cell_type": "code",
   "execution_count": 31,
   "id": "1819d226",
   "metadata": {},
   "outputs": [
    {
     "data": {
      "text/plain": [
       "(1, 22, 77, 76)"
      ]
     },
     "execution_count": 31,
     "metadata": {},
     "output_type": "execute_result"
    }
   ],
   "source": [
    "z = 1,22,77,76,5,6,7,8,9,10\n",
    "z[0:4]"
   ]
  },
  {
   "cell_type": "code",
   "execution_count": 45,
   "id": "f9786484",
   "metadata": {},
   "outputs": [
    {
     "data": {
      "text/plain": [
       "[2, 4, 6, 8]"
      ]
     },
     "execution_count": 45,
     "metadata": {},
     "output_type": "execute_result"
    }
   ],
   "source": [
    "y= [[1,3,5,7,9,10],[2,4,6,8]]\n",
    "d = []\n",
    "(y[0][0:5]) and (y[1][0:4])\n",
    "\n"
   ]
  },
  {
   "cell_type": "code",
   "execution_count": 56,
   "id": "1393aa18",
   "metadata": {},
   "outputs": [
    {
     "data": {
      "text/plain": [
       "[1, 3, 5, 7, 9, 2, 4, 6, 8]"
      ]
     },
     "execution_count": 56,
     "metadata": {},
     "output_type": "execute_result"
    }
   ],
   "source": [
    "aa=[1,3,5,7,9,10],[2,4,6,8]\n",
    "aa = a[0][:-1] + a[1]\n",
    "aa"
   ]
  },
  {
   "cell_type": "code",
   "execution_count": 3,
   "id": "d4fc1e0a",
   "metadata": {},
   "outputs": [
    {
     "name": "stdout",
     "output_type": "stream",
     "text": [
      "[2, 3, 4, 5, 6]\n"
     ]
    }
   ],
   "source": [
    "\"\"\"Wrote a program in python to remove repititve items from a list\n",
    "Given num=[2,3,4,5,2,6,3,2]\n",
    "\n",
    "for i in num:\n",
    "print(i)\n",
    "\n",
    "Expected Output\n",
    "Result: [2,3,4,5,6]\"\"\"\n",
    "\n",
    "num =[2,3,4,5,2,6,3,2]\n",
    "a = []\n",
    "for i in num:\n",
    "    if i not in a:    \n",
    "        a.append(i)\n",
    "print(a)\n",
    "\n"
   ]
  },
  {
   "cell_type": "code",
   "execution_count": 1,
   "id": "b3d24386",
   "metadata": {},
   "outputs": [],
   "source": [
    "a= [1,2,3,4,5,6]\n",
    "a.remove(5)"
   ]
  },
  {
   "cell_type": "code",
   "execution_count": 2,
   "id": "ec4bba6f",
   "metadata": {},
   "outputs": [
    {
     "name": "stdout",
     "output_type": "stream",
     "text": [
      "[1, 2, 3, 4, 6]\n"
     ]
    }
   ],
   "source": [
    "print(a)"
   ]
  },
  {
   "cell_type": "code",
   "execution_count": 3,
   "id": "0ed301a2",
   "metadata": {},
   "outputs": [],
   "source": [
    "a.clear()"
   ]
  },
  {
   "cell_type": "code",
   "execution_count": 4,
   "id": "3885a6d8",
   "metadata": {},
   "outputs": [
    {
     "name": "stdout",
     "output_type": "stream",
     "text": [
      "[]\n"
     ]
    }
   ],
   "source": [
    "print(a)"
   ]
  },
  {
   "cell_type": "code",
   "execution_count": null,
   "id": "b3859e2b",
   "metadata": {},
   "outputs": [],
   "source": []
  }
 ],
 "metadata": {
  "kernelspec": {
   "display_name": "Python 3 (ipykernel)",
   "language": "python",
   "name": "python3"
  },
  "language_info": {
   "codemirror_mode": {
    "name": "ipython",
    "version": 3
   },
   "file_extension": ".py",
   "mimetype": "text/x-python",
   "name": "python",
   "nbconvert_exporter": "python",
   "pygments_lexer": "ipython3",
   "version": "3.11.3"
  }
 },
 "nbformat": 4,
 "nbformat_minor": 5
}
