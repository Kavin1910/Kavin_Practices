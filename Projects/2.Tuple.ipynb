{
 "cells": [
  {
   "cell_type": "code",
   "execution_count": null,
   "id": "291a8c31",
   "metadata": {},
   "outputs": [],
   "source": [
    "#TUPLES:\n",
    "\n",
    "#It is also a data container\n",
    "#It is immutable\n",
    "#Mixed data types\n",
    "# ()"
   ]
  },
  {
   "cell_type": "code",
   "execution_count": 2,
   "id": "a72e47ca",
   "metadata": {},
   "outputs": [
    {
     "name": "stdout",
     "output_type": "stream",
     "text": [
      "<class 'tuple'>\n",
      "(1, 2, 3, 4, 5, 6, 'Kavin', True)\n"
     ]
    }
   ],
   "source": [
    "a = (1,2,3,4,5,6,\"Kavin\",True)\n",
    "print(type(a))\n",
    "print(a)"
   ]
  },
  {
   "cell_type": "code",
   "execution_count": 3,
   "id": "255a7c7b",
   "metadata": {},
   "outputs": [
    {
     "ename": "AttributeError",
     "evalue": "'tuple' object has no attribute 'remove'",
     "output_type": "error",
     "traceback": [
      "\u001b[1;31m---------------------------------------------------------------------------\u001b[0m",
      "\u001b[1;31mAttributeError\u001b[0m                            Traceback (most recent call last)",
      "Cell \u001b[1;32mIn[3], line 1\u001b[0m\n\u001b[1;32m----> 1\u001b[0m a\u001b[38;5;241m.\u001b[39mremove(\u001b[38;5;241m1\u001b[39m)\n",
      "\u001b[1;31mAttributeError\u001b[0m: 'tuple' object has no attribute 'remove'"
     ]
    }
   ],
   "source": [
    "a.remove(1)\n",
    "\n",
    "\"\"\"We can't modify any existing data is tuple which is only done in list\n",
    "This is immutable\"\"\""
   ]
  },
  {
   "cell_type": "code",
   "execution_count": 5,
   "id": "6197a30d",
   "metadata": {},
   "outputs": [
    {
     "data": {
      "text/plain": [
       "(2,)"
      ]
     },
     "execution_count": 5,
     "metadata": {},
     "output_type": "execute_result"
    }
   ],
   "source": [
    "a = (2,)\n",
    "a"
   ]
  },
  {
   "cell_type": "code",
   "execution_count": 6,
   "id": "11545726",
   "metadata": {},
   "outputs": [
    {
     "data": {
      "text/plain": [
       "[1.0, 2.0, 3.0, 4.0]"
      ]
     },
     "execution_count": 6,
     "metadata": {},
     "output_type": "execute_result"
    }
   ],
   "source": [
    "b = (2,[1.0,2.0,3.0,4.0],99)\n",
    "b[1]"
   ]
  },
  {
   "cell_type": "code",
   "execution_count": 7,
   "id": "33449fb4",
   "metadata": {},
   "outputs": [
    {
     "data": {
      "text/plain": [
       "2"
      ]
     },
     "execution_count": 7,
     "metadata": {},
     "output_type": "execute_result"
    }
   ],
   "source": [
    "b[0]"
   ]
  },
  {
   "cell_type": "code",
   "execution_count": 8,
   "id": "d633d50e",
   "metadata": {},
   "outputs": [
    {
     "data": {
      "text/plain": [
       "(2, [1.0, 2.0, 3.0, 4.0], 99)"
      ]
     },
     "execution_count": 8,
     "metadata": {},
     "output_type": "execute_result"
    }
   ],
   "source": [
    "b"
   ]
  },
  {
   "cell_type": "code",
   "execution_count": 1,
   "id": "063bc2b9",
   "metadata": {},
   "outputs": [
    {
     "data": {
      "text/plain": [
       "'KAVIN'"
      ]
     },
     "execution_count": 1,
     "metadata": {},
     "output_type": "execute_result"
    }
   ],
   "source": [
    "c =[\"K\",\"A\",\"V\",\"I\",\"N\"]\n",
    "d = \"\".join(c)\n",
    "d"
   ]
  },
  {
   "cell_type": "code",
   "execution_count": 15,
   "id": "d5ee99f0",
   "metadata": {},
   "outputs": [
    {
     "data": {
      "text/plain": [
       "2"
      ]
     },
     "execution_count": 15,
     "metadata": {},
     "output_type": "execute_result"
    }
   ],
   "source": [
    "c.count(\"N\")"
   ]
  },
  {
   "cell_type": "code",
   "execution_count": 16,
   "id": "68dc1281",
   "metadata": {},
   "outputs": [
    {
     "data": {
      "text/plain": [
       "1"
      ]
     },
     "execution_count": 16,
     "metadata": {},
     "output_type": "execute_result"
    }
   ],
   "source": [
    "c.index(\"A\")"
   ]
  },
  {
   "cell_type": "code",
   "execution_count": 17,
   "id": "9a62d2bd",
   "metadata": {},
   "outputs": [
    {
     "data": {
      "text/plain": [
       "(1, 2, 3, 4)"
      ]
     },
     "execution_count": 17,
     "metadata": {},
     "output_type": "execute_result"
    }
   ],
   "source": [
    "a = [1,2,3,4]\n",
    "\n",
    "b = tuple(a)\n",
    "b"
   ]
  },
  {
   "cell_type": "code",
   "execution_count": 21,
   "id": "f0725281",
   "metadata": {},
   "outputs": [
    {
     "data": {
      "text/plain": [
       "('Kavin', '', 'Kavin', '', 'Kavin', '', 'Kavin', '')"
      ]
     },
     "execution_count": 21,
     "metadata": {},
     "output_type": "execute_result"
    }
   ],
   "source": [
    "a = (\"Kavin\",)*4\n",
    "a"
   ]
  },
  {
   "cell_type": "code",
   "execution_count": 22,
   "id": "f58741c8",
   "metadata": {},
   "outputs": [
    {
     "data": {
      "text/plain": [
       "('K', 'a', 'v', 'i', 'n')"
      ]
     },
     "execution_count": 22,
     "metadata": {},
     "output_type": "execute_result"
    }
   ],
   "source": [
    "names = (\"Kavin\")\n",
    "\n",
    "b = tuple(names,)\n",
    "b"
   ]
  },
  {
   "cell_type": "code",
   "execution_count": 23,
   "id": "ec157b2f",
   "metadata": {},
   "outputs": [
    {
     "data": {
      "text/plain": [
       "(22, 11, 33, 44, 55, 66)"
      ]
     },
     "execution_count": 23,
     "metadata": {},
     "output_type": "execute_result"
    }
   ],
   "source": [
    "a = (22,11,33,44,55,66)\n",
    "a"
   ]
  },
  {
   "cell_type": "code",
   "execution_count": 41,
   "id": "5b1c08fa",
   "metadata": {},
   "outputs": [
    {
     "data": {
      "text/plain": [
       "'H'"
      ]
     },
     "execution_count": 41,
     "metadata": {},
     "output_type": "execute_result"
    }
   ],
   "source": [
    "a = (44,55,66,77,88,[1.0,22,55,66,77,88,99],\"Kavin\",\"Hai\")\n",
    "a[-1][-3]"
   ]
  },
  {
   "cell_type": "code",
   "execution_count": 47,
   "id": "8511016d",
   "metadata": {},
   "outputs": [
    {
     "data": {
      "text/plain": [
       "2"
      ]
     },
     "execution_count": 47,
     "metadata": {},
     "output_type": "execute_result"
    }
   ],
   "source": [
    "a.index(66)"
   ]
  },
  {
   "cell_type": "code",
   "execution_count": 61,
   "id": "8254e2f6",
   "metadata": {},
   "outputs": [
    {
     "data": {
      "text/plain": [
       "4"
      ]
     },
     "execution_count": 61,
     "metadata": {},
     "output_type": "execute_result"
    }
   ],
   "source": [
    "a.index(88)"
   ]
  },
  {
   "cell_type": "code",
   "execution_count": 48,
   "id": "5f784995",
   "metadata": {},
   "outputs": [
    {
     "data": {
      "text/plain": [
       "1"
      ]
     },
     "execution_count": 48,
     "metadata": {},
     "output_type": "execute_result"
    }
   ],
   "source": [
    "a.count(55)"
   ]
  },
  {
   "cell_type": "code",
   "execution_count": 59,
   "id": "739e6614",
   "metadata": {},
   "outputs": [
    {
     "data": {
      "text/plain": [
       "('Kavin', 'Kavin', 'Kavin', 'Kavin')"
      ]
     },
     "execution_count": 59,
     "metadata": {},
     "output_type": "execute_result"
    }
   ],
   "source": [
    "ab = (\"Kavin\",)*4\n",
    "ab"
   ]
  },
  {
   "cell_type": "code",
   "execution_count": 58,
   "id": "ff9bd756",
   "metadata": {},
   "outputs": [
    {
     "data": {
      "text/plain": [
       "'Kavin.N.R Kavin.N.R Kavin.N.R Kavin.N.R Kavin'"
      ]
     },
     "execution_count": 58,
     "metadata": {},
     "output_type": "execute_result"
    }
   ],
   "source": [
    "cd= \".N.R \".join(ab)\n",
    "cd"
   ]
  },
  {
   "cell_type": "code",
   "execution_count": 65,
   "id": "bd3aeb09",
   "metadata": {},
   "outputs": [
    {
     "data": {
      "text/plain": [
       "'a'"
      ]
     },
     "execution_count": 65,
     "metadata": {},
     "output_type": "execute_result"
    }
   ],
   "source": [
    "cd [1]"
   ]
  },
  {
   "cell_type": "code",
   "execution_count": 86,
   "id": "1fd01c0e",
   "metadata": {},
   "outputs": [
    {
     "data": {
      "text/plain": [
       "(1, 2, 5, 6, [1, 4, 5, 6], 'Hello', 'Hai', 'Dear', 2.0, 5.0)"
      ]
     },
     "execution_count": 86,
     "metadata": {},
     "output_type": "execute_result"
    }
   ],
   "source": [
    "kavin = (1,2,5,6,[2,4,5,6,],\"Hello\",\"Hai\",\"Dear\",2.0,5.00)\n",
    "kavin[4][0] = 1\n",
    "kavin"
   ]
  },
  {
   "cell_type": "code",
   "execution_count": 87,
   "id": "dd8d2f74",
   "metadata": {},
   "outputs": [
    {
     "data": {
      "text/plain": [
       "(12, 24, 26, 28, 30)"
      ]
     },
     "execution_count": 87,
     "metadata": {},
     "output_type": "execute_result"
    }
   ],
   "source": [
    "m = (12,24,26,28,30)\n",
    "m"
   ]
  },
  {
   "cell_type": "code",
   "execution_count": 90,
   "id": "7b9cd08f",
   "metadata": {},
   "outputs": [
    {
     "data": {
      "text/plain": [
       "(12, 24, 26)"
      ]
     },
     "execution_count": 90,
     "metadata": {},
     "output_type": "execute_result"
    }
   ],
   "source": [
    "m[0:3]"
   ]
  },
  {
   "cell_type": "code",
   "execution_count": 4,
   "id": "77dce176",
   "metadata": {},
   "outputs": [
    {
     "name": "stdout",
     "output_type": "stream",
     "text": [
      "kavinkavinkavinkavinkavin"
     ]
    }
   ],
   "source": [
    "a = ('kavin')*5\n",
    "\n",
    "for i in a:    \n",
    "    print(i, end=\"\")    \n",
    "    "
   ]
  },
  {
   "cell_type": "code",
   "execution_count": 27,
   "id": "e9e6ee04",
   "metadata": {},
   "outputs": [
    {
     "ename": "SyntaxError",
     "evalue": "invalid syntax (3293203349.py, line 4)",
     "output_type": "error",
     "traceback": [
      "\u001b[1;36m  Cell \u001b[1;32mIn[27], line 4\u001b[1;36m\u001b[0m\n\u001b[1;33m    s = ((,),),.join(i)\u001b[0m\n\u001b[1;37m          ^\u001b[0m\n\u001b[1;31mSyntaxError\u001b[0m\u001b[1;31m:\u001b[0m invalid syntax\n"
     ]
    }
   ],
   "source": [
    "q = (\"kavin\",)\n",
    "for i in q:\n",
    "    s = join(i)\n",
    "    print(s)\n"
   ]
  },
  {
   "cell_type": "code",
   "execution_count": 39,
   "id": "0759bb71",
   "metadata": {},
   "outputs": [
    {
     "name": "stdout",
     "output_type": "stream",
     "text": [
      "(('kavin',),)\n",
      "((('kavin',),),)\n",
      "(((('kavin',),),),)\n",
      "((((('kavin',),),),),)\n",
      "(((((('kavin',),),),),),)\n"
     ]
    }
   ],
   "source": [
    "a = ('kavin',)\n",
    "\n",
    "n = 5\n",
    "\n",
    "for i in range(n):\n",
    "    a = (a, )\n",
    "    print(a)"
   ]
  },
  {
   "cell_type": "code",
   "execution_count": null,
   "id": "cfa081ae",
   "metadata": {},
   "outputs": [],
   "source": []
  }
 ],
 "metadata": {
  "kernelspec": {
   "display_name": "Python 3 (ipykernel)",
   "language": "python",
   "name": "python3"
  },
  "language_info": {
   "codemirror_mode": {
    "name": "ipython",
    "version": 3
   },
   "file_extension": ".py",
   "mimetype": "text/x-python",
   "name": "python",
   "nbconvert_exporter": "python",
   "pygments_lexer": "ipython3",
   "version": "3.11.3"
  },
  "widgets": {
   "application/vnd.jupyter.widget-state+json": {
    "state": {},
    "version_major": 2,
    "version_minor": 0
   }
  }
 },
 "nbformat": 4,
 "nbformat_minor": 5
}
