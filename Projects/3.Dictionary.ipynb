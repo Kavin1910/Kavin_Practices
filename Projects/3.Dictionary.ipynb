{
 "cells": [
  {
   "cell_type": "code",
   "execution_count": 5,
   "id": "b852aff0",
   "metadata": {},
   "outputs": [
    {
     "name": "stdout",
     "output_type": "stream",
     "text": [
      "<class 'dict'>\n",
      "{1: 'Welcome', 2: 'to', 3: 'IPCS'}\n"
     ]
    }
   ],
   "source": [
    "# It is an Unordered Collection:\n",
    "# Key and Value Pair:\n",
    "\n",
    "dict1 = {\n",
    "    1:\"Welcome\",\n",
    "    2:\"to\",\n",
    "    3:\"IPCS\",\n",
    "}\n",
    "print(type(dict1))\n",
    "print(dict1)"
   ]
  },
  {
   "cell_type": "code",
   "execution_count": 6,
   "id": "5520f539",
   "metadata": {
    "scrolled": true
   },
   "outputs": [
    {
     "name": "stdout",
     "output_type": "stream",
     "text": [
      "{}\n"
     ]
    }
   ],
   "source": [
    "a = {}\n",
    "print(a)"
   ]
  },
  {
   "cell_type": "code",
   "execution_count": 7,
   "id": "c1e7170b",
   "metadata": {},
   "outputs": [
    {
     "data": {
      "text/plain": [
       "dict_values(['Welcome', 'to', 'IPCS'])"
      ]
     },
     "execution_count": 7,
     "metadata": {},
     "output_type": "execute_result"
    }
   ],
   "source": [
    "dict1.values()"
   ]
  },
  {
   "cell_type": "code",
   "execution_count": 8,
   "id": "ba72362f",
   "metadata": {},
   "outputs": [
    {
     "data": {
      "text/plain": [
       "dict_keys([1, 2, 3])"
      ]
     },
     "execution_count": 8,
     "metadata": {},
     "output_type": "execute_result"
    }
   ],
   "source": [
    "dict1.keys()"
   ]
  },
  {
   "cell_type": "code",
   "execution_count": 6,
   "id": "6e1d87ad",
   "metadata": {},
   "outputs": [
    {
     "data": {
      "text/plain": [
       "dict_items([(1, 'Welcome'), (2, 'to'), (3, 'IPCS')])"
      ]
     },
     "execution_count": 6,
     "metadata": {},
     "output_type": "execute_result"
    }
   ],
   "source": [
    "dict1.items()"
   ]
  },
  {
   "cell_type": "code",
   "execution_count": 7,
   "id": "49945a43",
   "metadata": {},
   "outputs": [],
   "source": [
    "#Method 2:\n",
    "\n",
    "b = dict({1: \"Welcome\",\n",
    "          2: \"to\",\n",
    "          3: \"IPCS\"})"
   ]
  },
  {
   "cell_type": "code",
   "execution_count": 8,
   "id": "cc09e941",
   "metadata": {},
   "outputs": [
    {
     "data": {
      "text/plain": [
       "{1: 'Welcome', 2: 'to', 3: 'IPCS'}"
      ]
     },
     "execution_count": 8,
     "metadata": {},
     "output_type": "execute_result"
    }
   ],
   "source": [
    "b"
   ]
  },
  {
   "cell_type": "code",
   "execution_count": 10,
   "id": "662302f9",
   "metadata": {},
   "outputs": [],
   "source": [
    "#Method 3:\n",
    "\n",
    "c = dict([(1, \"Welcome\"), (2, \"IPCS\")])"
   ]
  },
  {
   "cell_type": "code",
   "execution_count": 11,
   "id": "4f4e3e26",
   "metadata": {},
   "outputs": [
    {
     "data": {
      "text/plain": [
       "{1: 'Welcome', 2: 'IPCS'}"
      ]
     },
     "execution_count": 11,
     "metadata": {},
     "output_type": "execute_result"
    }
   ],
   "source": [
    "c"
   ]
  },
  {
   "cell_type": "code",
   "execution_count": 15,
   "id": "c5c19542",
   "metadata": {},
   "outputs": [
    {
     "name": "stdout",
     "output_type": "stream",
     "text": [
      "{'kavin': 102, 'kumar': 103, 'babu': 104, 'Suresh': 105}\n"
     ]
    }
   ],
   "source": [
    "name = {\n",
    "    \"kavin\" : 102,\n",
    "    \"kumar\" : 103,\n",
    "    \"babu\"  : 104,\n",
    "    \"Suresh\" : 105\n",
    "}\n",
    "print(name)"
   ]
  },
  {
   "cell_type": "code",
   "execution_count": 16,
   "id": "b8b79444",
   "metadata": {},
   "outputs": [
    {
     "data": {
      "text/plain": [
       "102"
      ]
     },
     "execution_count": 16,
     "metadata": {},
     "output_type": "execute_result"
    }
   ],
   "source": [
    "name.get('kavin')"
   ]
  },
  {
   "cell_type": "code",
   "execution_count": 17,
   "id": "830ba7f2",
   "metadata": {},
   "outputs": [
    {
     "data": {
      "text/plain": [
       "102"
      ]
     },
     "execution_count": 17,
     "metadata": {},
     "output_type": "execute_result"
    }
   ],
   "source": [
    "name.pop(\"kavin\")"
   ]
  },
  {
   "cell_type": "code",
   "execution_count": 18,
   "id": "8736ced6",
   "metadata": {},
   "outputs": [
    {
     "data": {
      "text/plain": [
       "{'kumar': 103, 'babu': 104, 'Suresh': 105}"
      ]
     },
     "execution_count": 18,
     "metadata": {},
     "output_type": "execute_result"
    }
   ],
   "source": [
    "name"
   ]
  },
  {
   "cell_type": "code",
   "execution_count": 19,
   "id": "cc1f7d1b",
   "metadata": {},
   "outputs": [
    {
     "data": {
      "text/plain": [
       "('Suresh', 105)"
      ]
     },
     "execution_count": 19,
     "metadata": {},
     "output_type": "execute_result"
    }
   ],
   "source": [
    "name.popitem()"
   ]
  },
  {
   "cell_type": "code",
   "execution_count": 20,
   "id": "44220c31",
   "metadata": {},
   "outputs": [
    {
     "data": {
      "text/plain": [
       "{'kumar': 103, 'babu': 104}"
      ]
     },
     "execution_count": 20,
     "metadata": {},
     "output_type": "execute_result"
    }
   ],
   "source": [
    "name"
   ]
  },
  {
   "cell_type": "code",
   "execution_count": 22,
   "id": "6a0194df",
   "metadata": {},
   "outputs": [],
   "source": [
    "name.update({\"Dinesh\" : 555})"
   ]
  },
  {
   "cell_type": "code",
   "execution_count": 23,
   "id": "3d7c8402",
   "metadata": {},
   "outputs": [
    {
     "data": {
      "text/plain": [
       "{'kumar': 103, 'babu': 104, 'Dinesh': 555}"
      ]
     },
     "execution_count": 23,
     "metadata": {},
     "output_type": "execute_result"
    }
   ],
   "source": [
    "name"
   ]
  },
  {
   "cell_type": "code",
   "execution_count": 24,
   "id": "952e1714",
   "metadata": {},
   "outputs": [],
   "source": [
    "name[0] = 11111"
   ]
  },
  {
   "cell_type": "code",
   "execution_count": 25,
   "id": "bb3676d5",
   "metadata": {},
   "outputs": [
    {
     "data": {
      "text/plain": [
       "{'kumar': 103, 'babu': 104, 'Dinesh': 555, 0: 11111}"
      ]
     },
     "execution_count": 25,
     "metadata": {},
     "output_type": "execute_result"
    }
   ],
   "source": [
    "name"
   ]
  },
  {
   "cell_type": "code",
   "execution_count": 26,
   "id": "08d59ad6",
   "metadata": {},
   "outputs": [],
   "source": [
    "name.clear()"
   ]
  },
  {
   "cell_type": "code",
   "execution_count": 27,
   "id": "5e2cf374",
   "metadata": {},
   "outputs": [
    {
     "data": {
      "text/plain": [
       "{}"
      ]
     },
     "execution_count": 27,
     "metadata": {},
     "output_type": "execute_result"
    }
   ],
   "source": [
    "name"
   ]
  },
  {
   "cell_type": "code",
   "execution_count": 36,
   "id": "03347d0f",
   "metadata": {},
   "outputs": [],
   "source": [
    "dict1 = {\n",
    "    \n",
    "    1: \"A\",\n",
    "    2: [\"B\", \"C\", \"D\"]\n",
    "}"
   ]
  },
  {
   "cell_type": "code",
   "execution_count": 37,
   "id": "4a106a06",
   "metadata": {},
   "outputs": [
    {
     "data": {
      "text/plain": [
       "{1: 'A', 2: ['B', 'C', 'D']}"
      ]
     },
     "execution_count": 37,
     "metadata": {},
     "output_type": "execute_result"
    }
   ],
   "source": [
    "dict1"
   ]
  },
  {
   "cell_type": "code",
   "execution_count": 38,
   "id": "e4754b63",
   "metadata": {},
   "outputs": [
    {
     "name": "stdout",
     "output_type": "stream",
     "text": [
      "A\n",
      "['B', 'C', 'D']\n"
     ]
    }
   ],
   "source": [
    "for i in dict1.values():\n",
    "    print(i)"
   ]
  },
  {
   "cell_type": "code",
   "execution_count": 39,
   "id": "74bfe5f3",
   "metadata": {},
   "outputs": [
    {
     "name": "stdout",
     "output_type": "stream",
     "text": [
      "1\n",
      "2\n"
     ]
    }
   ],
   "source": [
    "for i in dict1:\n",
    "    print(i)"
   ]
  },
  {
   "cell_type": "code",
   "execution_count": 43,
   "id": "d480e823",
   "metadata": {},
   "outputs": [],
   "source": [
    "kavin = {\n",
    "    \"USA\" : 1,\n",
    "    \"China\": 2,\n",
    "    \"Russia\": 3,\n",
    "    \"India\" : 4,\n",
    "    \"UK\" : 5\n",
    "}"
   ]
  },
  {
   "cell_type": "code",
   "execution_count": 44,
   "id": "357fad7a",
   "metadata": {},
   "outputs": [
    {
     "data": {
      "text/plain": [
       "{'USA': 1, 'China': 2, 'Russia': 3, 'India': 4, 'UK': 5}"
      ]
     },
     "execution_count": 44,
     "metadata": {},
     "output_type": "execute_result"
    }
   ],
   "source": [
    "kavin"
   ]
  },
  {
   "cell_type": "code",
   "execution_count": 48,
   "id": "3951cdba",
   "metadata": {},
   "outputs": [
    {
     "name": "stdout",
     "output_type": "stream",
     "text": [
      "{0: 10, 1: 20, 2: 30}\n"
     ]
    }
   ],
   "source": [
    "\"\"\"Write a python script to add a key to a dictionary.\n",
    "\n",
    "sample Dictionary: {0:10, 1:20}\n",
    "Expected Result: {0:10, 1:20, 2:30}\"\"\"\n",
    "\n",
    "dict1= {0:10, 1:20}\n",
    "dict1[2] = 30\n",
    "print(dict1)"
   ]
  },
  {
   "cell_type": "code",
   "execution_count": 57,
   "id": "f31dc388",
   "metadata": {},
   "outputs": [
    {
     "name": "stdout",
     "output_type": "stream",
     "text": [
      "200 Present in a dict\n"
     ]
    }
   ],
   "source": [
    "\"\"\"Check if a value exists in a dictionary\n",
    "we know how to check if the key exists in a dictioary.\n",
    "Sometimes it is required to check if the givenvalue is present\n",
    "\n",
    "Write a Python Program to check if value 200 exists in the foloowing dictionary.\n",
    "\n",
    "Given:\n",
    "\n",
    "sample_dict = {\"a\" : 100, \"b\": 200, \"c\": 300}\n",
    "\n",
    "Expected Output:\n",
    "\n",
    "200 Present in a dict\"\"\"\n",
    "\n",
    "\n",
    "sample_dict = {\"a\" : 100, \"b\": 200, \"c\": 300}\n",
    "\n",
    "for i in sample_dict.values():\n",
    "    if i == 200:\n",
    "        print(i, \"Present in a dict\")"
   ]
  },
  {
   "cell_type": "code",
   "execution_count": 38,
   "id": "b8f240b9",
   "metadata": {},
   "outputs": [
    {
     "name": "stdout",
     "output_type": "stream",
     "text": [
      "{'name': 'Kelly', 'age': 25, 'salary': 8000, 'Location': 'New York'}\n"
     ]
    }
   ],
   "source": [
    "\"\"\"Resume key of a dictionary \n",
    "Write a Program to rename a key city to a location in the following dictionary\n",
    "\n",
    "Given:\n",
    "\n",
    "\n",
    "sample_dict= {\n",
    "\n",
    "\"name\": \"Kelly\",\n",
    "\"age\":25,\n",
    "\"salary\": 8000,\n",
    "\"city\": \"New York\"\n",
    "}\n",
    "\n",
    "Expected Output:\n",
    "\n",
    "{\"name\": \"Kelly\",\"age\":25, \"Salary\": 8000, \"Location: \"New york}\"\"\"\n",
    "\n",
    "\n",
    "sample_dict= {\"name\": \"Kelly\",\"age\":25,\"salary\": 8000,\"city\": \"New York\"}\n",
    "sample_dict.popitem()\n",
    "sample_dict[\"Location\"] = \"New York\"\n",
    "print(sample_dict)"
   ]
  },
  {
   "cell_type": "code",
   "execution_count": 85,
   "id": "7c139999",
   "metadata": {},
   "outputs": [
    {
     "name": "stdout",
     "output_type": "stream",
     "text": [
      "-1333800\n"
     ]
    }
   ],
   "source": [
    "\"Write a Pytho program to multiply all the items in a dictionary\"\n",
    "\n",
    "my_dict = {'Data1':100, \"data2\":-54,\"data3\": 247}\n",
    "switch = 1\n",
    "for i in my_dict:\n",
    "    switch = switch*my_dict[i]\n",
    "print(switch)"
   ]
  },
  {
   "cell_type": "code",
   "execution_count": 79,
   "id": "6fc3c805",
   "metadata": {},
   "outputs": [
    {
     "data": {
      "text/plain": [
       "1333800"
      ]
     },
     "execution_count": 79,
     "metadata": {},
     "output_type": "execute_result"
    }
   ],
   "source": [
    "100*54*247"
   ]
  },
  {
   "cell_type": "code",
   "execution_count": 99,
   "id": "a311e5ce",
   "metadata": {},
   "outputs": [
    {
     "name": "stdout",
     "output_type": "stream",
     "text": [
      "{'emp1': {'name': 'Jhon', 'Salary': 7500}, 'emp2': {'name': 'Emma', 'salary': 8000}, 'emp3': {'name': 'Brad', 'salary': 8500}}\n"
     ]
    }
   ],
   "source": [
    "\"\"\"Change Value of a key in a nested dictionary \n",
    "Write a Python Program to change Brad\"s Salary to 85000 in the following dictionary\n",
    "Given:\n",
    "sample_dict = {\n",
    "\"emp1\": {\"name\": 'Jhon', 'Salary': 7500},\n",
    "\"emp2\": {'name': 'Emma', 'Salary': 8000},\n",
    "\"emp3\": {'name': 'Brad', 'salary': 500}\n",
    "}\n",
    "Expected Output: \n",
    "\"emp1\": {\"name\": 'Jhon', 'Salary': 7500},\n",
    "\"emp2\": {'name': 'Emma', 'Salary': 8000},\n",
    "\"emp3\": {'name': 'Brad', 'salary': 8500}\n",
    "}\n",
    "\"\"\"\n",
    "\n",
    "z = {\n",
    "\"emp1\": {\"name\": 'Jhon', 'Salary': 7500},\n",
    "\"emp2\": {'name': 'Emma', 'salary': 8000},\n",
    "\"emp3\": {'name': 'Brad', 'salary': 500}\n",
    "}\n",
    "\n",
    "z.popitem()\n",
    "z.update({\"emp3\": {'name': 'Brad', 'salary': 8500}})\n",
    "print(z)"
   ]
  },
  {
   "cell_type": "code",
   "execution_count": 10,
   "id": "1f00bc31",
   "metadata": {},
   "outputs": [
    {
     "name": "stdout",
     "output_type": "stream",
     "text": [
      "{'emp1': {'name': 'Jhon', 'Salary': 7500}, 'emp2': {'name': 'Emma', 'Salary': 8000}, 'emp3': {'name': 'Brad', 'salary': 8500}}\n"
     ]
    }
   ],
   "source": [
    "xy = {\n",
    "\"emp1\": {\"name\": 'Jhon', 'Salary': 7500},\n",
    "\"emp2\": {'name': 'Emma', 'Salary': 8000},\n",
    "\"emp3\": {'name': 'Brad', 'salary': 500}\n",
    "}\n",
    "a = xy[\"emp3\"]['salary']= 8500\n",
    "print(xy)"
   ]
  },
  {
   "cell_type": "code",
   "execution_count": 44,
   "id": "9472e36c",
   "metadata": {},
   "outputs": [
    {
     "name": "stdout",
     "output_type": "stream",
     "text": [
      "361\n"
     ]
    }
   ],
   "source": [
    "\"\"\"Get sum of all the values in a dict\n",
    "\n",
    "#Input \n",
    "sample_dict = {\"Physics\": 82,\"Math\" = 65,\"history\": 75, \"chemistry\": = 89, \"gk\": 50 }\n",
    "}\n",
    "\n",
    "#Expected Output: 361\"\"\"\n",
    "\n",
    "\n",
    "sample_dict = {\"Physics\": 82,\"Math\":65,\"history\": 75, \"chemistry\": 89, \"gk\": 50 }\n",
    "sumation = 0\n",
    "\n",
    "for i in sample_dict:\n",
    "    sumation = sample_dict[i] + sumation\n",
    "print(sumation)\n",
    "    \n",
    "\n"
   ]
  },
  {
   "cell_type": "code",
   "execution_count": 17,
   "id": "8bea7294",
   "metadata": {},
   "outputs": [
    {
     "data": {
      "text/plain": [
       "361"
      ]
     },
     "execution_count": 17,
     "metadata": {},
     "output_type": "execute_result"
    }
   ],
   "source": [
    "82+65+75+89+50"
   ]
  },
  {
   "cell_type": "code",
   "execution_count": 32,
   "id": "11d5d2f3",
   "metadata": {},
   "outputs": [
    {
     "name": "stdout",
     "output_type": "stream",
     "text": [
      "Math\n"
     ]
    }
   ],
   "source": [
    "\"\"\"Get the Minimum value from the following directory\n",
    "\n",
    "#Input\n",
    "\n",
    "sample_dict = {\"Physics\": 82, \"Math\": 65,\"History\": 75}\n",
    "\n",
    "#Expected Output: Math\"\"\"\n",
    "\n",
    "sample_dict = {\"Physics\": 82, \"Math\": 65,\"History\": 75}\n",
    "print(min(sample_dict, key = sample_dict.get))\n",
    "    \n",
    "    "
   ]
  },
  {
   "cell_type": "code",
   "execution_count": 37,
   "id": "0b756b03",
   "metadata": {
    "scrolled": true
   },
   "outputs": [
    {
     "name": "stdout",
     "output_type": "stream",
     "text": [
      "{'name': 'Kelly', 'salary': 8000}\n"
     ]
    }
   ],
   "source": [
    "\"\"\"Create a dictionary by extracting the keys from a given dictionary\n",
    "\n",
    "#Inputs:\n",
    "sample_dict = {\"name\": \"Kelly\", \"age\" : 25, \"salary\": 8000, \"city\": \"New york\"}\n",
    "\n",
    "Expected Output: {'name' : 'Kelly','salary': 8000}\"\"\"\n",
    "\n",
    "\n",
    "sample_dict = {\"name\": \"Kelly\", \"age\" : 25, \"salary\": 8000, \"city\": \"New york\"}\n",
    "sample_dict.popitem()\n",
    "sample_dict.pop(\"age\")\n",
    "print(sample_dict)\n"
   ]
  },
  {
   "cell_type": "code",
   "execution_count": 45,
   "id": "682135ce",
   "metadata": {},
   "outputs": [
    {
     "name": "stdout",
     "output_type": "stream",
     "text": [
      "<class 'list'>\n"
     ]
    }
   ],
   "source": [
    "\"\"\"Write a program in python to map keys to dictionary\n",
    "\n",
    "key = ['Fruit','vegetable']\n",
    "value=['Mango,Tomato']\n",
    "\n",
    "Expected output\n",
    "{\"Fruit\": 'Mango', 'Vegetable': 'Tomato'}\"\"\"\n",
    "\n",
    "key = ['Fruit','vegetable']\n",
    "value=['Mango','Tomato']\n",
    "a = "
   ]
  },
  {
   "cell_type": "code",
   "execution_count": 72,
   "id": "2e6a0daa",
   "metadata": {},
   "outputs": [
    {
     "name": "stdout",
     "output_type": "stream",
     "text": [
      "{1: 10, 2: 20, 3: 30, 4: 40, 5: 50, 6: 60}\n"
     ]
    }
   ],
   "source": [
    "\"\"\"Write a Python script to concentrate the following dictionaries\n",
    "to create a new one\n",
    "\n",
    "\n",
    "Sample Dictionary: \n",
    "dic1= {1:10, 2:20}\n",
    "dic2= {3:30, 4:40}\n",
    "dic3= {5:50, 6:60}\n",
    "\n",
    "Expected Result : {1:10, 2:20, 3:30, 4:40, 5:50, 6:60}\"\"\"\n",
    "\n",
    "dic1= {1:10, 2:20}\n",
    "dic2= {3:30, 4:40}\n",
    "dic3= {5:50, 6:60}\n",
    "\n",
    "dic = {}\n",
    "for i in dic1,dic2,dic3:\n",
    "    dic.update(i)\n",
    "print(dic)\n",
    "\n",
    "\n",
    "\n"
   ]
  },
  {
   "cell_type": "code",
   "execution_count": 51,
   "id": "2ffe3cf4",
   "metadata": {},
   "outputs": [
    {
     "name": "stdout",
     "output_type": "stream",
     "text": [
      "i\n",
      "p\n",
      "c\n",
      "s\n",
      " \n",
      "c\n",
      "o\n",
      "m\n",
      "p\n",
      "u\n",
      "t\n",
      "e\n",
      "r\n",
      " \n",
      "e\n",
      "d\n",
      "u\n",
      "c\n",
      "a\n",
      "t\n",
      "i\n",
      "o\n",
      "n\n"
     ]
    }
   ],
   "source": [
    "\"\"\"Write a Python Program to replace words from dictionary\n",
    "\n",
    "val  = 'ipcs computer education'\n",
    "dic = {'computer':'software'\n",
    "        'education': 'solution'}\n",
    "        \n",
    "Output: \n",
    "Original String: ipcs computer education\n",
    "Replaced String : ipcs software education\"\"\"\n",
    "\n",
    "val  = 'ipcs computer education'\n",
    "dic = {'computer':'software','education': 'solution'}\n",
    "\n",
    "for i in val:\n",
    "    if dic \n",
    "\n",
    "    \n",
    "    \n",
    "\n"
   ]
  },
  {
   "cell_type": "code",
   "execution_count": 1,
   "id": "df784f0b",
   "metadata": {},
   "outputs": [
    {
     "name": "stdout",
     "output_type": "stream",
     "text": [
      "<class 'dict'>\n",
      "{'kavin': 1, 'navin': 2, 'prabhu': 3}\n"
     ]
    }
   ],
   "source": [
    "a = { \"kavin\": 1,\n",
    "     \"navin\": 2,\n",
    "     \"prabhu\": 3}\n",
    "print(type(a))\n",
    "print(a)"
   ]
  },
  {
   "cell_type": "code",
   "execution_count": 2,
   "id": "702f377f",
   "metadata": {},
   "outputs": [
    {
     "name": "stdout",
     "output_type": "stream",
     "text": [
      "{'kavin': 1, 'navin': 2, 'prabhu': 3}\n"
     ]
    }
   ],
   "source": [
    "a.values()\n",
    "print(a)"
   ]
  },
  {
   "cell_type": "code",
   "execution_count": 3,
   "id": "3fcaf382",
   "metadata": {},
   "outputs": [
    {
     "data": {
      "text/plain": [
       "dict_keys(['kavin', 'navin', 'prabhu'])"
      ]
     },
     "execution_count": 3,
     "metadata": {},
     "output_type": "execute_result"
    }
   ],
   "source": [
    "a.keys()"
   ]
  },
  {
   "cell_type": "code",
   "execution_count": 1,
   "id": "fba624c8",
   "metadata": {},
   "outputs": [
    {
     "name": "stdout",
     "output_type": "stream",
     "text": [
      "{1: 1, 2: 4, 3: 9, 4: 16, 5: 25, 6: 36, 7: 49, 8: 64, 9: 81, 10: 100}"
     ]
    }
   ],
   "source": [
    "\"\"\"Python Dictionary to square of numbers from 1 to 10\"\"\"\n",
    "a = {}\n",
    "\n",
    "for i in range(1, 11):\n",
    "    a[i] = i**2\n",
    "print(a, end=\"\")\n"
   ]
  },
  {
   "cell_type": "code",
   "execution_count": null,
   "id": "fc105c27",
   "metadata": {},
   "outputs": [
    {
     "name": "stdout",
     "output_type": "stream",
     "text": [
      "Enter the Item you wantBags\n",
      "Bags not available\n",
      "Bags not available\n",
      "Bags not available\n",
      "Bags is available\n"
     ]
    }
   ],
   "source": [
    "inventory = {'Men': ['Shirt','Suit','Trouser','Jeans'],\n",
    "             'Women': ['Saree','Dress_Suit','Handbag','Jewellery'],\n",
    "             'Home_Appliances': ['TV','Refridgerator'],\n",
    "             'Kids':['Toys','Bags','Books']}\n",
    "\n",
    "item = str(input(\"Enter the Item you want\"))\n",
    "\n",
    "\n",
    "for i in inventory:\n",
    "    if item in inventory[i]:\n",
    "        print(item,\"is available\")\n",
    "        buy = str(input(\"Would you like to continue buying(Yes/No)\"))\n",
    "        if buy == \"Yes\":\n",
    "            item = str(input(\"Enter the Item you want\"))\n",
    "    elif item not in inventory[i]:\n",
    "        print(item, \"not available\")"
   ]
  },
  {
   "cell_type": "code",
   "execution_count": 2,
   "id": "66f305dd",
   "metadata": {},
   "outputs": [
    {
     "ename": "NameError",
     "evalue": "name 'soap' is not defined",
     "output_type": "error",
     "traceback": [
      "\u001b[1;31m---------------------------------------------------------------------------\u001b[0m",
      "\u001b[1;31mNameError\u001b[0m                                 Traceback (most recent call last)",
      "Cell \u001b[1;32mIn[2], line 1\u001b[0m\n\u001b[1;32m----> 1\u001b[0m a \u001b[38;5;241m=\u001b[39m {soap,detergent,chocolate,toothpaste}\n\u001b[0;32m      2\u001b[0m b \u001b[38;5;241m=\u001b[39m {soap,etergent,brush,comb,toothpaste}\n\u001b[0;32m      3\u001b[0m c\u001b[38;5;241m=\u001b[39m {juice,cake,brush,comb,chips}\n",
      "\u001b[1;31mNameError\u001b[0m: name 'soap' is not defined"
     ]
    }
   ],
   "source": [
    "a = {soap,detergent,chocolate,toothpaste}\n",
    "b = {soap,etergent,brush,comb,toothpaste}\n",
    "c= {juice,cake,brush,comb,chips}\n",
    "\n",
    "\n",
    "for i in a:\n",
    "    print(i)"
   ]
  },
  {
   "cell_type": "code",
   "execution_count": 10,
   "id": "68080c31",
   "metadata": {},
   "outputs": [
    {
     "name": "stdout",
     "output_type": "stream",
     "text": [
      "All the Elements:  (('soap', 'soap'), ('detergent', 'detergent'), ('chocolate', 'brush'), ('toothpaste', 'comb'))\n"
     ]
    }
   ],
   "source": [
    "a = [\"soap\",\"detergent\",\"chocolate\",\"toothpaste\"]\n",
    "b = [\"soap\",\"detergent\",\"brush\",\"comb\",\"toothpaste\"]\n",
    "c= [\"juice\",\"cake\",\"brush\",\"comb\",\"chips\"]\n",
    "\n",
    "print(\"All the Elements: \", tuple(zip(a,b)))"
   ]
  },
  {
   "cell_type": "code",
   "execution_count": 5,
   "id": "69047676",
   "metadata": {},
   "outputs": [
    {
     "name": "stdout",
     "output_type": "stream",
     "text": [
      "Total number of items:  ['soap', 'detergent', 'chocolate', 'toothpaste', 'soap', 'detergent', 'brush', 'comb', 'toothpaste', 'juice', 'cake', 'brush', 'comb', 'chips']\n"
     ]
    }
   ],
   "source": [
    "total_item = a+b+c\n",
    "print('Total number of items: ',total_item)"
   ]
  },
  {
   "cell_type": "code",
   "execution_count": 8,
   "id": "e930acd1",
   "metadata": {},
   "outputs": [
    {
     "name": "stdout",
     "output_type": "stream",
     "text": [
      "Total number of items:  ['soap', 'detergent', 'chocolate', 'toothpaste', 'soap', 'detergent', 'brush', 'comb', 'toothpaste', 'juice', 'cake', 'brush', 'comb', 'chips']\n",
      "\n",
      "\n",
      "Unique item :  ['soap', 'detergent', 'chocolate', 'toothpaste', 'brush', 'comb', 'juice', 'cake', 'chips']\n"
     ]
    }
   ],
   "source": [
    "total_item = a+b+c\n",
    "print('Total number of items: ',total_item)\n",
    "print('\\n')\n",
    "\n",
    "per_item =[]\n",
    "\n",
    "for i in total_item:\n",
    "    if i not in per_item:\n",
    "        per_item.append(i)\n",
    "print('Unique item : ', per_item)"
   ]
  },
  {
   "cell_type": "code",
   "execution_count": 11,
   "id": "126e8ca9",
   "metadata": {},
   "outputs": [
    {
     "name": "stdout",
     "output_type": "stream",
     "text": [
      "Item sold :  {'soap': 1, 'detergent': 2, 'chocolate': 1, 'toothpaste': 2, 'brush': 1, 'comb': 1, 'juice': 2, 'cake': 1, 'chips': 2}\n"
     ]
    }
   ],
   "source": [
    "count = []\n",
    "\n",
    "for i in per_item:\n",
    "    n= 0\n",
    "    for j in total_item:\n",
    "        if i==j:\n",
    "            n = n +1\n",
    "            count.append(n)\n",
    "print(\"Item sold : \", dict(zip(per_item, count)))"
   ]
  },
  {
   "cell_type": "code",
   "execution_count": 9,
   "id": "ae28b549",
   "metadata": {},
   "outputs": [
    {
     "name": "stdout",
     "output_type": "stream",
     "text": [
      "one\n",
      "two\n",
      "three\n",
      "four\n",
      "five\n",
      "six\n",
      "seven\n",
      "eight\n",
      "nine\n",
      "ten\n"
     ]
    }
   ],
   "source": [
    "a_dictionary = {\n",
    "    1:'one',\n",
    "    2:'two',\n",
    "    3:'three',\n",
    "    4:'four',\n",
    "    5:'five',\n",
    "    6:'six',\n",
    "    7:'seven',\n",
    "    8:'eight',\n",
    "    9:'nine',\n",
    "    10:'ten'}\n",
    "for i in a_dictionary:\n",
    "    print(a_dictionary[i])"
   ]
  },
  {
   "cell_type": "code",
   "execution_count": null,
   "id": "289c8c46",
   "metadata": {},
   "outputs": [],
   "source": []
  }
 ],
 "metadata": {
  "kernelspec": {
   "display_name": "Python 3 (ipykernel)",
   "language": "python",
   "name": "python3"
  },
  "language_info": {
   "codemirror_mode": {
    "name": "ipython",
    "version": 3
   },
   "file_extension": ".py",
   "mimetype": "text/x-python",
   "name": "python",
   "nbconvert_exporter": "python",
   "pygments_lexer": "ipython3",
   "version": "3.11.3"
  }
 },
 "nbformat": 4,
 "nbformat_minor": 5
}
