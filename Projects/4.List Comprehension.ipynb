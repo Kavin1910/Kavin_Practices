{
 "cells": [
  {
   "cell_type": "markdown",
   "id": "235fa7e7",
   "metadata": {},
   "source": [
    "# `List COmprehension`"
   ]
  },
  {
   "cell_type": "code",
   "execution_count": null,
   "id": "204f9542",
   "metadata": {},
   "outputs": [],
   "source": [
    "fruits = ['apple', 'bannana','kiwi','grapes']\n",
    "\n",
    "lst=[]\n",
    "\n",
    "for i in fruits:\n",
    "    if 'a' in i:\n",
    "        lst.append(i)\n",
    "print(lst)"
   ]
  },
  {
   "cell_type": "code",
   "execution_count": 4,
   "id": "6a0d74c5",
   "metadata": {},
   "outputs": [
    {
     "data": {
      "text/plain": [
       "['apple', 'bannana', 'grapes']"
      ]
     },
     "execution_count": 4,
     "metadata": {},
     "output_type": "execute_result"
    }
   ],
   "source": [
    "# List Comprehension:\n",
    "\n",
    "# Single Line of For Loop:\n",
    "\n",
    "[i for i in fruits if 'a' in i]"
   ]
  },
  {
   "cell_type": "code",
   "execution_count": 8,
   "id": "bd213e05",
   "metadata": {},
   "outputs": [
    {
     "data": {
      "text/plain": [
       "['Kavin', 'Navin', 'Pravin']"
      ]
     },
     "execution_count": 8,
     "metadata": {},
     "output_type": "execute_result"
    }
   ],
   "source": [
    "a = ['Kavin', 'Navin','Pravin']\n",
    "\n",
    "[i for i in a if \"vin\" in i]"
   ]
  },
  {
   "cell_type": "code",
   "execution_count": 9,
   "id": "dbce45da",
   "metadata": {},
   "outputs": [
    {
     "name": "stdout",
     "output_type": "stream",
     "text": [
      "2\n",
      "4\n",
      "6\n",
      "8\n",
      "10\n",
      "12\n",
      "14\n",
      "16\n",
      "18\n",
      "20\n"
     ]
    }
   ],
   "source": [
    "for i in range(1,21):\n",
    "    if i%2==0:\n",
    "        print(i)"
   ]
  },
  {
   "cell_type": "code",
   "execution_count": 12,
   "id": "2aa33343",
   "metadata": {},
   "outputs": [
    {
     "data": {
      "text/plain": [
       "[2, 4, 6, 8, 10, 12, 14, 16, 18, 20]"
      ]
     },
     "execution_count": 12,
     "metadata": {},
     "output_type": "execute_result"
    }
   ],
   "source": [
    "n = [1,2,3,4,5,6,7,8,9,10,11,12,13,14,15,16,17,18,19,20]\n",
    "\n",
    "[i for i in n if i%2==0]"
   ]
  },
  {
   "cell_type": "code",
   "execution_count": 14,
   "id": "60da8588",
   "metadata": {},
   "outputs": [
    {
     "data": {
      "text/plain": [
       "[2, 4, 6, 8, 10, 12, 14, 16, 18, 20]"
      ]
     },
     "execution_count": 14,
     "metadata": {},
     "output_type": "execute_result"
    }
   ],
   "source": [
    "[i for  i in range(1,21) if i%2==0]"
   ]
  },
  {
   "cell_type": "code",
   "execution_count": 25,
   "id": "bc957c29",
   "metadata": {},
   "outputs": [
    {
     "data": {
      "text/plain": [
       "[7,\n",
       " 14,\n",
       " 21,\n",
       " 28,\n",
       " 35,\n",
       " 42,\n",
       " 49,\n",
       " 56,\n",
       " 63,\n",
       " 70,\n",
       " 77,\n",
       " 84,\n",
       " 91,\n",
       " 98,\n",
       " 105,\n",
       " 112,\n",
       " 119,\n",
       " 126,\n",
       " 133,\n",
       " 140,\n",
       " 147,\n",
       " 154,\n",
       " 161,\n",
       " 168,\n",
       " 175,\n",
       " 182,\n",
       " 189,\n",
       " 196,\n",
       " 203,\n",
       " 210,\n",
       " 217,\n",
       " 224,\n",
       " 231,\n",
       " 238,\n",
       " 245,\n",
       " 252,\n",
       " 259,\n",
       " 266,\n",
       " 273,\n",
       " 280,\n",
       " 287,\n",
       " 294,\n",
       " 301,\n",
       " 308,\n",
       " 315,\n",
       " 322,\n",
       " 329,\n",
       " 336,\n",
       " 343,\n",
       " 350,\n",
       " 357,\n",
       " 364,\n",
       " 371,\n",
       " 378,\n",
       " 385,\n",
       " 392,\n",
       " 399,\n",
       " 406,\n",
       " 413,\n",
       " 420,\n",
       " 427,\n",
       " 434,\n",
       " 441,\n",
       " 448,\n",
       " 455,\n",
       " 462,\n",
       " 469,\n",
       " 476,\n",
       " 483,\n",
       " 490,\n",
       " 497,\n",
       " 504,\n",
       " 511,\n",
       " 518,\n",
       " 525,\n",
       " 532,\n",
       " 539,\n",
       " 546,\n",
       " 553,\n",
       " 560,\n",
       " 567,\n",
       " 574,\n",
       " 581,\n",
       " 588,\n",
       " 595,\n",
       " 602,\n",
       " 609,\n",
       " 616,\n",
       " 623,\n",
       " 630,\n",
       " 637,\n",
       " 644,\n",
       " 651,\n",
       " 658,\n",
       " 665,\n",
       " 672,\n",
       " 679,\n",
       " 686,\n",
       " 693,\n",
       " 700,\n",
       " 707,\n",
       " 714,\n",
       " 721,\n",
       " 728,\n",
       " 735,\n",
       " 742,\n",
       " 749,\n",
       " 756,\n",
       " 763,\n",
       " 770,\n",
       " 777,\n",
       " 784,\n",
       " 791,\n",
       " 798,\n",
       " 805,\n",
       " 812,\n",
       " 819,\n",
       " 826,\n",
       " 833,\n",
       " 840,\n",
       " 847,\n",
       " 854,\n",
       " 861,\n",
       " 868,\n",
       " 875,\n",
       " 882,\n",
       " 889,\n",
       " 896,\n",
       " 903,\n",
       " 910,\n",
       " 917,\n",
       " 924,\n",
       " 931,\n",
       " 938,\n",
       " 945,\n",
       " 952,\n",
       " 959,\n",
       " 966,\n",
       " 973,\n",
       " 980,\n",
       " 987,\n",
       " 994]"
      ]
     },
     "execution_count": 25,
     "metadata": {},
     "output_type": "execute_result"
    }
   ],
   "source": [
    "#1\n",
    "a = end=''\n",
    "[i for i in range(1,1000) if i%7==0]"
   ]
  },
  {
   "cell_type": "code",
   "execution_count": 3,
   "id": "37a91d2a",
   "metadata": {
    "scrolled": true
   },
   "outputs": [
    {
     "name": "stdout",
     "output_type": "stream",
     "text": [
      "[3, 13, 23, 30, 31, 32, 33, 34, 35, 36, 37, 38, 39, 43, 53, 63, 73, 83, 93, 103, 113, 123, 130, 131, 132, 133, 134, 135, 136, 137, 138, 139, 143, 153, 163, 173, 183, 193, 203, 213, 223, 230, 231, 232, 233, 234, 235, 236, 237, 238, 239, 243, 253, 263, 273, 283, 293, 300, 301, 302, 303, 304, 305, 306, 307, 308, 309, 310, 311, 312, 313, 314, 315, 316, 317, 318, 319, 320, 321, 322, 323, 324, 325, 326, 327, 328, 329, 330, 331, 332, 333, 334, 335, 336, 337, 338, 339, 340, 341, 342, 343, 344, 345, 346, 347, 348, 349, 350, 351, 352, 353, 354, 355, 356, 357, 358, 359, 360, 361, 362, 363, 364, 365, 366, 367, 368, 369, 370, 371, 372, 373, 374, 375, 376, 377, 378, 379, 380, 381, 382, 383, 384, 385, 386, 387, 388, 389, 390, 391, 392, 393, 394, 395, 396, 397, 398, 399, 403, 413, 423, 430, 431, 432, 433, 434, 435, 436, 437, 438, 439, 443, 453, 463, 473, 483, 493, 503, 513, 523, 530, 531, 532, 533, 534, 535, 536, 537, 538, 539, 543, 553, 563, 573, 583, 593, 603, 613, 623, 630, 631, 632, 633, 634, 635, 636, 637, 638, 639, 643, 653, 663, 673, 683, 693, 703, 713, 723, 730, 731, 732, 733, 734, 735, 736, 737, 738, 739, 743, 753, 763, 773, 783, 793, 803, 813, 823, 830, 831, 832, 833, 834, 835, 836, 837, 838, 839, 843, 853, 863, 873, 883, 893, 903, 913, 923, 930, 931, 932, 933, 934, 935, 936, 937, 938, 939, 943, 953, 963, 973, 983, 993]"
     ]
    }
   ],
   "source": [
    "# 2\n",
    "\"\"\"FInd all the numbers from 1-1000 that have a 3 in them\"\"\"\n",
    "a = [i for i in range(1,1000) if '3' in str(i)]\n",
    "print(a, end='')"
   ]
  },
  {
   "cell_type": "code",
   "execution_count": 15,
   "id": "da84fe5b",
   "metadata": {},
   "outputs": [
    {
     "name": "stdout",
     "output_type": "stream",
     "text": [
      "5\n"
     ]
    }
   ],
   "source": [
    "#3\n",
    "\"\"\"Count the Spaces in a string\"\"\"\n",
    "a = \"Count the Spaces in a string\"\n",
    "count = 0\n",
    "for i in a :\n",
    "    if i==\" \":\n",
    "        count = count + 1\n",
    "print(count)\n",
    "        \n",
    "\n"
   ]
  },
  {
   "cell_type": "code",
   "execution_count": 21,
   "id": "e9d4e3ea",
   "metadata": {},
   "outputs": [
    {
     "name": "stdout",
     "output_type": "stream",
     "text": [
      "5\n"
     ]
    }
   ],
   "source": [
    "#3\n",
    "\"\"\"Count the Spaces in a string\"\"\"\n",
    "a= \"Count the Spaces in a string\"\n",
    "b = [i for i in a if i== \" \"]\n",
    "print(len(b))"
   ]
  },
  {
   "cell_type": "code",
   "execution_count": 31,
   "id": "336a1df5",
   "metadata": {},
   "outputs": [
    {
     "name": "stdout",
     "output_type": "stream",
     "text": [
      "['Y', 'l', 'l', 'w', ' ', 'Y', 'k', 's', ' ', 'l', 'k', ' ', 'y', 'l', 'l', 'n', 'g', ' ', 'n', 'd', ' ', 'y', 'w', 'n', 'n', 'g', ' ', 'n', 'd', ' ', 'y', 's', 't', 'r', 'd', 'y', ' ', 't', 'h', 'y', ' ', 'y', 'd', 'l', 'd', ' ', 'w', 'h', 'l', ' ', 't', 'n', 'g', ' ', 'y', 'k', 'y', ' ', 'y', 'm', 's']"
     ]
    }
   ],
   "source": [
    "#4\n",
    "\"\"\"Create a list of all the consonants in the string \n",
    "\"Yellow Yaks like yelling and yawning and yesturday they yodled while eating \n",
    "yuky yams\"\"\"\n",
    "\n",
    "a = 'Yellow Yaks like yelling and yawning and yesturday they yodled while eating yuky yams'\n",
    "b = 'a','e','i','o','u'\n",
    "c = [i for i in a if i not in b]\n",
    "print(c, end='')\n"
   ]
  },
  {
   "cell_type": "code",
   "execution_count": 10,
   "id": "457a0783",
   "metadata": {},
   "outputs": [
    {
     "data": {
      "text/plain": [
       "[2, 3, 4]"
      ]
     },
     "execution_count": 10,
     "metadata": {},
     "output_type": "execute_result"
    }
   ],
   "source": [
    "#5\n",
    "\"\"\"Find the Common Numbers in two lists(without using a tuple or set)\n",
    "list_a = 1,2,3,4,list_b = 2,3,4,5\"\"\"\n",
    "list_a = [1,2,3,4]\n",
    "list_b = [2,3,4,5]\n",
    "\n",
    "[i for i in list_a if i in list_b ]\n"
   ]
  },
  {
   "cell_type": "code",
   "execution_count": 51,
   "id": "b23a4ead",
   "metadata": {},
   "outputs": [
    {
     "data": {
      "text/plain": [
       "[(0, 'hi'), (1, 4), (2, 8.99), (3, 'apple'), (4, ('t', 'b', 'n'))]"
      ]
     },
     "execution_count": 51,
     "metadata": {},
     "output_type": "execute_result"
    }
   ],
   "source": [
    "#6\n",
    "\"\"\"Get the index and the value as a tuple for items in the list\n",
    "\"hi\",4,8.99,'apple',(\"t,b\",n').Result would look like\n",
    "(index,value),(index,value)\"\"\"\n",
    "lst = [\"hi\",4,8.99,'apple',(\"t\",\"b\",'n')]\n",
    "\n",
    "[(index, item) for index, item in enumerate(lst)]\n",
    "\n"
   ]
  },
  {
   "cell_type": "code",
   "execution_count": 24,
   "id": "a39bab5a",
   "metadata": {},
   "outputs": [
    {
     "name": "stdout",
     "output_type": "stream",
     "text": [
      "['all', 'of', 'the', 'in', 'a', 'are', '4'] "
     ]
    }
   ],
   "source": [
    "#7\n",
    "\"\"\"Find all of the words in a string that are less than 4 letters\"\"\"\n",
    "a = 'Find','all','of','the','words','in','a','string','that','are','less','than','4','letters'\n",
    "\n",
    "b = [ i for i in a if len(i)<4]\n",
    "print(b, end = \" \")\n",
    "\n",
    "\n"
   ]
  },
  {
   "cell_type": "code",
   "execution_count": 28,
   "id": "283a0812",
   "metadata": {},
   "outputs": [
    {
     "data": {
      "text/plain": [
       "[(1, 1), (2, 2)]"
      ]
     },
     "execution_count": 28,
     "metadata": {},
     "output_type": "execute_result"
    }
   ],
   "source": [
    "#8\n",
    "\"\"\"Produce a list of tuple consisting of only the matching numbers in these \n",
    "lists list_a = 1,2,3,4,5,6, list_b = 2,7,1,12.\n",
    "Result would look like (4,4),(12,12)\"\"\"\n",
    "\n",
    "list_a = [1,2,3,4,5,6]\n",
    "list_b = [2,7,1,12]\n",
    "\n",
    "[(i,j) for i in list_a for j in list_b if i==j]\n",
    "\n",
    "\n",
    "\n",
    "\n",
    "\n"
   ]
  },
  {
   "cell_type": "code",
   "execution_count": 15,
   "id": "6b38936a",
   "metadata": {},
   "outputs": [
    {
     "data": {
      "text/plain": [
       "'Use a nested list comprehension to find all of the numbers from\\n1-1000 that are divisible by any single digit besides 1(2-9)'"
      ]
     },
     "execution_count": 15,
     "metadata": {},
     "output_type": "execute_result"
    }
   ],
   "source": [
    "#8\n",
    "\"\"\"Use a nested list comprehension to find all of the numbers from\n",
    "1-1000 that are divisible by any single digit besides 1(2-9)\"\"\"\n",
    "\n",
    "[i for i in range(1,1001) if i%\n"
   ]
  },
  {
   "cell_type": "code",
   "execution_count": 13,
   "id": "c68d930f",
   "metadata": {},
   "outputs": [
    {
     "ename": "TypeError",
     "evalue": "'bool' object is not iterable",
     "output_type": "error",
     "traceback": [
      "\u001b[1;31m---------------------------------------------------------------------------\u001b[0m",
      "\u001b[1;31mTypeError\u001b[0m                                 Traceback (most recent call last)",
      "Cell \u001b[1;32mIn[13], line 10\u001b[0m\n\u001b[0;32m      8\u001b[0m sent \u001b[38;5;241m=\u001b[39m \u001b[38;5;124m\"\u001b[39m\u001b[38;5;124mGet only the Numbers in a sentence like \u001b[39m\u001b[38;5;124m'\u001b[39m\u001b[38;5;124mIn 1984 there were 13 instances of a protest with over 1000 people attending\u001b[39m\u001b[38;5;124m\"\u001b[39m\n\u001b[0;32m      9\u001b[0m a \u001b[38;5;241m=\u001b[39m sent\u001b[38;5;241m.\u001b[39misdigit()\n\u001b[1;32m---> 10\u001b[0m [i \u001b[38;5;28;01mfor\u001b[39;00m i \u001b[38;5;129;01min\u001b[39;00m a]\n",
      "\u001b[1;31mTypeError\u001b[0m: 'bool' object is not iterable"
     ]
    }
   ],
   "source": [
    "\"\"\"Get only the Numbers in a sentence like 'In 1984 there were 13 \n",
    "instances of a protest with over 1000 people attending'\n",
    "\n",
    "Given numbers = range(20), produce a list containing the word 'even'\n",
    "if number in the numbers is even, and the word 'odd' if the number is odd .\n",
    "Result would look like 'odd','odd','even'\"\"\"\n",
    "\n",
    "sent = \"Get only the Numbers in a sentence like 'In 1984 there were 13 instances of a protest with over 1000 people attending\"\n",
    "a = sent.isdigit()\n",
    "[i for i in a]\n",
    "\n",
    "\n",
    "\"\"\"Get only the Numbers in a sentence like 'In 1984 there were 13 \n",
    "instances of a protest with over 1000 people attending'\n",
    "\n",
    "Given numbers = range(20), produce a list containing the word 'even'\n",
    "if number in the numbers is even, and the word 'odd' if the number is odd .\n",
    "Result would look like 'odd','odd','even'\"\"\""
   ]
  },
  {
   "cell_type": "code",
   "execution_count": 43,
   "id": "3cd66192",
   "metadata": {},
   "outputs": [
    {
     "data": {
      "text/plain": [
       "['1984', '13', '1000']"
      ]
     },
     "execution_count": 43,
     "metadata": {},
     "output_type": "execute_result"
    }
   ],
   "source": [
    "\"\"\"Get only the Numbers in a sentence like 'In 1984 there were 13 \n",
    "instances of a protest with over 1000 people attending'\n",
    "\n",
    "Given numbers = range(20), produce a list containing the word 'even'\n",
    "if number in the numbers is even, and the word 'odd' if the number is odd .\n",
    "Result would look like 'odd','odd','even'\"\"\"\n",
    "\n",
    "sent = \"Get only the Numbers in a sentence like 'In 1984 there were 13 instances of a protest with over 1000 people attending\"\n",
    "a = sent.split()\n",
    "[ i for i in a if i.isdigit()]"
   ]
  },
  {
   "cell_type": "code",
   "execution_count": 66,
   "id": "2d91b173",
   "metadata": {},
   "outputs": [
    {
     "data": {
      "text/plain": [
       "[10, 20, 30, 40, 50, 60, 70, 80, 90, 100]"
      ]
     },
     "execution_count": 66,
     "metadata": {},
     "output_type": "execute_result"
    }
   ],
   "source": [
    "#A\n",
    "\"\"\"Use a list comprehension that iterates over a_list, \n",
    "prints a list composed of each value in a_list multiplied by 10 \"\"\"\n",
    "a_list = list(range(1,11))\n",
    "[i*10 for i in a_list]\n"
   ]
  },
  {
   "cell_type": "code",
   "execution_count": 60,
   "id": "025dcdc1",
   "metadata": {},
   "outputs": [
    {
     "name": "stdout",
     "output_type": "stream",
     "text": [
      "10,20,30,40,50,60,70,80,90,100,"
     ]
    }
   ],
   "source": [
    "for i in a_list:\n",
    "    i = i*10\n",
    "    print(i, end=\",\")\n"
   ]
  },
  {
   "cell_type": "code",
   "execution_count": 58,
   "id": "123ebd2e",
   "metadata": {},
   "outputs": [
    {
     "data": {
      "text/plain": [
       "[1, 3, 5, 7, 9]"
      ]
     },
     "execution_count": 58,
     "metadata": {},
     "output_type": "execute_result"
    }
   ],
   "source": [
    "#B\n",
    "\"\"\"Use a list comprehension that iterates over a_list, print a list \n",
    "composed of odd numbers from 1 to 9\"\"\"\n",
    "\n",
    "a_list = list(range(1,11))\n",
    "a_dictionary = {\n",
    "    1:'one',\n",
    "    2:'two',\n",
    "    3:'three',\n",
    "    4:'four',\n",
    "    5:'five',\n",
    "    6:'six',\n",
    "    7:'seven',\n",
    "    8:'eight',\n",
    "    9:'nine',\n",
    "    10:'ten'}\n",
    "[ i for i in a_list if i%2!=0]"
   ]
  },
  {
   "cell_type": "code",
   "execution_count": 67,
   "id": "0f6fbb15",
   "metadata": {},
   "outputs": [
    {
     "name": "stdout",
     "output_type": "stream",
     "text": [
      "{1: 'one', 2: 'two', 3: 'three', 4: 'four', 5: 'five', 6: 'six', 7: 'seven', 8: 'eight', 9: 'nine', 10: 'ten'}\n"
     ]
    }
   ],
   "source": [
    "a_dictionary = {\n",
    "    1:'one',\n",
    "    2:'two',\n",
    "    3:'three',\n",
    "    4:'four',\n",
    "    5:'five',\n",
    "    6:'six',\n",
    "    7:'seven',\n",
    "    8:'eight',\n",
    "    9:'nine',\n",
    "    10:'ten'}\n",
    "\n",
    "print(a_dictionary)"
   ]
  },
  {
   "cell_type": "code",
   "execution_count": 68,
   "id": "7581adff",
   "metadata": {},
   "outputs": [
    {
     "name": "stdout",
     "output_type": "stream",
     "text": [
      "dict_keys([1, 2, 3, 4, 5, 6, 7, 8, 9, 10])\n"
     ]
    }
   ],
   "source": [
    "print(a_dictionary.keys())"
   ]
  },
  {
   "cell_type": "code",
   "execution_count": 83,
   "id": "71c553f1",
   "metadata": {},
   "outputs": [
    {
     "name": "stdout",
     "output_type": "stream",
     "text": [
      "2 4 6 8 10 "
     ]
    }
   ],
   "source": [
    "a_dictionary = {\n",
    "    1:'one',\n",
    "    2:'two',\n",
    "    3:'three',\n",
    "    4:'four',\n",
    "    5:'five',\n",
    "    6:'six',\n",
    "    7:'seven',\n",
    "    8:'eight',\n",
    "    9:'nine',\n",
    "    10:'ten'}\n",
    "\n",
    "for i in a_dictionary.keys():\n",
    "    if i%2==0:\n",
    "        print(i, end = \" \")"
   ]
  },
  {
   "cell_type": "code",
   "execution_count": 87,
   "id": "f99523c2",
   "metadata": {},
   "outputs": [
    {
     "data": {
      "text/plain": [
       "['two', 'four', 'six', 'eight', 'ten']"
      ]
     },
     "execution_count": 87,
     "metadata": {},
     "output_type": "execute_result"
    }
   ],
   "source": [
    "[a_dictionary[i] for i in a_dictionary if i%2==0 ]                                            "
   ]
  },
  {
   "cell_type": "code",
   "execution_count": 105,
   "id": "7cb442b1",
   "metadata": {},
   "outputs": [
    {
     "name": "stdout",
     "output_type": "stream",
     "text": [
      "Enter a Number4\n"
     ]
    },
    {
     "ename": "TypeError",
     "evalue": "argument of type 'int' is not iterable",
     "output_type": "error",
     "traceback": [
      "\u001b[1;31m---------------------------------------------------------------------------\u001b[0m",
      "\u001b[1;31mTypeError\u001b[0m                                 Traceback (most recent call last)",
      "Cell \u001b[1;32mIn[105], line 14\u001b[0m\n\u001b[0;32m      1\u001b[0m x \u001b[38;5;241m=\u001b[39m\u001b[38;5;28mint\u001b[39m(\u001b[38;5;28minput\u001b[39m(\u001b[38;5;124m\"\u001b[39m\u001b[38;5;124mEnter a Number\u001b[39m\u001b[38;5;124m\"\u001b[39m))\n\u001b[0;32m      2\u001b[0m a_dictionary \u001b[38;5;241m=\u001b[39m {\n\u001b[0;32m      3\u001b[0m     \u001b[38;5;241m1\u001b[39m:\u001b[38;5;124m'\u001b[39m\u001b[38;5;124mone\u001b[39m\u001b[38;5;124m'\u001b[39m,\n\u001b[0;32m      4\u001b[0m     \u001b[38;5;241m2\u001b[39m:\u001b[38;5;124m'\u001b[39m\u001b[38;5;124mtwo\u001b[39m\u001b[38;5;124m'\u001b[39m,\n\u001b[1;32m   (...)\u001b[0m\n\u001b[0;32m     11\u001b[0m     \u001b[38;5;241m9\u001b[39m:\u001b[38;5;124m'\u001b[39m\u001b[38;5;124mnine\u001b[39m\u001b[38;5;124m'\u001b[39m,\n\u001b[0;32m     12\u001b[0m     \u001b[38;5;241m10\u001b[39m:\u001b[38;5;124m'\u001b[39m\u001b[38;5;124mten\u001b[39m\u001b[38;5;124m'\u001b[39m}\n\u001b[1;32m---> 14\u001b[0m [a_dictionary[\u001b[38;5;28mint\u001b[39m(i)] \u001b[38;5;28;01mfor\u001b[39;00m i \u001b[38;5;129;01min\u001b[39;00m a_dictionary \u001b[38;5;28;01mif\u001b[39;00m x \u001b[38;5;129;01min\u001b[39;00m i]\n",
      "Cell \u001b[1;32mIn[105], line 14\u001b[0m, in \u001b[0;36m<listcomp>\u001b[1;34m(.0)\u001b[0m\n\u001b[0;32m      1\u001b[0m x \u001b[38;5;241m=\u001b[39m\u001b[38;5;28mint\u001b[39m(\u001b[38;5;28minput\u001b[39m(\u001b[38;5;124m\"\u001b[39m\u001b[38;5;124mEnter a Number\u001b[39m\u001b[38;5;124m\"\u001b[39m))\n\u001b[0;32m      2\u001b[0m a_dictionary \u001b[38;5;241m=\u001b[39m {\n\u001b[0;32m      3\u001b[0m     \u001b[38;5;241m1\u001b[39m:\u001b[38;5;124m'\u001b[39m\u001b[38;5;124mone\u001b[39m\u001b[38;5;124m'\u001b[39m,\n\u001b[0;32m      4\u001b[0m     \u001b[38;5;241m2\u001b[39m:\u001b[38;5;124m'\u001b[39m\u001b[38;5;124mtwo\u001b[39m\u001b[38;5;124m'\u001b[39m,\n\u001b[1;32m   (...)\u001b[0m\n\u001b[0;32m     11\u001b[0m     \u001b[38;5;241m9\u001b[39m:\u001b[38;5;124m'\u001b[39m\u001b[38;5;124mnine\u001b[39m\u001b[38;5;124m'\u001b[39m,\n\u001b[0;32m     12\u001b[0m     \u001b[38;5;241m10\u001b[39m:\u001b[38;5;124m'\u001b[39m\u001b[38;5;124mten\u001b[39m\u001b[38;5;124m'\u001b[39m}\n\u001b[1;32m---> 14\u001b[0m [a_dictionary[\u001b[38;5;28mint\u001b[39m(i)] \u001b[38;5;28;01mfor\u001b[39;00m i \u001b[38;5;129;01min\u001b[39;00m a_dictionary \u001b[38;5;28;01mif\u001b[39;00m x \u001b[38;5;129;01min\u001b[39;00m i]\n",
      "\u001b[1;31mTypeError\u001b[0m: argument of type 'int' is not iterable"
     ]
    }
   ],
   "source": [
    "x =int(input(\"Enter a Number\"))\n",
    "a_dictionary = {\n",
    "    1:'one',\n",
    "    2:'two',\n",
    "    3:'three',\n",
    "    4:'four',\n",
    "    5:'five',\n",
    "    6:'six',\n",
    "    7:'seven',\n",
    "    8:'eight',\n",
    "    9:'nine',\n",
    "    10:'ten'}\n",
    "\n",
    "[a_dictionary[int(i)] for i in a_dictionary if x in i]\n",
    "\n"
   ]
  },
  {
   "cell_type": "code",
   "execution_count": 106,
   "id": "b07f86bd",
   "metadata": {},
   "outputs": [
    {
     "name": "stdout",
     "output_type": "stream",
     "text": [
      "Enter the Number : 195\n"
     ]
    },
    {
     "data": {
      "text/plain": [
       "['one', 'nine', 'five']"
      ]
     },
     "execution_count": 106,
     "metadata": {},
     "output_type": "execute_result"
    }
   ],
   "source": [
    "string = input('Enter the Number : ')\n",
    "\n",
    "[a_dictionary[int(i)] for i in string]"
   ]
  },
  {
   "cell_type": "code",
   "execution_count": 21,
   "id": "d21820b5",
   "metadata": {},
   "outputs": [
    {
     "name": "stdout",
     "output_type": "stream",
     "text": [
      "Enter the Number : 2\n",
      "<class 'int'>\n"
     ]
    }
   ],
   "source": [
    "string = int(input('Enter the Number : '))\n",
    "print(type(string))"
   ]
  },
  {
   "cell_type": "code",
   "execution_count": 5,
   "id": "e6e5e454",
   "metadata": {},
   "outputs": [
    {
     "name": "stdout",
     "output_type": "stream",
     "text": [
      "Enter the Number : 536\n",
      "five*three*six\n"
     ]
    }
   ],
   "source": [
    "a_dictionary = {\n",
    "    1:'one',\n",
    "    2:'two',\n",
    "    3:'three',\n",
    "    4:'four',\n",
    "    5:'five',\n",
    "    6:'six',\n",
    "    7:'seven',\n",
    "    8:'eight',\n",
    "    9:'nine',\n",
    "    10:'ten'}\n",
    "\n",
    "string = input('Enter the Number : ')\n",
    "\n",
    "a = [a_dictionary[int(i)] for i in string]\n",
    "b = \"*\"\n",
    "c = b.join(a)\n",
    "print(c)"
   ]
  },
  {
   "cell_type": "code",
   "execution_count": 137,
   "id": "19fe8734",
   "metadata": {},
   "outputs": [
    {
     "data": {
      "text/plain": [
       "['Kim Tremblay',\n",
       " 'Jessica Smith',\n",
       " 'Alex Roy',\n",
       " 'Sarah Khan',\n",
       " 'Samuel Lee',\n",
       " 'Ayesha Qureshi']"
      ]
     },
     "execution_count": 137,
     "metadata": {},
     "output_type": "execute_result"
    }
   ],
   "source": [
    "#A\n",
    "SPL_Patrons = [\n",
    "['Kim Tremblay', 134, True],\n",
    "['Emily Wilson', 42, False],\n",
    "['Jessica Smith', 215, True],\n",
    "['Alex Roy', 151, True],\n",
    "['Sarah Khan', 105, False],\n",
    "['Samuel Lee', 220, True],\n",
    "['William Brown', 24, False],\n",
    "['Ayesha Qureshi', 199, True],\n",
    "['David Martin', 56, True],\n",
    "['Ajeet Patel',69, False]\n",
    "]\n",
    "\n",
    "[i[0] for i in SPL_Patrons if i[1]>100]"
   ]
  },
  {
   "cell_type": "code",
   "execution_count": 131,
   "id": "cff751f6",
   "metadata": {},
   "outputs": [
    {
     "data": {
      "text/plain": [
       "['Emily Wilson', 'Sarah Khan', 'William Brown', 'Ajeet Patel']"
      ]
     },
     "execution_count": 131,
     "metadata": {},
     "output_type": "execute_result"
    }
   ],
   "source": [
    "#B\n",
    "SPL_Patrons = [\n",
    "['Kim Tremblay', 134, True],\n",
    "['Emily Wilson', 42, False],\n",
    "['Jessica Smith', 215, True],\n",
    "['Alex Roy', 151, True],\n",
    "['Sarah Khan', 105, False],\n",
    "['Samuel Lee', 220, True],\n",
    "['William Brown', 24, False],\n",
    "['Ayesha Qureshi', 199, True],\n",
    "['David Martin', 56, True],\n",
    "['Ajeet Patel',69, False]\n",
    "]\n",
    "[i[0] for i in SPL_Patrons if i[2]==False]"
   ]
  },
  {
   "cell_type": "code",
   "execution_count": 132,
   "id": "e7043418",
   "metadata": {
    "scrolled": true
   },
   "outputs": [
    {
     "data": {
      "text/plain": [
       "[1601.3,\n",
       " 501.9,\n",
       " 2569.25,\n",
       " 1804.4499999999998,\n",
       " 1254.75,\n",
       " 2629.0,\n",
       " 286.79999999999995,\n",
       " 2378.0499999999997,\n",
       " 669.1999999999999,\n",
       " 824.55]"
      ]
     },
     "execution_count": 132,
     "metadata": {},
     "output_type": "execute_result"
    }
   ],
   "source": [
    "#C\n",
    "SPL_Patrons = [\n",
    "['Kim Tremblay', 134, True],\n",
    "['Emily Wilson', 42, False],\n",
    "['Jessica Smith', 215, True],\n",
    "['Alex Roy', 151, True],\n",
    "['Sarah Khan', 105, False],\n",
    "['Samuel Lee', 220, True],\n",
    "['William Brown', 24, False],\n",
    "['Ayesha Qureshi', 199, True],\n",
    "['David Martin', 56, True],\n",
    "['Ajeet Patel',69, False]\n",
    "]\n",
    "[i[1]*11.95 for i in SPL_Patrons]"
   ]
  },
  {
   "cell_type": "code",
   "execution_count": 142,
   "id": "b7ab1aac",
   "metadata": {},
   "outputs": [
    {
     "data": {
      "text/plain": [
       "[('Emily Wilson', 501.9),\n",
       " ('Sarah Khan', 1254.75),\n",
       " ('William Brown', 286.79999999999995),\n",
       " ('Ajeet Patel', 824.55)]"
      ]
     },
     "execution_count": 142,
     "metadata": {},
     "output_type": "execute_result"
    }
   ],
   "source": [
    "#D\n",
    "SPL_Patrons = [\n",
    "['Kim Tremblay', 134, True],\n",
    "['Emily Wilson', 42, False],\n",
    "['Jessica Smith', 215, True],\n",
    "['Alex Roy', 151, True],\n",
    "['Sarah Khan', 105, False],\n",
    "['Samuel Lee', 220, True],\n",
    "['William Brown', 24, False],\n",
    "['Ayesha Qureshi', 199, True],\n",
    "['David Martin', 56, True],\n",
    "['Ajeet Patel',69, False]\n",
    "]\n",
    "\n",
    "[(i[0],i[1]*11.95) for i in SPL_Patrons if i[2]==False]"
   ]
  },
  {
   "cell_type": "code",
   "execution_count": 145,
   "id": "5db208b6",
   "metadata": {},
   "outputs": [
    {
     "data": {
      "text/plain": [
       "['Tractor Jack',\n",
       " 'Plowshare Pete',\n",
       " 'Mad Athabasca McArthur',\n",
       " 'Assiniboine Sally',\n",
       " 'Cranky Canola Carl']"
      ]
     },
     "execution_count": 145,
     "metadata": {},
     "output_type": "execute_result"
    }
   ],
   "source": [
    "#A\n",
    "prairie_pirates = [\n",
    "['Tractor Jack', 1000, True],\n",
    "['Plowshare Pete', 950, False],\n",
    "['Prairie Lily', 245, True],\n",
    "['Red River Rosie', 350, True],\n",
    "['Mad Athabasca McArthur', 842, False],\n",
    "['Assiniboine Sally', 620, True],\n",
    "['Thresher Tom', 150, True],\n",
    "['Cranky Canola Carl', 499, False]\n",
    "]\n",
    "\n",
    "[i[0] for i in prairie_pirates if i[1]>400]"
   ]
  },
  {
   "cell_type": "code",
   "execution_count": 147,
   "id": "067aca67",
   "metadata": {},
   "outputs": [
    {
     "data": {
      "text/plain": [
       "['Plowshare Pete', 'Mad Athabasca McArthur', 'Cranky Canola Carl']"
      ]
     },
     "execution_count": 147,
     "metadata": {},
     "output_type": "execute_result"
    }
   ],
   "source": [
    "#B\n",
    "\n",
    "prairie_pirates = [\n",
    "['Tractor Jack', 1000, True],\n",
    "['Plowshare Pete', 950, False],\n",
    "['Prairie Lily', 245, True],\n",
    "['Red River Rosie', 350, True],\n",
    "['Mad Athabasca McArthur', 842, False],\n",
    "['Assiniboine Sally', 620, True],\n",
    "['Thresher Tom', 150, True],\n",
    "['Cranky Canola Carl', 499, False]\n",
    "]\n",
    "\n",
    "[i[0] for i in prairie_pirates if i[2]==False]"
   ]
  },
  {
   "cell_type": "code",
   "execution_count": 148,
   "id": "09691240",
   "metadata": {},
   "outputs": [
    {
     "data": {
      "text/plain": [
       "[42000, 39900, 10290, 14700, 35364, 26040, 6300, 20958]"
      ]
     },
     "execution_count": 148,
     "metadata": {},
     "output_type": "execute_result"
    }
   ],
   "source": [
    "#C\n",
    "prairie_pirates = [\n",
    "['Tractor Jack', 1000, True],\n",
    "['Plowshare Pete', 950, False],\n",
    "['Prairie Lily', 245, True],\n",
    "['Red River Rosie', 350, True],\n",
    "['Mad Athabasca McArthur', 842, False],\n",
    "['Assiniboine Sally', 620, True],\n",
    "['Thresher Tom', 150, True],\n",
    "['Cranky Canola Carl', 499, False]\n",
    "]\n",
    "\n",
    "[ i[1]*42 for i in prairie_pirates]"
   ]
  },
  {
   "cell_type": "code",
   "execution_count": 150,
   "id": "2ca0c94e",
   "metadata": {},
   "outputs": [
    {
     "data": {
      "text/plain": [
       "[('Tractor Jack', 42000),\n",
       " ('Prairie Lily', 10290),\n",
       " ('Red River Rosie', 14700),\n",
       " ('Assiniboine Sally', 26040),\n",
       " ('Thresher Tom', 6300)]"
      ]
     },
     "execution_count": 150,
     "metadata": {},
     "output_type": "execute_result"
    }
   ],
   "source": [
    "#D\n",
    "\n",
    "prairie_pirates = [\n",
    "['Tractor Jack', 1000, True],\n",
    "['Plowshare Pete', 950, False],\n",
    "['Prairie Lily', 245, True],\n",
    "['Red River Rosie', 350, True],\n",
    "['Mad Athabasca McArthur', 842, False],\n",
    "['Assiniboine Sally', 620, True],\n",
    "['Thresher Tom', 150, True],\n",
    "['Cranky Canola Carl', 499, False]\n",
    "]\n",
    "\n",
    "[(i[0],i[1]*42) for i in prairie_pirates if i[2] ==True]"
   ]
  },
  {
   "cell_type": "code",
   "execution_count": 181,
   "id": "4c700f87",
   "metadata": {},
   "outputs": [
    {
     "name": "stdout",
     "output_type": "stream",
     "text": [
      "E v e n O d d "
     ]
    }
   ],
   "source": [
    "\n",
    "a = 'Even'\n",
    "b = 'Odd'\n",
    "\n",
    "for i in a:\n",
    "    print(i, end=\" \")\n",
    "for j in b:\n",
    "        print(j , end=\" \")"
   ]
  },
  {
   "cell_type": "code",
   "execution_count": 221,
   "id": "2880cf48",
   "metadata": {},
   "outputs": [
    {
     "name": "stdout",
     "output_type": "stream",
     "text": [
      "[('Even', 'Odd'), ('Even', 'Odd'), ('Even', 'Odd')]"
     ]
    }
   ],
   "source": [
    "a = 'Even'\n",
    "b = 'Odd'\n",
    "\n",
    "c = [ (a,b) for i in range(0,3)]\n",
    "\n",
    "print(c, end=\"\")"
   ]
  },
  {
   "cell_type": "code",
   "execution_count": 223,
   "id": "8779938d",
   "metadata": {},
   "outputs": [
    {
     "ename": "TypeError",
     "evalue": "'int' object is not iterable",
     "output_type": "error",
     "traceback": [
      "\u001b[1;31m---------------------------------------------------------------------------\u001b[0m",
      "\u001b[1;31mTypeError\u001b[0m                                 Traceback (most recent call last)",
      "Cell \u001b[1;32mIn[223], line 4\u001b[0m\n\u001b[0;32m      2\u001b[0m b \u001b[38;5;241m=\u001b[39m \u001b[38;5;124m'\u001b[39m\u001b[38;5;124mOdd\u001b[39m\u001b[38;5;124m'\u001b[39m\n\u001b[0;32m      3\u001b[0m n \u001b[38;5;241m=\u001b[39m \u001b[38;5;241m5\u001b[39m\n\u001b[1;32m----> 4\u001b[0m [ a[\u001b[38;5;241m0\u001b[39m] \u001b[38;5;28;01mfor\u001b[39;00m i \u001b[38;5;129;01min\u001b[39;00m n]\n",
      "\u001b[1;31mTypeError\u001b[0m: 'int' object is not iterable"
     ]
    }
   ],
   "source": [
    "a = 'Even'\n",
    "b = 'Odd'\n",
    "n = 5\n",
    "[ a[0] for i in n"
   ]
  },
  {
   "cell_type": "code",
   "execution_count": 226,
   "id": "83dbed9d",
   "metadata": {},
   "outputs": [
    {
     "data": {
      "text/plain": [
       "['Odd']"
      ]
     },
     "execution_count": 226,
     "metadata": {},
     "output_type": "execute_result"
    }
   ],
   "source": [
    "a = ['Even','Odd']\n",
    "\n",
    "[ i for i in a if \"Even\" and \"Odd\" in i]"
   ]
  },
  {
   "cell_type": "code",
   "execution_count": 227,
   "id": "cd162dcc",
   "metadata": {},
   "outputs": [
    {
     "data": {
      "text/plain": [
       "['Even', '0dd', 'Even', '0dd', 'Even', '0dd', 'Even', '0dd', 'Even', '0dd']"
      ]
     },
     "execution_count": 227,
     "metadata": {},
     "output_type": "execute_result"
    }
   ],
   "source": [
    "['Even' if i % 2 == 0 else '0dd' for i in range(10)]"
   ]
  },
  {
   "cell_type": "code",
   "execution_count": 228,
   "id": "4542cfce",
   "metadata": {},
   "outputs": [
    {
     "data": {
      "text/plain": [
       "['Even', 'Odd', 'Even', 'Odd', 'Even']"
      ]
     },
     "execution_count": 228,
     "metadata": {},
     "output_type": "execute_result"
    }
   ],
   "source": [
    "\"\"\"Fetch an output : \n",
    "\n",
    "Output - 1:\n",
    "['Even', 'Odd', 'Even', 'Odd', 'Even']\"\"\"\n",
    "\n",
    "a = ['Even' if i%2==0 else 'Odd' for i in range(5)]\n",
    "print()"
   ]
  },
  {
   "cell_type": "code",
   "execution_count": null,
   "id": "398b3b09",
   "metadata": {},
   "outputs": [],
   "source": [
    "['Even' if i % 2 == 0 else '0dd' for i in range(10)]"
   ]
  },
  {
   "cell_type": "code",
   "execution_count": 259,
   "id": "1f01e942",
   "metadata": {},
   "outputs": [
    {
     "data": {
      "text/plain": [
       "['t', 'i', 'a', 'e']"
      ]
     },
     "execution_count": 259,
     "metadata": {},
     "output_type": "execute_result"
    }
   ],
   "source": [
    "\"\"\"Use list comprehension to make a list of the first letter of each word\n",
    "in the following list:\n",
    "wordList = [\"this\", \"is\", \"an\", \"example\"]\"\"\"\n",
    "\n",
    "wordlist = [\"this\", \"is\", \"an\", \"example\"]\n",
    "\n",
    "[ i[0] for i in wordlist]"
   ]
  },
  {
   "cell_type": "code",
   "execution_count": 21,
   "id": "d8d47a8b",
   "metadata": {},
   "outputs": [
    {
     "ename": "TypeError",
     "evalue": "can only concatenate str (not \"list\") to str",
     "output_type": "error",
     "traceback": [
      "\u001b[1;31m---------------------------------------------------------------------------\u001b[0m",
      "\u001b[1;31mTypeError\u001b[0m                                 Traceback (most recent call last)",
      "Cell \u001b[1;32mIn[21], line 8\u001b[0m\n\u001b[0;32m      5\u001b[0m string \u001b[38;5;241m=\u001b[39m \u001b[38;5;124m\"\u001b[39m\u001b[38;5;124mFall is Awesome in Alabama\u001b[39m\u001b[38;5;124m\"\u001b[39m\n\u001b[0;32m      6\u001b[0m a \u001b[38;5;241m=\u001b[39m string\u001b[38;5;241m.\u001b[39msplit()\n\u001b[1;32m----> 8\u001b[0m [\u001b[38;5;124m\"\u001b[39m\u001b[38;5;124m%\u001b[39m\u001b[38;5;124m\"\u001b[39m\u001b[38;5;241m+\u001b[39m a \u001b[38;5;241m+\u001b[39m \u001b[38;5;124m\"\u001b[39m\u001b[38;5;124m \u001b[39m\u001b[38;5;124m%\u001b[39m\u001b[38;5;124m\"\u001b[39m \u001b[38;5;28;01mfor\u001b[39;00m i \u001b[38;5;129;01min\u001b[39;00m a]\n",
      "Cell \u001b[1;32mIn[21], line 8\u001b[0m, in \u001b[0;36m<listcomp>\u001b[1;34m(.0)\u001b[0m\n\u001b[0;32m      5\u001b[0m string \u001b[38;5;241m=\u001b[39m \u001b[38;5;124m\"\u001b[39m\u001b[38;5;124mFall is Awesome in Alabama\u001b[39m\u001b[38;5;124m\"\u001b[39m\n\u001b[0;32m      6\u001b[0m a \u001b[38;5;241m=\u001b[39m string\u001b[38;5;241m.\u001b[39msplit()\n\u001b[1;32m----> 8\u001b[0m [\u001b[38;5;124m\"\u001b[39m\u001b[38;5;124m%\u001b[39m\u001b[38;5;124m\"\u001b[39m\u001b[38;5;241m+\u001b[39m a \u001b[38;5;241m+\u001b[39m \u001b[38;5;124m\"\u001b[39m\u001b[38;5;124m \u001b[39m\u001b[38;5;124m%\u001b[39m\u001b[38;5;124m\"\u001b[39m \u001b[38;5;28;01mfor\u001b[39;00m i \u001b[38;5;129;01min\u001b[39;00m a]\n",
      "\u001b[1;31mTypeError\u001b[0m: can only concatenate str (not \"list\") to str"
     ]
    }
   ],
   "source": [
    "'''Add % in front and end of every single word in a given string\n",
    "str: \"Fall is Awesome in Alabama\" only using list comprehension'''\n",
    "\n",
    "\n",
    "string = \"Fall is Awesome in Alabama\"\n",
    "a = string.split()\n",
    "\n",
    "[\"%\"+ a + \" %\" for i in a]\n",
    "\n",
    "\n",
    "\n"
   ]
  },
  {
   "cell_type": "code",
   "execution_count": 19,
   "id": "a1fc37bd",
   "metadata": {},
   "outputs": [
    {
     "name": "stdout",
     "output_type": "stream",
     "text": [
      "[1, 4, 9, 16, 25, 36, 49, 64, 81, 100, 121, 144, 169, 196, 225, 256, 289, 324, 361, 400, 441, 484, 529, 576, 625]\n"
     ]
    }
   ],
   "source": [
    "a = [i**2 for i in range(1,26)]\n",
    "print(a)"
   ]
  },
  {
   "cell_type": "code",
   "execution_count": 31,
   "id": "b6d13950",
   "metadata": {},
   "outputs": [
    {
     "data": {
      "text/plain": [
       "['1*2=1',\n",
       " '2*2=4',\n",
       " '3*2=9',\n",
       " '4*2=16',\n",
       " '5*2=25',\n",
       " '6*2=36',\n",
       " '7*2=49',\n",
       " '8*2=64',\n",
       " '9*2=81',\n",
       " '10*2=100',\n",
       " '11*2=121',\n",
       " '12*2=144',\n",
       " '13*2=169',\n",
       " '14*2=196',\n",
       " '15*2=225',\n",
       " '16*2=256',\n",
       " '17*2=289',\n",
       " '18*2=324',\n",
       " '19*2=361',\n",
       " '20*2=400',\n",
       " '21*2=441',\n",
       " '22*2=484',\n",
       " '23*2=529',\n",
       " '24*2=576']"
      ]
     },
     "execution_count": 31,
     "metadata": {},
     "output_type": "execute_result"
    }
   ],
   "source": [
    "\"\"\"Write a list comprehension that returns the list\n",
    "[\"1*2=1\", \"22=4\", \"32=9\", ...., \"25*2=625\"]\"\"\"\n",
    "\n",
    "[ str(i)+ \"*2=\" + str(i * i) for i in range(1,25)]"
   ]
  },
  {
   "cell_type": "code",
   "execution_count": 23,
   "id": "5f13fc75",
   "metadata": {},
   "outputs": [
    {
     "name": "stdout",
     "output_type": "stream",
     "text": [
      "['Fall', 'is', 'Awesome', 'in', 'Alabama']\n"
     ]
    }
   ],
   "source": [
    "string = \"Fall is Awesome in Alabama\"\n",
    "a = string.split()\n",
    "print(a)"
   ]
  },
  {
   "cell_type": "code",
   "execution_count": 40,
   "id": "0e39d618",
   "metadata": {},
   "outputs": [
    {
     "data": {
      "text/plain": [
       "['%Fall is Awesome in Alabama%',\n",
       " '%Fall is Awesome in Alabama%',\n",
       " '%Fall is Awesome in Alabama%',\n",
       " '%Fall is Awesome in Alabama%',\n",
       " '%Fall is Awesome in Alabama%']"
      ]
     },
     "execution_count": 40,
     "metadata": {},
     "output_type": "execute_result"
    }
   ],
   "source": [
    "string = \"Fall is Awesome in Alabama\"\n",
    "a = string.split()\n",
    "[\"%\" + string + \"%\" for i in string.split(' ')]"
   ]
  },
  {
   "cell_type": "code",
   "execution_count": 4,
   "id": "df46d38b",
   "metadata": {},
   "outputs": [
    {
     "data": {
      "text/plain": [
       "['%Fall%', '%is%', '%awesome%', '%in%', '%alaboma%']"
      ]
     },
     "execution_count": 4,
     "metadata": {},
     "output_type": "execute_result"
    }
   ],
   "source": [
    "\"\"\"Add % in front and end of every single word in a given string str:\n",
    "\"Fall is Awesome in Alabama\" only using list comprehensions.\"\"\"\n",
    "\n",
    "str = \"Fall is awesome in alaboma\"\n",
    "\n",
    "[\"%\" + word + \"%\" for word in str.split()]"
   ]
  },
  {
   "cell_type": "code",
   "execution_count": 6,
   "id": "2db79072",
   "metadata": {},
   "outputs": [
    {
     "name": "stdout",
     "output_type": "stream",
     "text": [
      "5\n"
     ]
    }
   ],
   "source": [
    "str = ['one','seven','three','two','ten']\n",
    "\n",
    "\n",
    "print(len(str))"
   ]
  },
  {
   "cell_type": "code",
   "execution_count": 16,
   "id": "4764e465",
   "metadata": {},
   "outputs": [
    {
     "data": {
      "text/plain": [
       "[(5, 'SEVEN'), (5, 'THREE')]"
      ]
     },
     "execution_count": 16,
     "metadata": {},
     "output_type": "execute_result"
    }
   ],
   "source": [
    "a = ['one','seven','three','two','ten']\n",
    "\n",
    "[(len(i), i.upper()) for i in a if len(i)>3]"
   ]
  },
  {
   "cell_type": "code",
   "execution_count": 14,
   "id": "b62f4fc0",
   "metadata": {},
   "outputs": [
    {
     "data": {
      "text/plain": [
       "['%Fall is Awesome in Alabama%',\n",
       " '%Fall is Awesome in Alabama%',\n",
       " '%Fall is Awesome in Alabama%',\n",
       " '%Fall is Awesome in Alabama%',\n",
       " '%Fall is Awesome in Alabama%']"
      ]
     },
     "execution_count": 14,
     "metadata": {},
     "output_type": "execute_result"
    }
   ],
   "source": []
  },
  {
   "cell_type": "code",
   "execution_count": 16,
   "id": "2841d2d8",
   "metadata": {},
   "outputs": [
    {
     "data": {
      "text/plain": [
       "['Even', 'Odd', 'Even', 'Odd', 'Even']"
      ]
     },
     "execution_count": 16,
     "metadata": {},
     "output_type": "execute_result"
    }
   ],
   "source": []
  },
  {
   "cell_type": "code",
   "execution_count": null,
   "id": "e90df7f0",
   "metadata": {},
   "outputs": [],
   "source": []
  }
 ],
 "metadata": {
  "kernelspec": {
   "display_name": "Python 3 (ipykernel)",
   "language": "python",
   "name": "python3"
  },
  "language_info": {
   "codemirror_mode": {
    "name": "ipython",
    "version": 3
   },
   "file_extension": ".py",
   "mimetype": "text/x-python",
   "name": "python",
   "nbconvert_exporter": "python",
   "pygments_lexer": "ipython3",
   "version": "3.11.3"
  }
 },
 "nbformat": 4,
 "nbformat_minor": 5
}
