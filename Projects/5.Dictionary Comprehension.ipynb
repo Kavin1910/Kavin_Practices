{
 "cells": [
  {
   "cell_type": "markdown",
   "id": "5c0b5a6e",
   "metadata": {},
   "source": [
    "# `Dictionary Comprehension`"
   ]
  },
  {
   "cell_type": "code",
   "execution_count": 1,
   "id": "34bab1b4",
   "metadata": {},
   "outputs": [],
   "source": [
    "keys = ['a', 'b', 'c', 'd', 'e']\n",
    "values = [1, 2, 3, 4, 5]"
   ]
  },
  {
   "cell_type": "code",
   "execution_count": 2,
   "id": "ce207e5b",
   "metadata": {},
   "outputs": [],
   "source": [
    "a = dict(zip(keys, values))"
   ]
  },
  {
   "cell_type": "code",
   "execution_count": 3,
   "id": "0cc95594",
   "metadata": {},
   "outputs": [
    {
     "data": {
      "text/plain": [
       "{'a': 1, 'b': 2, 'c': 3, 'd': 4, 'e': 5}"
      ]
     },
     "execution_count": 3,
     "metadata": {},
     "output_type": "execute_result"
    }
   ],
   "source": [
    "a"
   ]
  },
  {
   "cell_type": "code",
   "execution_count": 5,
   "id": "2f801e4b",
   "metadata": {},
   "outputs": [
    {
     "data": {
      "text/plain": [
       "{'a': 1, 'b': 2, 'c': 3, 'd': 4, 'e': 5}"
      ]
     },
     "execution_count": 5,
     "metadata": {},
     "output_type": "execute_result"
    }
   ],
   "source": [
    "{k : v for (k,v) in zip(keys, values)}"
   ]
  },
  {
   "cell_type": "code",
   "execution_count": 7,
   "id": "a55bf2eb",
   "metadata": {},
   "outputs": [
    {
     "data": {
      "text/plain": [
       "{1: 1, 2: 4, 3: 9, 4: 16, 5: 25}"
      ]
     },
     "execution_count": 7,
     "metadata": {},
     "output_type": "execute_result"
    }
   ],
   "source": [
    "a = [1, 2, 3, 4, 5]\n",
    "\n",
    "{x : x ** 2 for x in a}"
   ]
  },
  {
   "cell_type": "code",
   "execution_count": 8,
   "id": "404b35b1",
   "metadata": {},
   "outputs": [
    {
     "data": {
      "text/plain": [
       "{'a': '1', 'b': '2', 'c': '3', 'd': '4', 'e': '5'}"
      ]
     },
     "execution_count": 8,
     "metadata": {},
     "output_type": "execute_result"
    }
   ],
   "source": [
    "a = ['a','b','c', 'd','e']\n",
    "b = ['1', '2', '3', '4', '5']\n",
    "\n",
    "{a:b for (a,b) in zip(a,b)}"
   ]
  },
  {
   "cell_type": "code",
   "execution_count": 9,
   "id": "ce6b9dd0",
   "metadata": {},
   "outputs": [
    {
     "name": "stdout",
     "output_type": "stream",
     "text": [
      "{'a': '1', 'b': '2', 'c': '3', 'd': '4', 'e': '5'}\n"
     ]
    }
   ],
   "source": [
    "c = dict(zip(a,b))\n",
    "print(c)"
   ]
  },
  {
   "cell_type": "code",
   "execution_count": 10,
   "id": "f602a72d",
   "metadata": {},
   "outputs": [
    {
     "data": {
      "text/plain": [
       "{1: 10, 2: 20, 3: 30, 4: 40, 5: 50, 6: 60}"
      ]
     },
     "execution_count": 10,
     "metadata": {},
     "output_type": "execute_result"
    }
   ],
   "source": [
    "a = 1,2,3,4,5,6\n",
    "\n",
    "{z: z*10 for z in a}\n",
    "\n"
   ]
  },
  {
   "cell_type": "code",
   "execution_count": 55,
   "id": "a1ccf746",
   "metadata": {},
   "outputs": [
    {
     "data": {
      "text/plain": [
       "{1: 1, 3: 27, 5: 125, 7: 343, 9: 729}"
      ]
     },
     "execution_count": 55,
     "metadata": {},
     "output_type": "execute_result"
    }
   ],
   "source": [
    "\"\"\"Question is range(10) in this print all the numbers which are \n",
    "cuboid and cuboid which are not divisible by 4\"\"\"\n",
    "\n",
    "\n",
    "{x:x**3 for x in range(10) if x**3%4!=0}"
   ]
  },
  {
   "cell_type": "code",
   "execution_count": 1,
   "id": "976b612c",
   "metadata": {},
   "outputs": [
    {
     "data": {
      "text/plain": [
       "{'milk': 0.7752, 'cofee': 1.5732, 'bread': 2.9488}"
      ]
     },
     "execution_count": 1,
     "metadata": {},
     "output_type": "execute_result"
    }
   ],
   "source": [
    "#Question:\n",
    "\"\"\"old_items = {'milk': 1.02, 'cofee': 2.07, 'bread': 3.88}\n",
    "Convert dollars into pounds using dictionary comprehension \n",
    "values are in dollars\n",
    "pound value = 0.76\"\"\"\n",
    "\n",
    "old_items = {'milk': 1.02, 'cofee': 2.07, 'bread': 3.88}\n",
    "\n",
    "\n",
    "{k:v*0.76 for (k,v) in old_items.items()}"
   ]
  },
  {
   "cell_type": "code",
   "execution_count": 2,
   "id": "29439ad5",
   "metadata": {},
   "outputs": [
    {
     "data": {
      "text/plain": [
       "{'O': 'ooo', 'N': 'nnn', 'I': 'iii', 'C': 'ccc', 'D': 'ddd', 'G': 'ggg'}"
      ]
     },
     "execution_count": 2,
     "metadata": {},
     "output_type": "execute_result"
    }
   ],
   "source": [
    "#Question:\n",
    "\"\"\"{'O': 'ooo', 'N': 'nnn', 'I': 'iii', 'C': 'ccc', 'D': 'ddd', 'G': 'ggg'}\n",
    "\n",
    "Fetch an output like this by dictionary comprehension\"\"\"\n",
    "\n",
    "a = [\"O\",\"N\",\"I\",\"C\",\"D\",\"G\"]\n",
    "b = ['ooo','nnn', 'iii','ccc','ddd','ggg']\n",
    "\n",
    "{a:b for a,b in zip(a,b)}"
   ]
  },
  {
   "cell_type": "code",
   "execution_count": 5,
   "id": "cea3c6ec",
   "metadata": {},
   "outputs": [
    {
     "name": "stdout",
     "output_type": "stream",
     "text": [
      "{'O': 'ooo', 'N': 'nnn', 'I': 'iii', 'C': 'ccc', 'D': 'ddd', 'G': 'ggg'}\n"
     ]
    }
   ],
   "source": [
    "x ={'O': 'ooo', 'N': 'nnn', 'I': 'iii', 'C': 'ccc', 'D': 'ddd', 'G': 'ggg'}\n",
    "print(x)\n"
   ]
  },
  {
   "cell_type": "code",
   "execution_count": 8,
   "id": "cd5f8dc8",
   "metadata": {},
   "outputs": [
    {
     "data": {
      "text/plain": [
       "{'O': 'O', 'N': 'N', 'I': 'I', 'C': 'C', 'D': 'D', 'G': 'G'}"
      ]
     },
     "execution_count": 8,
     "metadata": {},
     "output_type": "execute_result"
    }
   ],
   "source": [
    "{ a:a for a in x}"
   ]
  },
  {
   "cell_type": "code",
   "execution_count": 11,
   "id": "d2ff8e35",
   "metadata": {},
   "outputs": [
    {
     "data": {
      "text/plain": [
       "{'C': 'ccc', 'O': 'ooo', 'D': 'ddd', 'I': 'iii', 'N': 'nnn', 'G': 'ggg'}"
      ]
     },
     "execution_count": 11,
     "metadata": {},
     "output_type": "execute_result"
    }
   ],
   "source": [
    "\"\"\"{'O': 'ooo', 'N': 'nnn', 'I': 'iii', 'C': 'ccc', 'D': 'ddd', 'G': 'ggg'}\n",
    "\n",
    "Fetch an output like this by dictionary comprehension\n",
    "a = \"coding\" \"\"\"\n",
    "\n",
    "a = \"coding\"\n",
    "{ b.upper():b*3 for b in a }"
   ]
  },
  {
   "cell_type": "markdown",
   "id": "929e1891",
   "metadata": {},
   "source": [
    "# `Sums`"
   ]
  },
  {
   "cell_type": "code",
   "execution_count": 48,
   "id": "0273c0bc",
   "metadata": {},
   "outputs": [
    {
     "data": {
      "text/plain": [
       "{'kevin': 'Even', 'marcus': 'odd', 'evan': 'odd', 'nik': 'odd'}"
      ]
     },
     "execution_count": 48,
     "metadata": {},
     "output_type": "execute_result"
    }
   ],
   "source": [
    "\"\"\"ages = {\n",
    "    'kevin': 12,\n",
    "    'marcus': 9,\n",
    "    'evan': 31,\n",
    "    'nik': 31\n",
    "}\n",
    "\n",
    "Fetch an Output like this \n",
    "{'kevin': 'even', 'marcus': 'odd', 'evan': 'odd', 'nik': 'odd'}\"\"\"\n",
    "\n",
    "ages = {\n",
    "    'kevin': 12,\n",
    "    'marcus': 9,\n",
    "    'evan': 31,\n",
    "    'nik': 31\n",
    "}\n",
    "\n",
    "{k:\"odd\"if v%2!=0 else 'Even' for (k,v) in ages.items()}"
   ]
  },
  {
   "cell_type": "code",
   "execution_count": 82,
   "id": "673736f6",
   "metadata": {},
   "outputs": [
    {
     "data": {
      "text/plain": [
       "{'Harry': 0, 'Hermione': 1, 'Ron': 2, 'Neville': 3, 'Luna': 4}"
      ]
     },
     "execution_count": 82,
     "metadata": {},
     "output_type": "execute_result"
    }
   ],
   "source": [
    "\"\"\"names = ['Harry', 'Hermione', 'Ron', 'Neville', 'Luna']\n",
    "\n",
    "\n",
    "output:\n",
    "{'Harry': 0, 'Hermione': 1, 'Ron': 2, 'Neville': 3, 'Luna': 4}\"\"\"\n",
    "\n",
    "names = ['Harry', 'Hermione', 'Ron', 'Neville', 'Luna']\n",
    "{i:j for j,i in enumerate(names)}"
   ]
  },
  {
   "cell_type": "code",
   "execution_count": 84,
   "id": "e157c1aa",
   "metadata": {},
   "outputs": [
    {
     "data": {
      "text/plain": [
       "{0: 'Harry', 1: 'Hermione', 2: 'Ron', 3: 'Neville', 4: 'Luna'}"
      ]
     },
     "execution_count": 84,
     "metadata": {},
     "output_type": "execute_result"
    }
   ],
   "source": [
    "\"\"\"names = ['Harry', 'Hermione', 'Ron', 'Neville', 'Luna']\n",
    "\n",
    "\n",
    "output:\n",
    "    {0: 'Harry', 1: 'Hermione', 2: 'Ron', 3: 'Neville', 4: 'Luna'}\"\"\"\n",
    "\n",
    "names = ['Harry', 'Hermione', 'Ron', 'Neville', 'Luna']\n",
    "{i:j for i,j in enumerate(names)}"
   ]
  },
  {
   "cell_type": "code",
   "execution_count": 116,
   "id": "5d50fc21",
   "metadata": {},
   "outputs": [
    {
     "name": "stdout",
     "output_type": "stream",
     "text": [
      "{'evan': 31, 'kevin': 12}\n"
     ]
    }
   ],
   "source": [
    "\"\"\"ages = {\n",
    "    'kevin': 12,\n",
    "    'marcus': 9,\n",
    "    'evan': 31,\n",
    "    'nik': 31\n",
    "}\n",
    "\n",
    "remove marcus and nik to get this output by Dict comp:\n",
    "    \n",
    "    output:\n",
    "    \n",
    "    {'evan': 31, 'kevin': 12}\"\"\"\n",
    "\n",
    "ages = {\n",
    "    'kevin': 12,\n",
    "    'marcus': 9,\n",
    "    'evan': 31,\n",
    "    'nik': 31\n",
    "}\n",
    "a = {i:ages[i] for i in ages.keys()-{\"marcus\",\"nik\"}}\n",
    "print(a)"
   ]
  },
  {
   "cell_type": "code",
   "execution_count": 1,
   "id": "6a383963",
   "metadata": {},
   "outputs": [
    {
     "data": {
      "text/plain": [
       "{'nik': 'name', 31: 'age', 'datagy': 'company'}"
      ]
     },
     "execution_count": 1,
     "metadata": {},
     "output_type": "execute_result"
    }
   ],
   "source": [
    "\"\"\"user = {\n",
    "    'name': 'nik',\n",
    "    'age': 31,\n",
    "    'company': 'datagy'\n",
    "}\n",
    "\n",
    "replacement of key and values:\n",
    "    \n",
    "    {'nik': 'name', 31: 'age', 'datagy': 'company'}\"\"\"\n",
    "user = {\n",
    "    'name': 'nik',\n",
    "    'age': 31,\n",
    "    'company': 'datagy'\n",
    "}\n",
    "\n",
    "{i:j for j,i in user.items()}"
   ]
  },
  {
   "cell_type": "code",
   "execution_count": null,
   "id": "71035f1e",
   "metadata": {},
   "outputs": [],
   "source": [
    "ages = {\n",
    "    'kevin': 12,\n",
    "    'marcus': 9,\n",
    "    'evan': 31,\n",
    "    'nik': 31\n",
    "}\n",
    "{for i in ages if keys.(i)=='kevin'}"
   ]
  },
  {
   "cell_type": "code",
   "execution_count": 6,
   "id": "71e7fc8d",
   "metadata": {},
   "outputs": [
    {
     "data": {
      "text/plain": [
       "{'curd_rice': 9, 'sandwich': 8, 'tomato_tice': 11, 'biriyani': 8, 'meals': 5}"
      ]
     },
     "execution_count": 6,
     "metadata": {},
     "output_type": "execute_result"
    }
   ],
   "source": [
    "food = {\"biriyani\",\"meals\",\"curd_rice\",\"tomato_tice\",\"sandwich\"}\n",
    "\n",
    "{i:len(i) for i in food}\n",
    "\n",
    "\n"
   ]
  },
  {
   "cell_type": "code",
   "execution_count": 12,
   "id": "bd133503",
   "metadata": {},
   "outputs": [
    {
     "name": "stdout",
     "output_type": "stream",
     "text": [
      "{'g': {'g': 'gg', 'f': 'gf'}, 'f': {'g': 'fg', 'f': 'ff'}}\n"
     ]
    }
   ],
   "source": [
    "i = \"gfg\"\n",
    "\n",
    "\n",
    "dic = {x: {y: x + y for y in i} for x in i}\n",
    " \n",
    "print(dic)"
   ]
  },
  {
   "cell_type": "code",
   "execution_count": null,
   "id": "b11de305",
   "metadata": {},
   "outputs": [],
   "source": []
  }
 ],
 "metadata": {
  "kernelspec": {
   "display_name": "Python 3 (ipykernel)",
   "language": "python",
   "name": "python3"
  },
  "language_info": {
   "codemirror_mode": {
    "name": "ipython",
    "version": 3
   },
   "file_extension": ".py",
   "mimetype": "text/x-python",
   "name": "python",
   "nbconvert_exporter": "python",
   "pygments_lexer": "ipython3",
   "version": "3.11.3"
  }
 },
 "nbformat": 4,
 "nbformat_minor": 5
}
