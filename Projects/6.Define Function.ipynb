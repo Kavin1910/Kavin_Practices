{
 "cells": [
  {
   "cell_type": "markdown",
   "id": "ec42d6dc",
   "metadata": {},
   "source": [
    "# `Define Function`"
   ]
  },
  {
   "cell_type": "code",
   "execution_count": null,
   "id": "47c1c1dc",
   "metadata": {},
   "outputs": [],
   "source": []
  },
  {
   "cell_type": "code",
   "execution_count": 2,
   "id": "ef3436e3",
   "metadata": {},
   "outputs": [
    {
     "name": "stdout",
     "output_type": "stream",
     "text": [
      "How are you\n"
     ]
    }
   ],
   "source": [
    "def my_name():\n",
    "    print(\"How are you\")\n",
    "my_name()\n",
    " \n"
   ]
  },
  {
   "cell_type": "code",
   "execution_count": 3,
   "id": "fcc4083a",
   "metadata": {},
   "outputs": [
    {
     "name": "stdout",
     "output_type": "stream",
     "text": [
      "Hello\n"
     ]
    }
   ],
   "source": [
    "def name():\n",
    "    print(\"Hello\")\n",
    "name()"
   ]
  },
  {
   "cell_type": "code",
   "execution_count": 6,
   "id": "cd73e684",
   "metadata": {},
   "outputs": [
    {
     "name": "stdout",
     "output_type": "stream",
     "text": [
      "Kavin N R\n",
      "Pravin Kumar\n",
      "Naveen Krishna\n"
     ]
    }
   ],
   "source": [
    "def a(firstname,lastname):\n",
    "    print(firstname+ \" \" +lastname)\n",
    "a('Kavin','N R')\n",
    "a('Pravin','Kumar')\n",
    "a('Naveen','Krishna')"
   ]
  },
  {
   "cell_type": "code",
   "execution_count": 7,
   "id": "68d60467",
   "metadata": {},
   "outputs": [
    {
     "name": "stdout",
     "output_type": "stream",
     "text": [
      "Kavin  Kumar\n",
      "Kiran  Raj\n",
      "Madan  Kumar\n"
     ]
    }
   ],
   "source": [
    "def name(firstname, lastname):\n",
    "    print(firstname + \" \",lastname)\n",
    "name('Kavin','Kumar')\n",
    "name('Kiran','Raj')\n",
    "name('Madan','Kumar')"
   ]
  },
  {
   "cell_type": "code",
   "execution_count": 13,
   "id": "e3a9f472",
   "metadata": {},
   "outputs": [
    {
     "name": "stdout",
     "output_type": "stream",
     "text": [
      "Kavin N R Male 23\n",
      "Naveen Krishna Male 24\n",
      "Rameshwari S Female 48\n"
     ]
    }
   ],
   "source": [
    "def a(first_name,Last_Name,Gender,Age):\n",
    "    print(first_name + \" \"+Last_Name+ \" \"+ Gender+ \" \" + Age)\n",
    "a('Kavin','N R','Male','23')\n",
    "a('Naveen','Krishna','Male','24')\n",
    "a('Rameshwari','S','Female','48')"
   ]
  },
  {
   "cell_type": "markdown",
   "id": "ed60ad0c",
   "metadata": {},
   "source": [
    "# `Return`"
   ]
  },
  {
   "cell_type": "code",
   "execution_count": 14,
   "id": "c0181a83",
   "metadata": {},
   "outputs": [
    {
     "data": {
      "text/plain": [
       "14"
      ]
     },
     "execution_count": 14,
     "metadata": {},
     "output_type": "execute_result"
    }
   ],
   "source": [
    "def addition(m,n):\n",
    "    add = m + n\n",
    "    return add\n",
    "\n",
    "addition (6,8)\n",
    "    "
   ]
  },
  {
   "cell_type": "code",
   "execution_count": 15,
   "id": "196ec858",
   "metadata": {},
   "outputs": [
    {
     "data": {
      "text/plain": [
       "64"
      ]
     },
     "execution_count": 15,
     "metadata": {},
     "output_type": "execute_result"
    }
   ],
   "source": [
    "def cube(n):\n",
    "    c = n * n * n\n",
    "    return c\n",
    "\n",
    "cube(4)"
   ]
  },
  {
   "cell_type": "code",
   "execution_count": 16,
   "id": "c7d9072e",
   "metadata": {},
   "outputs": [
    {
     "data": {
      "text/plain": [
       "4"
      ]
     },
     "execution_count": 16,
     "metadata": {},
     "output_type": "execute_result"
    }
   ],
   "source": [
    "def square(n):\n",
    "    s = n * n\n",
    "    return s\n",
    "\n",
    "square(2)"
   ]
  },
  {
   "cell_type": "code",
   "execution_count": 1,
   "id": "ffd0a34d",
   "metadata": {},
   "outputs": [
    {
     "data": {
      "text/plain": [
       "0.6666666666666666"
      ]
     },
     "execution_count": 1,
     "metadata": {},
     "output_type": "execute_result"
    }
   ],
   "source": [
    "def a(n, a):\n",
    "    b = n / a\n",
    "    return b\n",
    "\n",
    "a(2,3)"
   ]
  },
  {
   "cell_type": "code",
   "execution_count": 17,
   "id": "f5b00ee9",
   "metadata": {},
   "outputs": [
    {
     "data": {
      "text/plain": [
       "120"
      ]
     },
     "execution_count": 17,
     "metadata": {},
     "output_type": "execute_result"
    }
   ],
   "source": [
    "def hexa(n,r,t,u):\n",
    "    h = n * r * t * u\n",
    "    return h\n",
    "\n",
    "hexa(2,3,4,5)"
   ]
  },
  {
   "cell_type": "markdown",
   "id": "a9c048d9",
   "metadata": {},
   "source": [
    "# `*Args is a keyword`"
   ]
  },
  {
   "cell_type": "code",
   "execution_count": 18,
   "id": "5a450d2e",
   "metadata": {},
   "outputs": [
    {
     "name": "stdout",
     "output_type": "stream",
     "text": [
      "1\n",
      "2\n",
      "3\n",
      "4\n",
      "5\n",
      "6\n",
      "7\n",
      "8\n",
      "9\n",
      "Kavin\n",
      "N R\n",
      "BMW\n",
      "Audi\n",
      "Jaquar\n"
     ]
    }
   ],
   "source": [
    "def numbers(*args):\n",
    "    for i in args:\n",
    "        print(i)\n",
    "    \n",
    "numbers(1,2,3,4,5,6,7,8,9)\n",
    "numbers(\"Kavin\",'N R')\n",
    "numbers('BMW','Audi','Jaquar')"
   ]
  },
  {
   "cell_type": "code",
   "execution_count": 20,
   "id": "84768af8",
   "metadata": {},
   "outputs": [
    {
     "name": "stdout",
     "output_type": "stream",
     "text": [
      "Hai\n",
      "Hello\n"
     ]
    }
   ],
   "source": [
    "def z(*args):\n",
    "    for i in args:\n",
    "        print(i)\n",
    "z(\"Hai\")\n",
    "z(\"Hello\")"
   ]
  },
  {
   "cell_type": "code",
   "execution_count": 23,
   "id": "391a25af",
   "metadata": {},
   "outputs": [
    {
     "name": "stdout",
     "output_type": "stream",
     "text": [
      "Ola\n",
      "Uber\n",
      "Rapido\n"
     ]
    }
   ],
   "source": [
    "def z(*args):\n",
    "    for i in args:\n",
    "        print(i)\n",
    "    \n",
    "z('Ola')\n",
    "z('Uber')\n",
    "z('Rapido')"
   ]
  },
  {
   "cell_type": "code",
   "execution_count": 7,
   "id": "46a8016f",
   "metadata": {},
   "outputs": [
    {
     "data": {
      "text/plain": [
       "'Abc'"
      ]
     },
     "execution_count": 7,
     "metadata": {},
     "output_type": "execute_result"
    }
   ],
   "source": [
    "def name(*args):\n",
    "    for i in args:\n",
    "        return i\n",
    "name(\"Abc\")"
   ]
  },
  {
   "cell_type": "code",
   "execution_count": 3,
   "id": "7d416d98",
   "metadata": {},
   "outputs": [
    {
     "name": "stdout",
     "output_type": "stream",
     "text": [
      "The youngest child is John\n"
     ]
    }
   ],
   "source": [
    "# return a youngest child:\n",
    "\n",
    "def my_func(*kid):\n",
    "    print('The youngest child is ' + kid[2])\n",
    "    \n",
    "my_func('Tom', 'Jerry', 'John')"
   ]
  },
  {
   "cell_type": "code",
   "execution_count": 9,
   "id": "0cb4b66a",
   "metadata": {},
   "outputs": [
    {
     "name": "stdout",
     "output_type": "stream",
     "text": [
      "The birth year is 2000\n"
     ]
    }
   ],
   "source": [
    "def kavin(*birthyear):\n",
    "    print(\"The birth year is\", birthyear[2])\n",
    "    \n",
    "kavin('19','10','2000')\n",
    "    "
   ]
  },
  {
   "cell_type": "code",
   "execution_count": 13,
   "id": "9891320c",
   "metadata": {},
   "outputs": [
    {
     "name": "stdout",
     "output_type": "stream",
     "text": [
      "The birth month is 10\n",
      "The birth month is 07\n"
     ]
    }
   ],
   "source": [
    "def kavin(*birthmonth):\n",
    "    print(\"The birth month is\", birthmonth[1])\n",
    "    \n",
    "kavin('19','10','2000')\n",
    "kavin('31','07','1999')"
   ]
  },
  {
   "cell_type": "code",
   "execution_count": 15,
   "id": "d9b2e985",
   "metadata": {},
   "outputs": [
    {
     "name": "stdout",
     "output_type": "stream",
     "text": [
      "firstname Kavin\n",
      "middlename N R\n",
      "lastname John\n"
     ]
    }
   ],
   "source": [
    "# Keyword Argument:\n",
    "\n",
    "def my_func(**kwargs):\n",
    "    for i in kwargs:\n",
    "        print(i , kwargs[i])\n",
    "\n",
    "my_func (firstname = \"Kavin\",middlename = 'N R',lastname = 'John')"
   ]
  },
  {
   "cell_type": "code",
   "execution_count": 16,
   "id": "6e4987f6",
   "metadata": {},
   "outputs": [
    {
     "name": "stdout",
     "output_type": "stream",
     "text": [
      "firstname Kavin\n",
      "middlename N R\n",
      "lastname John\n",
      "firstname Kavin\n",
      "middlename N R\n",
      "lastname John\n"
     ]
    }
   ],
   "source": [
    "def my_func(**kwargs):\n",
    "    for i in kwargs:\n",
    "        print(i , kwargs[i])\n",
    "\n",
    "my_func (firstname = \"Kavin\",middlename = 'N R',lastname = 'John')\n",
    "my_func (firstname = \"Kavin\",middlename = 'N R',lastname = 'John')"
   ]
  },
  {
   "cell_type": "code",
   "execution_count": 30,
   "id": "d373c615",
   "metadata": {},
   "outputs": [
    {
     "name": "stdout",
     "output_type": "stream",
     "text": [
      "name : Alice\n",
      "Age :25\n",
      "City : New york\n",
      "country : Canada\n",
      "language : French\n",
      "population : 380000000\n",
      "colour : blue\n",
      "shape : square\n",
      "size : large\n",
      "material : wood\n"
     ]
    }
   ],
   "source": [
    "\"\"\"\n",
    "Fetch an output like this Using Define Function:\n",
    "\n",
    "name: Alice\n",
    "age: 25\n",
    "city: New York\n",
    "country: Canada\n",
    "language: French\n",
    "population: 38000000\n",
    "color: blue\n",
    "shape: square\n",
    "size: large\n",
    "material: wood\"\"\"\n",
    "\n",
    "def a(**kwargs):\n",
    "    for i in kwargs:\n",
    "        print(i, kwargs[i])\n",
    "        \n",
    "a(name = ': Alice',Age = ':25',City = ': New york',country = ': Canada',language = ': French' )\n",
    "a(population = ': 380000000',colour = ': blue',shape = ': square',size = ': large',material = ': wood')"
   ]
  },
  {
   "cell_type": "code",
   "execution_count": 73,
   "id": "3c3b1590",
   "metadata": {},
   "outputs": [
    {
     "data": {
      "text/plain": [
       "False"
      ]
     },
     "execution_count": 73,
     "metadata": {},
     "output_type": "execute_result"
    }
   ],
   "source": [
    "def my_func(a,b):\n",
    "    for i in a,b:\n",
    "        if a%b==0 or b%a==0:\n",
    "            return True\n",
    "        else:\n",
    "            return False\n",
    "         \n",
    "my_func(9,10)"
   ]
  },
  {
   "cell_type": "code",
   "execution_count": 72,
   "id": "808ae674",
   "metadata": {},
   "outputs": [
    {
     "data": {
      "text/plain": [
       "'MI'"
      ]
     },
     "execution_count": 72,
     "metadata": {},
     "output_type": "execute_result"
    }
   ],
   "source": [
    "def a(name):\n",
    "        if name==\"Mumbai Indians\":\n",
    "            return \"MI\"\n",
    "        elif name==\"Royal Challengers Bangalore\":\n",
    "            return \"RCB\"\n",
    "      \n",
    "\n",
    "        \n",
    "a(\"Mumbai Indians\")"
   ]
  },
  {
   "cell_type": "code",
   "execution_count": 1,
   "id": "c0ea3c4e",
   "metadata": {},
   "outputs": [
    {
     "data": {
      "text/plain": [
       "'Water is Boiling'"
      ]
     },
     "execution_count": 1,
     "metadata": {},
     "output_type": "execute_result"
    }
   ],
   "source": [
    "def a(water):\n",
    "    if water>=100:\n",
    "        return \"Water is Boiling\"\n",
    "    else:\n",
    "        return \"Water is not boiling\"\n",
    "a(100)\n",
    "    "
   ]
  },
  {
   "cell_type": "code",
   "execution_count": 5,
   "id": "ed4a4086",
   "metadata": {},
   "outputs": [
    {
     "name": "stdout",
     "output_type": "stream",
     "text": [
      "Eligible for Pension\n"
     ]
    }
   ],
   "source": [
    "def senior_citizen(a):\n",
    "    if a>=60 and a<100:\n",
    "        print(\"Eligible for Pension\")\n",
    "    else:\n",
    "        return \"Not a Senior Citizen\"\n",
    "    \n",
    "senior_citizen(62)"
   ]
  },
  {
   "cell_type": "code",
   "execution_count": 7,
   "id": "2fc4848d",
   "metadata": {},
   "outputs": [
    {
     "data": {
      "text/plain": [
       "'C Grade'"
      ]
     },
     "execution_count": 7,
     "metadata": {},
     "output_type": "execute_result"
    }
   ],
   "source": [
    "def marks(a):\n",
    "    if a>=90 and marks<=100:\n",
    "        return \"A+ Grade\"\n",
    "    elif a>=80 and a<=89:\n",
    "        return \"B+ Grade\"\n",
    "    elif a<=70 and a<=79:\n",
    "        return \"C Grade\"\n",
    "    elif a>=60 and a<=69:\n",
    "        return \"D Grade\"\n",
    "    elif a>=50 and a<=59:\n",
    "        return \"Not Fair\"\n",
    "    else:\n",
    "        return \"GOod Luck\"\n",
    "\n",
    "marks(50)"
   ]
  },
  {
   "cell_type": "code",
   "execution_count": 8,
   "id": "170e33ee",
   "metadata": {},
   "outputs": [
    {
     "data": {
      "text/plain": [
       "'Negative Number'"
      ]
     },
     "execution_count": 8,
     "metadata": {},
     "output_type": "execute_result"
    }
   ],
   "source": [
    "def pos(a):\n",
    "    if a>=0:\n",
    "        return \"Positive Number\"\n",
    "    else:\n",
    "        return \"Negative Number\"\n",
    "    \n",
    "pos(-1)"
   ]
  },
  {
   "cell_type": "code",
   "execution_count": 17,
   "id": "7d1478d2",
   "metadata": {},
   "outputs": [
    {
     "name": "stdout",
     "output_type": "stream",
     "text": [
      "2 X 1 = 2\n",
      "2 X 2 = 4\n",
      "2 X 3 = 6\n",
      "2 X 4 = 8\n",
      "2 X 5 = 10\n",
      "2 X 6 = 12\n",
      "2 X 7 = 14\n",
      "2 X 8 = 16\n",
      "2 X 9 = 18\n",
      "2 X 10 = 20\n"
     ]
    }
   ],
   "source": [
    "def table(a):\n",
    "    for i in range(1,11):\n",
    "        ab = a*i\n",
    "        print(a,\"X\",i,\"=\",ab)\n",
    "table(2)"
   ]
  },
  {
   "cell_type": "code",
   "execution_count": 26,
   "id": "0ae0eebd",
   "metadata": {},
   "outputs": [
    {
     "name": "stdout",
     "output_type": "stream",
     "text": [
      "Divisible by 7 and 5 1505\n",
      "Divisible by 7 and 5 1540\n",
      "Divisible by 7 and 5 1575\n",
      "Divisible by 7 and 5 1610\n",
      "Divisible by 7 and 5 1645\n",
      "Divisible by 7 and 5 1680\n",
      "Divisible by 7 and 5 1715\n",
      "Divisible by 7 and 5 1750\n",
      "Divisible by 7 and 5 1785\n",
      "Divisible by 7 and 5 1820\n",
      "Divisible by 7 and 5 1855\n",
      "Divisible by 7 and 5 1890\n",
      "Divisible by 7 and 5 1925\n",
      "Divisible by 7 and 5 1960\n",
      "Divisible by 7 and 5 1995\n",
      "Divisible by 7 and 5 2030\n",
      "Divisible by 7 and 5 2065\n",
      "Divisible by 7 and 5 2100\n",
      "Divisible by 7 and 5 2135\n",
      "Divisible by 7 and 5 2170\n",
      "Divisible by 7 and 5 2205\n",
      "Divisible by 7 and 5 2240\n",
      "Divisible by 7 and 5 2275\n",
      "Divisible by 7 and 5 2310\n",
      "Divisible by 7 and 5 2345\n",
      "Divisible by 7 and 5 2380\n",
      "Divisible by 7 and 5 2415\n",
      "Divisible by 7 and 5 2450\n",
      "Divisible by 7 and 5 2485\n",
      "Divisible by 7 and 5 2520\n",
      "Divisible by 7 and 5 2555\n",
      "Divisible by 7 and 5 2590\n",
      "Divisible by 7 and 5 2625\n",
      "Divisible by 7 and 5 2660\n",
      "Divisible by 7 and 5 2695\n"
     ]
    }
   ],
   "source": [
    "def a(c,d):\n",
    "    for i in range(1500,2700):\n",
    "        if i%5==0 and i%7==0:\n",
    "            print(\"Divisible by 7 and 5\",i)\n",
    "\n",
    "a(1501,2502)\n",
    "        "
   ]
  },
  {
   "cell_type": "code",
   "execution_count": 31,
   "id": "349af00f",
   "metadata": {},
   "outputs": [
    {
     "name": "stdout",
     "output_type": "stream",
     "text": [
      "0\n",
      "1\n",
      "2\n",
      "3\n",
      "4\n",
      "5\n",
      "6\n",
      "7\n",
      "8\n",
      "9\n",
      "10\n"
     ]
    }
   ],
   "source": [
    "def a(b):\n",
    "    for i in range(0,11):\n",
    "        print(i)\n",
    "    \n",
    "a(2)"
   ]
  },
  {
   "cell_type": "code",
   "execution_count": 33,
   "id": "f361630e",
   "metadata": {},
   "outputs": [
    {
     "name": "stdout",
     "output_type": "stream",
     "text": [
      "1\n",
      "2\n",
      "3\n",
      "4\n",
      "5\n",
      "6\n",
      "7\n",
      "8\n",
      "9\n",
      "10\n",
      "11\n",
      "12\n",
      "13\n",
      "14\n",
      "15\n",
      "16\n",
      "17\n",
      "18\n",
      "19\n"
     ]
    }
   ],
   "source": [
    "i = 1\n",
    "while(i<20):\n",
    "    print(i)\n",
    "    i = i + 1"
   ]
  },
  {
   "cell_type": "code",
   "execution_count": 1,
   "id": "2ebf2de4",
   "metadata": {},
   "outputs": [
    {
     "data": {
      "text/plain": [
       "[1,\n",
       " 4,\n",
       " 9,\n",
       " 16,\n",
       " 25,\n",
       " 36,\n",
       " 49,\n",
       " 64,\n",
       " 81,\n",
       " 100,\n",
       " 121,\n",
       " 144,\n",
       " 169,\n",
       " 196,\n",
       " 225,\n",
       " 256,\n",
       " 289,\n",
       " 324,\n",
       " 361,\n",
       " 400,\n",
       " 441,\n",
       " 484,\n",
       " 529,\n",
       " 576,\n",
       " 625]"
      ]
     },
     "execution_count": 1,
     "metadata": {},
     "output_type": "execute_result"
    }
   ],
   "source": [
    "def my_func():\n",
    "    return [i**2 for i in range(1,26)]\n",
    "    \n",
    "my_func()"
   ]
  },
  {
   "cell_type": "code",
   "execution_count": 2,
   "id": "90881f33",
   "metadata": {},
   "outputs": [
    {
     "data": {
      "text/plain": [
       "[(5, 'SEVEN'), (5, 'THREE')]"
      ]
     },
     "execution_count": 2,
     "metadata": {},
     "output_type": "execute_result"
    }
   ],
   "source": [
    "a = ['one','seven','three','two','ten']\n",
    "\n",
    "\n",
    "def b():\n",
    "    return [(len(i), i.upper()) for i in a if len(i)>3]\n",
    "b()"
   ]
  },
  {
   "cell_type": "code",
   "execution_count": 3,
   "id": "de17cc5f",
   "metadata": {},
   "outputs": [
    {
     "data": {
      "text/plain": [
       "['%Fall is Awesome in Alabama%',\n",
       " '%Fall is Awesome in Alabama%',\n",
       " '%Fall is Awesome in Alabama%',\n",
       " '%Fall is Awesome in Alabama%',\n",
       " '%Fall is Awesome in Alabama%']"
      ]
     },
     "execution_count": 3,
     "metadata": {},
     "output_type": "execute_result"
    }
   ],
   "source": [
    "string = \"Fall is Awesome in Alabama\"\n",
    "a = string.split()\n",
    "\n",
    "def b():\n",
    "    return [\"%\" + string + \"%\" for i in string.split(' ')]\n",
    "b()"
   ]
  },
  {
   "cell_type": "code",
   "execution_count": 4,
   "id": "6af088dc",
   "metadata": {},
   "outputs": [
    {
     "data": {
      "text/plain": [
       "['Even', 'Odd', 'Even', 'Odd', 'Even']"
      ]
     },
     "execution_count": 4,
     "metadata": {},
     "output_type": "execute_result"
    }
   ],
   "source": [
    "['Even', 'Odd', 'Even', 'Odd', 'Even']\n",
    "\n",
    "def C():\n",
    "    return ['Even' if i%2==0 else 'Odd' for i in range(5)]\n",
    "C()"
   ]
  },
  {
   "cell_type": "code",
   "execution_count": 11,
   "id": "e170cd91",
   "metadata": {},
   "outputs": [
    {
     "name": "stdout",
     "output_type": "stream",
     "text": [
      "Type your NameKavin\n",
      "Enter -  Stone / Paper / Scissor : Stone\n"
     ]
    },
    {
     "data": {
      "text/plain": [
       "'Computer Wins'"
      ]
     },
     "execution_count": 11,
     "metadata": {},
     "output_type": "execute_result"
    }
   ],
   "source": [
    "\n",
    "\n",
    "\n",
    "import random\n",
    "\n",
    "name = str(input(\"Type your Name\"))\n",
    "user_input = str(input('Enter -  Stone / Paper / Scissor : '))\n",
    "possible_moves = ['Stone', 'Paper', 'Scissor']\n",
    "computer_input = random.choice(possible_moves)\n",
    "\n",
    "def b():\n",
    "    if user_input==computer_input:\n",
    "        return \"Draw\"\n",
    "    elif user_input==\"Scissor\" and (computer_input==\"Stone\"):\n",
    "        return (f\"{name} Wins\")\n",
    "    elif user_input==\"Stone\" and computer_input==\"Paper\":\n",
    "        return (f\"{name} Wins\")\n",
    "    elif user_input==\"Paper\" and computer_input==\"Scissor\":\n",
    "        return (f\"{name} Wins\")\n",
    "    else:\n",
    "        return (\"Computer Wins\")\n",
    "\n",
    "b()\n",
    "\n"
   ]
  },
  {
   "cell_type": "code",
   "execution_count": 13,
   "id": "6f05674b",
   "metadata": {},
   "outputs": [
    {
     "name": "stdout",
     "output_type": "stream",
     "text": [
      "13\n"
     ]
    }
   ],
   "source": [
    "# Lambda:\n",
    "\n",
    "# It is an Anonymous function:\n",
    "\n",
    "# It has a number of arguments with single state of Expression\n",
    "\n",
    "# (Syntax) Variable = lambda argument : expression\n",
    "\n",
    "x = lambda a : a + 10\n",
    "print(x(3))"
   ]
  },
  {
   "cell_type": "code",
   "execution_count": 14,
   "id": "493656e7",
   "metadata": {},
   "outputs": [
    {
     "name": "stdout",
     "output_type": "stream",
     "text": [
      "30\n"
     ]
    }
   ],
   "source": [
    "y = lambda a, b : a * b\n",
    "print(y(5, 6))"
   ]
  },
  {
   "cell_type": "code",
   "execution_count": 15,
   "id": "3b1916c5",
   "metadata": {},
   "outputs": [
    {
     "name": "stdout",
     "output_type": "stream",
     "text": [
      "24\n"
     ]
    }
   ],
   "source": [
    "z = lambda a, b, c : a * b * c\n",
    "print(z(2, 3, 4))"
   ]
  },
  {
   "cell_type": "code",
   "execution_count": 19,
   "id": "7e12ae35",
   "metadata": {},
   "outputs": [
    {
     "name": "stdout",
     "output_type": "stream",
     "text": [
      "12\n"
     ]
    }
   ],
   "source": [
    "def my_func(n):\n",
    "    return lambda a : a * n\n",
    "\n",
    "my_function1 = my_func(3)\n",
    "\n",
    "print(my_function1(4))"
   ]
  },
  {
   "cell_type": "code",
   "execution_count": 22,
   "id": "8f0dda48",
   "metadata": {},
   "outputs": [
    {
     "name": "stdout",
     "output_type": "stream",
     "text": [
      "I AM FINE\n"
     ]
    }
   ],
   "source": [
    "a = 'i am fine'\n",
    "\n",
    "x = lambda a : a.upper()\n",
    "print(x(a))"
   ]
  },
  {
   "cell_type": "code",
   "execution_count": 35,
   "id": "ae1aac77",
   "metadata": {},
   "outputs": [
    {
     "ename": "SyntaxError",
     "evalue": "invalid syntax (50735909.py, line 3)",
     "output_type": "error",
     "traceback": [
      "\u001b[1;36m  Cell \u001b[1;32mIn[35], line 3\u001b[1;36m\u001b[0m\n\u001b[1;33m    x = lambda a,b: a(if a > b) else b\u001b[0m\n\u001b[1;37m                      ^\u001b[0m\n\u001b[1;31mSyntaxError\u001b[0m\u001b[1;31m:\u001b[0m invalid syntax\n"
     ]
    }
   ],
   "source": [
    "# 7, 9\n",
    "\n",
    "x = lambda a,b: a(if a > b) else b\n",
    "print(x(7,9))"
   ]
  },
  {
   "cell_type": "code",
   "execution_count": 33,
   "id": "adc8d92b",
   "metadata": {},
   "outputs": [
    {
     "name": "stdout",
     "output_type": "stream",
     "text": [
      "9 is greater\n"
     ]
    }
   ],
   "source": [
    "if 7<9:\n",
    "    print(9,\"is greater\")\n",
    "else:\n",
    "    print(7,\"is greater\")\n"
   ]
  },
  {
   "cell_type": "code",
   "execution_count": 37,
   "id": "10faa434",
   "metadata": {},
   "outputs": [
    {
     "name": "stdout",
     "output_type": "stream",
     "text": [
      "67\n"
     ]
    }
   ],
   "source": [
    "x = lambda a,b: a if a>b else b\n",
    "print(x(10, 67))"
   ]
  },
  {
   "cell_type": "code",
   "execution_count": 40,
   "id": "b9e072ad",
   "metadata": {},
   "outputs": [
    {
     "name": "stdout",
     "output_type": "stream",
     "text": [
      "[1, 2, 3, 4, 5, 7, 8, 9, 10, 11, 12]\n"
     ]
    }
   ],
   "source": [
    "a = [1,2,3,4,5]\n",
    "b = [7,8,9,10,11,12]\n",
    "\n",
    "x = lambda a,b: a+b\n",
    "print(x(a,b))"
   ]
  },
  {
   "cell_type": "code",
   "execution_count": null,
   "id": "542811f3",
   "metadata": {},
   "outputs": [],
   "source": []
  }
 ],
 "metadata": {
  "kernelspec": {
   "display_name": "Python 3 (ipykernel)",
   "language": "python",
   "name": "python3"
  },
  "language_info": {
   "codemirror_mode": {
    "name": "ipython",
    "version": 3
   },
   "file_extension": ".py",
   "mimetype": "text/x-python",
   "name": "python",
   "nbconvert_exporter": "python",
   "pygments_lexer": "ipython3",
   "version": "3.11.3"
  }
 },
 "nbformat": 4,
 "nbformat_minor": 5
}
