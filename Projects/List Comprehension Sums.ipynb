{
 "cells": [
  {
   "cell_type": "code",
   "execution_count": 1,
   "id": "2adca78d",
   "metadata": {},
   "outputs": [
    {
     "data": {
      "text/plain": [
       "[10, 20, 30, 40, 50, 60, 70, 80, 90, 100]"
      ]
     },
     "execution_count": 1,
     "metadata": {},
     "output_type": "execute_result"
    }
   ],
   "source": [
    "#1 Sum:\n",
    "\"\"\"Consider the following list and dictionary in your code:\n",
    "\n",
    "a_list = list(range(1, 11))\n",
    "a_dictionary = {\n",
    "1 : 'one',\n",
    "2 : 'two',\n",
    "3 : 'three',\n",
    "4 : 'four',\n",
    "5 : 'five',\n",
    "6 : 'six',\n",
    "7 : 'seven',\n",
    "8 : 'eight',\n",
    "9 : 'nine',\n",
    "10 : 'ten'}\n",
    "\n",
    "\n",
    "\n",
    "(a) Use a list comprehension that iterates over a_list, \n",
    "prints a list composed of each value in a_list multiplied by 10.\n",
    "\n",
    "\n",
    "The desired list must be like this:\n",
    "\n",
    "[ 10, 20, 30, 40, 50, 60, 70, 80, 90, 100 ]\"\"\"\n",
    "\n",
    "a_list = list(range(1,11))\n",
    "[i*10 for i in a_list]"
   ]
  },
  {
   "cell_type": "code",
   "execution_count": 2,
   "id": "ee10f891",
   "metadata": {},
   "outputs": [
    {
     "data": {
      "text/plain": [
       "[1, 3, 5, 7, 9]"
      ]
     },
     "execution_count": 2,
     "metadata": {},
     "output_type": "execute_result"
    }
   ],
   "source": [
    "\"\"\"(b) Use a list comprehension that iterates over a_list, \n",
    "prints a list composed of odd numbers from 1 to 9.\n",
    "\n",
    "The desired list must be like this:\n",
    "\n",
    "[ 1, 3, 5, 7, 9 ]\"\"\"\n",
    "\n",
    "[ i for i in a_list if i%2!=0]"
   ]
  },
  {
   "cell_type": "code",
   "execution_count": 3,
   "id": "ae9e235d",
   "metadata": {},
   "outputs": [
    {
     "data": {
      "text/plain": [
       "[1, 3, 5, 7, 9]"
      ]
     },
     "execution_count": 3,
     "metadata": {},
     "output_type": "execute_result"
    }
   ],
   "source": [
    "'''(c) Using a list comprehension which iterates over a_list\n",
    "and whose output expression accesses a value from a dictionary,\n",
    "print a list composed of the text form of each even number from 2 to 10,\n",
    "e.g.,\n",
    "The desired list must be like this:\n",
    "\n",
    "[ 'two', 'four', 'six', 'eight', 'ten' ]'''\n",
    "\n",
    "[ i for i in a_list if i%2!=0]"
   ]
  },
  {
   "cell_type": "code",
   "execution_count": 5,
   "id": "04398e84",
   "metadata": {},
   "outputs": [
    {
     "name": "stdout",
     "output_type": "stream",
     "text": [
      "Enter the Number : 123\n"
     ]
    },
    {
     "data": {
      "text/plain": [
       "['one', 'two', 'three']"
      ]
     },
     "execution_count": 5,
     "metadata": {},
     "output_type": "execute_result"
    }
   ],
   "source": [
    "'''(d) Prompt the user for a number, which will be returned from input \n",
    "as a string data type. Strings can be iterated over like lists,\n",
    "such that the loop repeats for each character in the string.\n",
    "Using a list comprehension which iterates over the user-entered string \n",
    "and whose output expression accesses values from a_dictionary, \n",
    "print a list of the text form of each digit from the user-entered string, \n",
    "e.g.,\n",
    "\n",
    "Enter a number: 195\n",
    "[ 'one', 'nine', 'five' ]'''\n",
    "\n",
    "string = input('Enter the Number : ')\n",
    "\n",
    "a_dictionary = {\n",
    "1 : 'one',\n",
    "2 : 'two',\n",
    "3 : 'three',\n",
    "4 : 'four',\n",
    "5 : 'five',\n",
    "6 : 'six',\n",
    "7 : 'seven',\n",
    "8 : 'eight',\n",
    "9 : 'nine',\n",
    "10 : 'ten'}\n",
    "\n",
    "[a_dictionary[int(i)] for i in string]"
   ]
  },
  {
   "cell_type": "code",
   "execution_count": 8,
   "id": "9d67950d",
   "metadata": {},
   "outputs": [
    {
     "name": "stdout",
     "output_type": "stream",
     "text": [
      "Enter the Number : 123\n",
      "one-two-three\n"
     ]
    }
   ],
   "source": [
    "'''(f) Using the same user-entered number and list comprehension as\n",
    "above, also print the text form of the digits in a single string \n",
    "(using the string join function) with a dash \n",
    "between each text form of the digit, e.g.,\n",
    "\n",
    "Output:\n",
    "one-nine-five'''\n",
    "\n",
    "\n",
    "\n",
    "string = input('Enter the Number : ')\n",
    "\n",
    "a = [a_dictionary[int(i)] for i in string]\n",
    "b = \"-\"\n",
    "c = b.join(a)\n",
    "print(c)"
   ]
  },
  {
   "cell_type": "code",
   "execution_count": 10,
   "id": "6f9c42ae",
   "metadata": {},
   "outputs": [
    {
     "data": {
      "text/plain": [
       "['Kim Tremblay',\n",
       " 'Jessica Smith',\n",
       " 'Alex Roy',\n",
       " 'Sarah Khan',\n",
       " 'Samuel Lee',\n",
       " 'Ayesha Qureshi']"
      ]
     },
     "execution_count": 10,
     "metadata": {},
     "output_type": "execute_result"
    }
   ],
   "source": [
    "#2 Sum:\n",
    "'''list of lists is given:\n",
    "\n",
    "SPL_Patrons = [\n",
    "['Kim Tremblay', 134, True],\n",
    "['Emily Wilson', 42, False],\n",
    "['Jessica Smith', 215, True],\n",
    "['Alex Roy', 151, True],\n",
    "['Sarah Khan', 105, False],\n",
    "['Samuel Lee', 220, True],\n",
    "['William Brown', 24, False],\n",
    "['Ayesha Qureshi', 199, True],\n",
    "['David Martin', 56, True],\n",
    "['Ajeet Patel',69, False]\n",
    "]\n",
    "Each sublist contains three pieces of information about the\n",
    "library patrons at Saskatoon Public Library\n",
    "(SPL) - patron's name, the number of books they \n",
    "have borrowed throughout the last year,and a Boolean value indicating \n",
    "whether they are under 20.\n",
    "\n",
    "(a) Use a single list comprehension to create a list of the patron\n",
    "names who borrowed more than 100 books last year.'''\n",
    "\n",
    "SPL_Patrons = [\n",
    "['Kim Tremblay', 134, True],\n",
    "['Emily Wilson', 42, False],\n",
    "['Jessica Smith', 215, True],\n",
    "['Alex Roy', 151, True],\n",
    "['Sarah Khan', 105, False],\n",
    "['Samuel Lee', 220, True],\n",
    "['William Brown', 24, False],\n",
    "['Ayesha Qureshi', 199, True],\n",
    "['David Martin', 56, True],\n",
    "['Ajeet Patel',69, False]\n",
    "]\n",
    "[i[0] for i in SPL_Patrons if i[1]>100]"
   ]
  },
  {
   "cell_type": "code",
   "execution_count": 13,
   "id": "4d284218",
   "metadata": {},
   "outputs": [
    {
     "data": {
      "text/plain": [
       "['Emily Wilson', 'Sarah Khan', 'William Brown', 'Ajeet Patel']"
      ]
     },
     "execution_count": 13,
     "metadata": {},
     "output_type": "execute_result"
    }
   ],
   "source": [
    "'''b) Use a single list comprehension to create a list of the\n",
    "patron names who are not under 20.'''\n",
    "\n",
    "[i[0] for i in SPL_Patrons if i[2]==False]"
   ]
  },
  {
   "cell_type": "code",
   "execution_count": 14,
   "id": "01178cac",
   "metadata": {},
   "outputs": [
    {
     "data": {
      "text/plain": [
       "[1601.3,\n",
       " 501.9,\n",
       " 2569.25,\n",
       " 1804.4499999999998,\n",
       " 1254.75,\n",
       " 2629.0,\n",
       " 286.79999999999995,\n",
       " 2378.0499999999997,\n",
       " 669.1999999999999,\n",
       " 824.55]"
      ]
     },
     "execution_count": 14,
     "metadata": {},
     "output_type": "execute_result"
    }
   ],
   "source": [
    "'''(c) Suppose that a patron saves on average $11.95 by \n",
    "borrowing a book instead of buying it. Use a single \n",
    "list comprehension to create a list of the amount saved for each patron.'''\n",
    "\n",
    "[i[1]*11.95 for i in SPL_Patrons]"
   ]
  },
  {
   "cell_type": "code",
   "execution_count": 15,
   "id": "6f777dbc",
   "metadata": {},
   "outputs": [
    {
     "data": {
      "text/plain": [
       "[('Emily Wilson', 501.9),\n",
       " ('Sarah Khan', 1254.75),\n",
       " ('William Brown', 286.79999999999995),\n",
       " ('Ajeet Patel', 824.55)]"
      ]
     },
     "execution_count": 15,
     "metadata": {},
     "output_type": "execute_result"
    }
   ],
   "source": [
    "'''(d) Use a single list comprehension to create a list of lists where \n",
    "each sublist consists of a patron's name and the total amount he/she\n",
    "saved last year as in part (c)), but only include those patronswho are\n",
    "under 20.'''\n",
    "\n",
    "[(i[0],i[1]*11.95) for i in SPL_Patrons if i[2]==False]"
   ]
  },
  {
   "cell_type": "code",
   "execution_count": 17,
   "id": "a6da52b8",
   "metadata": {},
   "outputs": [
    {
     "data": {
      "text/plain": [
       "['Tractor Jack',\n",
       " 'Plowshare Pete',\n",
       " 'Mad Athabasca McArthur',\n",
       " 'Assiniboine Sally',\n",
       " 'Cranky Canola Carl']"
      ]
     },
     "execution_count": 17,
     "metadata": {},
     "output_type": "execute_result"
    }
   ],
   "source": [
    "#3 Sum:\n",
    "\"\"\"\n",
    "A list of lists is given:\n",
    "\n",
    "prairie_pirates = [\n",
    "['Tractor Jack', 1000, True],\n",
    "['Plowshare Pete', 950, False],\n",
    "['Prairie Lily', 245, True],\n",
    "['Red River Rosie', 350, True],\n",
    "['Mad Athabasca McArthur', 842, False],\n",
    "['Assiniboine Sally', 620, True],\n",
    "['Thresher Tom', 150, True],\n",
    "['Cranky Canola Carl', 499, False]\n",
    "]\n",
    "Each sublist contains three pieces of information on one \n",
    "famous prairie pirate- their pirate name (pirates can have secret \n",
    "identities too!), the number of sacks of assorted grains they have \n",
    "plundered from unsuspecting farmers in the last year, and a \n",
    "Boolean value indicating whether they like parrots.\n",
    "\n",
    "(a) Use a single list comprehension to create a list of the pirate names\n",
    "who plundered more than 400 sacks of assorted grains.\"\"\"\n",
    "\n",
    "prairie_pirates = [\n",
    "['Tractor Jack', 1000, True],\n",
    "['Plowshare Pete', 950, False],\n",
    "['Prairie Lily', 245, True],\n",
    "['Red River Rosie', 350, True],\n",
    "['Mad Athabasca McArthur', 842, False],\n",
    "['Assiniboine Sally', 620, True],\n",
    "['Thresher Tom', 150, True],\n",
    "['Cranky Canola Carl', 499, False]\n",
    "]\n",
    "\n",
    "[i[0] for i in prairie_pirates if i[1]>400]"
   ]
  },
  {
   "cell_type": "code",
   "execution_count": 18,
   "id": "990de8e3",
   "metadata": {},
   "outputs": [
    {
     "data": {
      "text/plain": [
       "['Plowshare Pete', 'Mad Athabasca McArthur', 'Cranky Canola Carl']"
      ]
     },
     "execution_count": 18,
     "metadata": {},
     "output_type": "execute_result"
    }
   ],
   "source": [
    "\"\"\"(b) Use a single list comprehension to create a list of the pirate\n",
    "names who don't like parrots.\"\"\"\n",
    "\n",
    "[i[0] for i in prairie_pirates if i[2]==False]"
   ]
  },
  {
   "cell_type": "code",
   "execution_count": 19,
   "id": "34bdac66",
   "metadata": {},
   "outputs": [
    {
     "data": {
      "text/plain": [
       "[42000, 39900, 10290, 14700, 35364, 26040, 6300, 20958]"
      ]
     },
     "execution_count": 19,
     "metadata": {},
     "output_type": "execute_result"
    }
   ],
   "source": [
    "\"\"\"(c) Suppose that the average market value of a sack of grain is $42. \n",
    "Use a single list comprehension to create a list of the market values \n",
    "of each pirate's grain.\"\"\"\n",
    "\n",
    "[ i[1]*42 for i in prairie_pirates]"
   ]
  },
  {
   "cell_type": "code",
   "execution_count": 20,
   "id": "036fc0a2",
   "metadata": {},
   "outputs": [
    {
     "data": {
      "text/plain": [
       "[('Tractor Jack', 42000),\n",
       " ('Prairie Lily', 10290),\n",
       " ('Red River Rosie', 14700),\n",
       " ('Assiniboine Sally', 26040),\n",
       " ('Thresher Tom', 6300)]"
      ]
     },
     "execution_count": 20,
     "metadata": {},
     "output_type": "execute_result"
    }
   ],
   "source": [
    "\"\"\"(d) Use a single list comprehension to create a list of\n",
    "lists where each sublist consists of a pirate's name \n",
    "and the value of his/her plundered sacks of grain \n",
    "(calculate grain values as in part (c)),\n",
    "but only include those pirates who like parrots.\"\"\"\n",
    "\n",
    "[(i[0],i[1]*42) for i in prairie_pirates if i[2] ==True]"
   ]
  },
  {
   "cell_type": "code",
   "execution_count": null,
   "id": "876c8e78",
   "metadata": {},
   "outputs": [],
   "source": []
  }
 ],
 "metadata": {
  "kernelspec": {
   "display_name": "Python 3 (ipykernel)",
   "language": "python",
   "name": "python3"
  },
  "language_info": {
   "codemirror_mode": {
    "name": "ipython",
    "version": 3
   },
   "file_extension": ".py",
   "mimetype": "text/x-python",
   "name": "python",
   "nbconvert_exporter": "python",
   "pygments_lexer": "ipython3",
   "version": "3.11.3"
  }
 },
 "nbformat": 4,
 "nbformat_minor": 5
}
