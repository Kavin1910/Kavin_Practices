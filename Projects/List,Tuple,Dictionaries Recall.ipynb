{
 "cells": [
  {
   "cell_type": "markdown",
   "id": "f1c5a2cc",
   "metadata": {},
   "source": [
    "# `Special Notes`"
   ]
  },
  {
   "cell_type": "markdown",
   "id": "e15afd28",
   "metadata": {},
   "source": [
    "# `List `\n",
    "\n",
    "'''It is a Container,\n",
    "It can take multiple data Types,\n",
    "List is Mutable ,\n",
    "It comes with square braces[]'''"
   ]
  },
  {
   "cell_type": "code",
   "execution_count": null,
   "id": "41c6f5d5",
   "metadata": {},
   "outputs": [],
   "source": [
    "a.append()- It adds only one value to the container Eg:a.append(1)\n",
    "a.extend()-It adds multiple element Eg:a.extend([\"3\",\"4\"])\n",
    "a.remove()-It removes the Particular Element Eg: a.remove(5)\n",
    "a.insert(0,111)- Which Means In O th Index Position It adds 111\n",
    "a.clear - It clears the Overall List"
   ]
  },
  {
   "cell_type": "markdown",
   "id": "86c30ef0",
   "metadata": {},
   "source": [
    "# `Tuple`\n",
    "\n",
    "'''Tuple is data container,\n",
    "It is Immutable,\n",
    "It carrys mixed data types,\n",
    "It comes with ()Parenthesis.'''"
   ]
  },
  {
   "cell_type": "code",
   "execution_count": null,
   "id": "5afbfdc3",
   "metadata": {},
   "outputs": [],
   "source": [
    "# \"*\".join(a)- It will join * in the string\n",
    "# Count() - It will count the values Eg: a.count(55) Output = 1\n",
    "# index() - It will tell the Index Position a.index(2)\n"
   ]
  },
  {
   "cell_type": "markdown",
   "id": "4eeff861",
   "metadata": {},
   "source": [
    "# `Dictionaries`"
   ]
  },
  {
   "cell_type": "code",
   "execution_count": null,
   "id": "4dbdce75",
   "metadata": {},
   "outputs": [],
   "source": [
    "#It is Unordered Collection\n",
    "# Key and Value Pair\n",
    "# It comes with Curly Braces {}\n",
    "\n",
    "values()-dict1.values\n",
    "keys()-dict1.keys\n",
    "items()- key and values both combined is an item\n",
    "get() - It gets the particular item or value\n",
    "pop - It removes the Particular items dict1.pop(\"Kavin\")\n",
    "popitem() - It removes the last item by default \n",
    "update()- It updates the Keys and Values Eg: a.update({\"Kavin\" : 55})\n",
    "clear - As usual it clears the entire dictionary."
   ]
  }
 ],
 "metadata": {
  "kernelspec": {
   "display_name": "Python 3 (ipykernel)",
   "language": "python",
   "name": "python3"
  },
  "language_info": {
   "codemirror_mode": {
    "name": "ipython",
    "version": 3
   },
   "file_extension": ".py",
   "mimetype": "text/x-python",
   "name": "python",
   "nbconvert_exporter": "python",
   "pygments_lexer": "ipython3",
   "version": "3.11.3"
  }
 },
 "nbformat": 4,
 "nbformat_minor": 5
}
