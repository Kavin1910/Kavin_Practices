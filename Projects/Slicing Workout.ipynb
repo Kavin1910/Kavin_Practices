{
 "cells": [
  {
   "cell_type": "code",
   "execution_count": 8,
   "id": "4096ccbf",
   "metadata": {},
   "outputs": [
    {
     "data": {
      "text/plain": [
       "[2.0, 3, 8.0, 0, 5.3]"
      ]
     },
     "execution_count": 8,
     "metadata": {},
     "output_type": "execute_result"
    }
   ],
   "source": [
    "a = [1,2,3,4,5,6,7,8,9],[2.0,3,8.0,0,5.3,9.4]\n",
    "\n",
    "a[1][0:-1]"
   ]
  },
  {
   "cell_type": "code",
   "execution_count": 9,
   "id": "14e4cb67",
   "metadata": {},
   "outputs": [
    {
     "data": {
      "text/plain": [
       "[1, 2, 3, 4, 5, 6, 7, 8, 9]"
      ]
     },
     "execution_count": 9,
     "metadata": {},
     "output_type": "execute_result"
    }
   ],
   "source": [
    "a = [[1,2,3,4,5,6,7,8,9],[2.0,3,8.0,0,5.3,9.4]]\n",
    "\n",
    "a[0]"
   ]
  },
  {
   "cell_type": "code",
   "execution_count": 16,
   "id": "cb824baa",
   "metadata": {},
   "outputs": [
    {
     "data": {
      "text/plain": [
       "[[1, 2, 3, 4, 5, 6, 7, 8, 9], [2.0, 3, 8.0, 0, 5.3, 9.4]]"
      ]
     },
     "execution_count": 16,
     "metadata": {},
     "output_type": "execute_result"
    }
   ],
   "source": [
    "a[:]"
   ]
  },
  {
   "cell_type": "code",
   "execution_count": 17,
   "id": "dc87543f",
   "metadata": {},
   "outputs": [
    {
     "data": {
      "text/plain": [
       "[1, 2, 3, 4, 5, 6, 7, 8, 9]"
      ]
     },
     "execution_count": 17,
     "metadata": {},
     "output_type": "execute_result"
    }
   ],
   "source": [
    "a[0]"
   ]
  },
  {
   "cell_type": "code",
   "execution_count": 24,
   "id": "9e3e0a5b",
   "metadata": {},
   "outputs": [
    {
     "data": {
      "text/plain": [
       "[1, 2, 3, 4, 5, 6, 7, 8, 9]"
      ]
     },
     "execution_count": 24,
     "metadata": {},
     "output_type": "execute_result"
    }
   ],
   "source": [
    "a[0]"
   ]
  },
  {
   "cell_type": "code",
   "execution_count": 26,
   "id": "32d374b3",
   "metadata": {},
   "outputs": [
    {
     "data": {
      "text/plain": [
       "[2.0, 3, 8.0, 0, 5.3, 9.4]"
      ]
     },
     "execution_count": 26,
     "metadata": {},
     "output_type": "execute_result"
    }
   ],
   "source": [
    "a[1]"
   ]
  },
  {
   "cell_type": "code",
   "execution_count": 27,
   "id": "17d036c7",
   "metadata": {},
   "outputs": [
    {
     "data": {
      "text/plain": [
       "8.0"
      ]
     },
     "execution_count": 27,
     "metadata": {},
     "output_type": "execute_result"
    }
   ],
   "source": [
    "a[1][2]"
   ]
  },
  {
   "cell_type": "code",
   "execution_count": 28,
   "id": "65586c07",
   "metadata": {},
   "outputs": [
    {
     "data": {
      "text/plain": [
       "'Hello'"
      ]
     },
     "execution_count": 28,
     "metadata": {},
     "output_type": "execute_result"
    }
   ],
   "source": [
    "b = [\"Hai\",\"Hello\"]\n",
    "\n",
    "b[1]"
   ]
  },
  {
   "cell_type": "code",
   "execution_count": 29,
   "id": "5a6aa6a5",
   "metadata": {},
   "outputs": [
    {
     "data": {
      "text/plain": [
       "'Hai'"
      ]
     },
     "execution_count": 29,
     "metadata": {},
     "output_type": "execute_result"
    }
   ],
   "source": [
    "b[0]"
   ]
  },
  {
   "cell_type": "code",
   "execution_count": 30,
   "id": "dc082425",
   "metadata": {},
   "outputs": [
    {
     "data": {
      "text/plain": [
       "0"
      ]
     },
     "execution_count": 30,
     "metadata": {},
     "output_type": "execute_result"
    }
   ],
   "source": [
    "qwe = [1,5.0,0]\n",
    "\n",
    "qwe[2]"
   ]
  },
  {
   "cell_type": "code",
   "execution_count": 31,
   "id": "5846ea39",
   "metadata": {},
   "outputs": [
    {
     "data": {
      "text/plain": [
       "'Chemistry'"
      ]
     },
     "execution_count": 31,
     "metadata": {},
     "output_type": "execute_result"
    }
   ],
   "source": [
    "b = [' Maths', 'Physics','Chemistry']\n",
    "\n",
    "b[2]"
   ]
  },
  {
   "cell_type": "code",
   "execution_count": 32,
   "id": "1ad2efdd",
   "metadata": {},
   "outputs": [
    {
     "data": {
      "text/plain": [
       "[' Maths', 'Physics', 'Chemistry']"
      ]
     },
     "execution_count": 32,
     "metadata": {},
     "output_type": "execute_result"
    }
   ],
   "source": [
    "b[0:]"
   ]
  },
  {
   "cell_type": "code",
   "execution_count": 33,
   "id": "e008e782",
   "metadata": {},
   "outputs": [
    {
     "data": {
      "text/plain": [
       "[]"
      ]
     },
     "execution_count": 33,
     "metadata": {},
     "output_type": "execute_result"
    }
   ],
   "source": [
    "b[2:2]"
   ]
  },
  {
   "cell_type": "code",
   "execution_count": 34,
   "id": "fb4c6ab6",
   "metadata": {},
   "outputs": [
    {
     "data": {
      "text/plain": [
       "['Chemistry']"
      ]
     },
     "execution_count": 34,
     "metadata": {},
     "output_type": "execute_result"
    }
   ],
   "source": [
    "b[2:]"
   ]
  },
  {
   "cell_type": "code",
   "execution_count": 35,
   "id": "fc2e1728",
   "metadata": {},
   "outputs": [
    {
     "data": {
      "text/plain": [
       "'105'"
      ]
     },
     "execution_count": 35,
     "metadata": {},
     "output_type": "execute_result"
    }
   ],
   "source": [
    "b=[[2,3,4,5,685,89,666,555,\"Python\",55,6.0,6.4,85,46,\"105\"],[4,85,88,99,77,44,66,22,33]]\n",
    "\n",
    "b[0][-1]"
   ]
  },
  {
   "cell_type": "code",
   "execution_count": 38,
   "id": "167b9bc8",
   "metadata": {},
   "outputs": [
    {
     "data": {
      "text/plain": [
       "[4, 85, 88, 99]"
      ]
     },
     "execution_count": 38,
     "metadata": {},
     "output_type": "execute_result"
    }
   ],
   "source": [
    "b[1][:4]"
   ]
  },
  {
   "cell_type": "code",
   "execution_count": 41,
   "id": "2be5df0c",
   "metadata": {},
   "outputs": [
    {
     "data": {
      "text/plain": [
       "'Python'"
      ]
     },
     "execution_count": 41,
     "metadata": {},
     "output_type": "execute_result"
    }
   ],
   "source": [
    "b[0][8]"
   ]
  },
  {
   "cell_type": "code",
   "execution_count": 42,
   "id": "e68fe765",
   "metadata": {},
   "outputs": [
    {
     "data": {
      "text/plain": [
       "[4, 85, 88, 99, 77, 44, 66, 22, 33]"
      ]
     },
     "execution_count": 42,
     "metadata": {},
     "output_type": "execute_result"
    }
   ],
   "source": [
    "b=[[2,3,4,5,685,89,666,555,\"Python\",55,6.0,6.4,85,46,\"105\"],[4,85,88,99,77,44,66,22,33]]\n",
    "\n",
    "b[-1]"
   ]
  },
  {
   "cell_type": "code",
   "execution_count": 43,
   "id": "34496a68",
   "metadata": {},
   "outputs": [
    {
     "data": {
      "text/plain": [
       "[2, 3, 4, 5, 685, 89, 666, 555, 'Python', 55, 6.0, 6.4, 85, 46, '105']"
      ]
     },
     "execution_count": 43,
     "metadata": {},
     "output_type": "execute_result"
    }
   ],
   "source": [
    "b[-2]"
   ]
  },
  {
   "cell_type": "code",
   "execution_count": 59,
   "id": "639405e6",
   "metadata": {},
   "outputs": [
    {
     "data": {
      "text/plain": [
       "'Python'"
      ]
     },
     "execution_count": 59,
     "metadata": {},
     "output_type": "execute_result"
    }
   ],
   "source": [
    "b=[[2,3,4,5,685,89,666,555,\"Python\",55,6.0,6.4,85,46,\"105\"],[4,85,88,99,77,44,66,22,33]]\n",
    "b[-2][-7]"
   ]
  },
  {
   "cell_type": "code",
   "execution_count": 60,
   "id": "e17abd78",
   "metadata": {},
   "outputs": [
    {
     "data": {
      "text/plain": [
       "[6.4, 85, 46, '105']"
      ]
     },
     "execution_count": 60,
     "metadata": {},
     "output_type": "execute_result"
    }
   ],
   "source": [
    "b[-2][-4:]"
   ]
  },
  {
   "cell_type": "code",
   "execution_count": 62,
   "id": "2a5997af",
   "metadata": {},
   "outputs": [
    {
     "data": {
      "text/plain": [
       "[77, 44, 66, 22, 33]"
      ]
     },
     "execution_count": 62,
     "metadata": {},
     "output_type": "execute_result"
    }
   ],
   "source": [
    "b[1][-5:]"
   ]
  },
  {
   "cell_type": "code",
   "execution_count": 63,
   "id": "da1e4a83",
   "metadata": {},
   "outputs": [
    {
     "data": {
      "text/plain": [
       "[4, 85, 88, 99]"
      ]
     },
     "execution_count": 63,
     "metadata": {},
     "output_type": "execute_result"
    }
   ],
   "source": [
    "b[1][:-5]"
   ]
  },
  {
   "cell_type": "code",
   "execution_count": null,
   "id": "be651def",
   "metadata": {},
   "outputs": [],
   "source": [
    "b[-1]"
   ]
  },
  {
   "cell_type": "code",
   "execution_count": 64,
   "id": "a8cc91da",
   "metadata": {},
   "outputs": [
    {
     "data": {
      "text/plain": [
       "[[4, 85, 88, 99, 77, 44, 66, 22, 33],\n",
       " [2, 3, 4, 5, 685, 89, 666, 555, 'Python', 55, 6.0, 6.4, 85, 46, '105']]"
      ]
     },
     "execution_count": 64,
     "metadata": {},
     "output_type": "execute_result"
    }
   ],
   "source": [
    "b=[[2,3,4,5,685,89,666,555,\"Python\",55,6.0,6.4,85,46,\"105\"],[4,85,88,99,77,44,66,22,33]]\n",
    "b[::-1]"
   ]
  },
  {
   "cell_type": "code",
   "execution_count": 67,
   "id": "0fb2bef6",
   "metadata": {},
   "outputs": [
    {
     "data": {
      "text/plain": [
       "[[4, 85, 88, 99, 77, 44, 66, 22, 33],\n",
       " [2, 3, 4, 5, 685, 89, 666, 555, 'Python', 55, 6.0, 6.4, 85, 46, '105']]"
      ]
     },
     "execution_count": 67,
     "metadata": {},
     "output_type": "execute_result"
    }
   ],
   "source": [
    "b=[[2,3,4,5,685,89,666,555,\"Python\",55,6.0,6.4,85,46,\"105\"],[4,85,88,99,77,44,66,22,33]]\n",
    "b[1::-1]"
   ]
  },
  {
   "cell_type": "code",
   "execution_count": 72,
   "id": "bd0ad57e",
   "metadata": {},
   "outputs": [
    {
     "data": {
      "text/plain": [
       "[[2, 3, 4, 5, 685, 89, 666, 555, 'Python', 55, 6.0, 6.4, 85, 46, '105']]"
      ]
     },
     "execution_count": 72,
     "metadata": {},
     "output_type": "execute_result"
    }
   ],
   "source": [
    "b[-2::-2]"
   ]
  },
  {
   "cell_type": "code",
   "execution_count": 73,
   "id": "54aea628",
   "metadata": {},
   "outputs": [
    {
     "data": {
      "text/plain": [
       "[[2, 3, 4, 5, 685, 89, 666, 555, 'Python', 55, 6.0, 6.4, 85, 46, '105'],\n",
       " [4, 85, 88, 99, 77, 44, 66, 22, 33]]"
      ]
     },
     "execution_count": 73,
     "metadata": {},
     "output_type": "execute_result"
    }
   ],
   "source": [
    "b[:2]"
   ]
  },
  {
   "cell_type": "code",
   "execution_count": 74,
   "id": "46c9daf4",
   "metadata": {},
   "outputs": [
    {
     "data": {
      "text/plain": [
       "[[2, 3, 4, 5, 685, 89, 666, 555, 'Python', 55, 6.0, 6.4, 85, 46, '105'],\n",
       " [4, 85, 88, 99, 77, 44, 66, 22, 33]]"
      ]
     },
     "execution_count": 74,
     "metadata": {},
     "output_type": "execute_result"
    }
   ],
   "source": [
    "b[::]"
   ]
  },
  {
   "cell_type": "code",
   "execution_count": 76,
   "id": "e94ecd4d",
   "metadata": {},
   "outputs": [
    {
     "ename": "ValueError",
     "evalue": "slice step cannot be zero",
     "output_type": "error",
     "traceback": [
      "\u001b[1;31m---------------------------------------------------------------------------\u001b[0m",
      "\u001b[1;31mValueError\u001b[0m                                Traceback (most recent call last)",
      "Cell \u001b[1;32mIn[76], line 1\u001b[0m\n\u001b[1;32m----> 1\u001b[0m b[::\u001b[38;5;241m0\u001b[39m]\n",
      "\u001b[1;31mValueError\u001b[0m: slice step cannot be zero"
     ]
    }
   ],
   "source": [
    "b[::0]"
   ]
  },
  {
   "cell_type": "code",
   "execution_count": 77,
   "id": "f984837f",
   "metadata": {},
   "outputs": [
    {
     "data": {
      "text/plain": [
       "[2, 3, 4, 5, 685, 89, 666, 555, 'Python', 55, 6.0, 6.4, 85, 46, '105']"
      ]
     },
     "execution_count": 77,
     "metadata": {},
     "output_type": "execute_result"
    }
   ],
   "source": [
    "b[0]"
   ]
  },
  {
   "cell_type": "code",
   "execution_count": 78,
   "id": "3d4534f0",
   "metadata": {},
   "outputs": [
    {
     "data": {
      "text/plain": [
       "[4, 5, 685, 89, 666, 555, 'Python', 55, 6.0, 6.4, 85, 46, '105']"
      ]
     },
     "execution_count": 78,
     "metadata": {},
     "output_type": "execute_result"
    }
   ],
   "source": [
    "b[0][2:]"
   ]
  },
  {
   "cell_type": "code",
   "execution_count": 80,
   "id": "4fda25fd",
   "metadata": {},
   "outputs": [
    {
     "data": {
      "text/plain": [
       "['assa']"
      ]
     },
     "execution_count": 80,
     "metadata": {},
     "output_type": "execute_result"
    }
   ],
   "source": [
    "c = [[\"a\",\"fgfgfg\",\"Montblanc\",\"Pesico\",\"Ikea\",\"Burberry\"],[\"asd\",\"wer\",\"assdfdf\"],[\"assa\"]]\n",
    "\n",
    "c[2]"
   ]
  },
  {
   "cell_type": "code",
   "execution_count": 82,
   "id": "ea8fc955",
   "metadata": {},
   "outputs": [
    {
     "data": {
      "text/plain": [
       "[['assa'], ['a', 'fgfgfg', 'Montblanc', 'Pesico', 'Ikea', 'Burberry']]"
      ]
     },
     "execution_count": 82,
     "metadata": {},
     "output_type": "execute_result"
    }
   ],
   "source": [
    "c[::-2]"
   ]
  },
  {
   "cell_type": "code",
   "execution_count": null,
   "id": "64ee4e33",
   "metadata": {},
   "outputs": [],
   "source": [
    "\"\"\" Candy = <200 Pieces\"\"\"\n",
    " "
   ]
  },
  {
   "cell_type": "code",
   "execution_count": 10,
   "id": "27b2a6b2",
   "metadata": {},
   "outputs": [
    {
     "name": "stdout",
     "output_type": "stream",
     "text": [
      "Type a Number - 177\n"
     ]
    }
   ],
   "source": [
    "candy = int(input(\"Type a Number - \"))\n",
    "\n",
    "for i in range(201):\n",
    "    if candy/5==2 and candy/6==4 and candy/7==2:\n",
    "            print(\"Number of Candies in the Jar\",i)\n",
    "   \n",
    "    "
   ]
  },
  {
   "cell_type": "code",
   "execution_count": null,
   "id": "4f551b60",
   "metadata": {},
   "outputs": [],
   "source": [
    "a = int(input(\"Enter a number\"))\n",
    "\n",
    "for i in range(201):\n",
    "    if i =177:\n",
    "    candy1 =pieces/5\n",
    "    candy2 = pieces/6\n",
    "    candy3 = pieces/4\n",
    "    "
   ]
  },
  {
   "cell_type": "code",
   "execution_count": 13,
   "id": "c356f44a",
   "metadata": {},
   "outputs": [
    {
     "data": {
      "text/plain": [
       "False"
      ]
     },
     "execution_count": 13,
     "metadata": {},
     "output_type": "execute_result"
    }
   ],
   "source": [
    "177%2==0"
   ]
  },
  {
   "cell_type": "code",
   "execution_count": 14,
   "id": "630e4e3f",
   "metadata": {},
   "outputs": [
    {
     "data": {
      "text/plain": [
       "25.285714285714285"
      ]
     },
     "execution_count": 14,
     "metadata": {},
     "output_type": "execute_result"
    }
   ],
   "source": [
    "177/7"
   ]
  },
  {
   "cell_type": "code",
   "execution_count": 15,
   "id": "e62ede50",
   "metadata": {},
   "outputs": [
    {
     "data": {
      "text/plain": [
       "357.14285714285717"
      ]
     },
     "execution_count": 15,
     "metadata": {},
     "output_type": "execute_result"
    }
   ],
   "source": [
    "25*100/7"
   ]
  },
  {
   "cell_type": "code",
   "execution_count": 16,
   "id": "fcc54939",
   "metadata": {},
   "outputs": [
    {
     "data": {
      "text/plain": [
       "25.285714285714285"
      ]
     },
     "execution_count": 16,
     "metadata": {},
     "output_type": "execute_result"
    }
   ],
   "source": [
    "177/7"
   ]
  },
  {
   "cell_type": "code",
   "execution_count": 19,
   "id": "b5775506",
   "metadata": {},
   "outputs": [
    {
     "data": {
      "text/plain": [
       "35.4"
      ]
     },
     "execution_count": 19,
     "metadata": {},
     "output_type": "execute_result"
    }
   ],
   "source": [
    "177/5"
   ]
  },
  {
   "cell_type": "code",
   "execution_count": 20,
   "id": "cc95b606",
   "metadata": {},
   "outputs": [
    {
     "data": {
      "text/plain": [
       "175"
      ]
     },
     "execution_count": 20,
     "metadata": {},
     "output_type": "execute_result"
    }
   ],
   "source": [
    "35*5"
   ]
  },
  {
   "cell_type": "code",
   "execution_count": 21,
   "id": "c0248e7a",
   "metadata": {},
   "outputs": [
    {
     "data": {
      "text/plain": [
       "88.5"
      ]
     },
     "execution_count": 21,
     "metadata": {},
     "output_type": "execute_result"
    }
   ],
   "source": [
    "177/2"
   ]
  },
  {
   "cell_type": "code",
   "execution_count": 22,
   "id": "b6917424",
   "metadata": {},
   "outputs": [
    {
     "data": {
      "text/plain": [
       "177.0"
      ]
     },
     "execution_count": 22,
     "metadata": {},
     "output_type": "execute_result"
    }
   ],
   "source": [
    "88.5*2"
   ]
  },
  {
   "cell_type": "code",
   "execution_count": null,
   "id": "09bbdeb3",
   "metadata": {},
   "outputs": [],
   "source": [
    "177"
   ]
  }
 ],
 "metadata": {
  "kernelspec": {
   "display_name": "Python 3 (ipykernel)",
   "language": "python",
   "name": "python3"
  },
  "language_info": {
   "codemirror_mode": {
    "name": "ipython",
    "version": 3
   },
   "file_extension": ".py",
   "mimetype": "text/x-python",
   "name": "python",
   "nbconvert_exporter": "python",
   "pygments_lexer": "ipython3",
   "version": "3.11.3"
  }
 },
 "nbformat": 4,
 "nbformat_minor": 5
}
