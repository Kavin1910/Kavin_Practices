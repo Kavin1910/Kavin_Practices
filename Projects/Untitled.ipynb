{
 "cells": [
  {
   "cell_type": "code",
   "execution_count": 6,
   "id": "d857ce09",
   "metadata": {},
   "outputs": [
    {
     "name": "stdout",
     "output_type": "stream",
     "text": [
      "Type the Number - 1\n",
      "Type the Number - 30\n",
      "2\n",
      "3\n",
      "5\n",
      "7\n",
      "11\n",
      "13\n",
      "17\n",
      "19\n",
      "23\n",
      "29\n"
     ]
    }
   ],
   "source": [
    "lower_value = int(input(\"Type the Number - \"))\n",
    "upper_value = int(input(\"Type the Number - \"))\n",
    "\n",
    "for number in range(lower_value, upper_value +1):\n",
    "    if number>1:\n",
    "        for a in range(2, number):\n",
    "            if number%a ==0:\n",
    "                break\n",
    "        else:\n",
    "            print(number)"
   ]
  },
  {
   "cell_type": "code",
   "execution_count": 5,
   "id": "d622a15d",
   "metadata": {},
   "outputs": [
    {
     "name": "stdout",
     "output_type": "stream",
     "text": [
      "0\n",
      "1\n",
      "2\n",
      "3\n",
      "4\n"
     ]
    }
   ],
   "source": [
    "i = 0\n",
    "\n",
    "while (i<10):\n",
    "    print(i)\n",
    "    if i==4:\n",
    "        break\n",
    "    i = i + 1"
   ]
  },
  {
   "cell_type": "code",
   "execution_count": 10,
   "id": "31e77c8a",
   "metadata": {},
   "outputs": [
    {
     "name": "stdout",
     "output_type": "stream",
     "text": [
      "1\n",
      "2\n",
      "3\n",
      "4\n"
     ]
    }
   ],
   "source": [
    "i = 0\n",
    "\n",
    "while(i<10):\n",
    "    i = i+1\n",
    "    if i==5:\n",
    "        break\n",
    "    print(i)"
   ]
  },
  {
   "cell_type": "code",
   "execution_count": 11,
   "id": "c19a51af",
   "metadata": {},
   "outputs": [
    {
     "name": "stdout",
     "output_type": "stream",
     "text": [
      "3\n"
     ]
    }
   ],
   "source": [
    "i = 2\n",
    "while (i<20):\n",
    "    i = i + 1\n",
    "    if i ==4:\n",
    "        break\n",
    "    print(i)"
   ]
  },
  {
   "cell_type": "code",
   "execution_count": 12,
   "id": "b9b364a8",
   "metadata": {},
   "outputs": [
    {
     "name": "stdout",
     "output_type": "stream",
     "text": [
      "4\n",
      "6\n",
      "8\n"
     ]
    }
   ],
   "source": [
    "i = 2\n",
    "\n",
    "while(i<20):\n",
    "    i = i + 2\n",
    "    if i==10:\n",
    "        break\n",
    "    print(i)"
   ]
  },
  {
   "cell_type": "code",
   "execution_count": 13,
   "id": "c25028bd",
   "metadata": {},
   "outputs": [
    {
     "name": "stdout",
     "output_type": "stream",
     "text": [
      "1\n",
      "2\n",
      "3\n",
      "4\n",
      "5\n",
      "6\n",
      "7\n",
      "8\n"
     ]
    }
   ],
   "source": [
    "i = 1\n",
    "\n",
    "while(i<10):\n",
    "    print(i)\n",
    "    if i ==8:\n",
    "        break\n",
    "    i = i + 1"
   ]
  },
  {
   "cell_type": "code",
   "execution_count": 14,
   "id": "1be5e779",
   "metadata": {},
   "outputs": [
    {
     "name": "stdout",
     "output_type": "stream",
     "text": [
      "1\n",
      "2\n",
      "3\n",
      "4\n",
      "5\n",
      "6\n",
      "7\n",
      "8\n"
     ]
    }
   ],
   "source": [
    "i = 1\n",
    "\n",
    "while(i<10):\n",
    "    print(i)\n",
    "    if i ==8:\n",
    "        break\n",
    "    i = i + 1"
   ]
  },
  {
   "cell_type": "code",
   "execution_count": 15,
   "id": "aebb200a",
   "metadata": {},
   "outputs": [
    {
     "name": "stdout",
     "output_type": "stream",
     "text": [
      "2\n",
      "3\n",
      "4\n",
      "5\n",
      "6\n",
      "7\n",
      "8\n",
      "9\n"
     ]
    }
   ],
   "source": [
    "i = 1\n",
    "\n",
    "while(i<25):\n",
    "    i = i + 1\n",
    "    if i ==10:\n",
    "        break\n",
    "    print(i)"
   ]
  },
  {
   "cell_type": "code",
   "execution_count": 4,
   "id": "c771a3df",
   "metadata": {},
   "outputs": [
    {
     "name": "stdout",
     "output_type": "stream",
     "text": [
      "Type the Start Point10\n",
      "Type the End Point20\n"
     ]
    }
   ],
   "source": [
    "num1 = int(input(\"Type the Start Point\"))\n",
    "num2 = int(input(\"Type the End Point\"))\n",
    "if (num1>num2):\n",
    "    while(num1<num2):\n",
    "        if (num2 % 2 == 0):\n",
    "            print(num2)\n",
    "        num2 = num2 + 1\n",
    "else:\n",
    "    while(num1 < num2):\n",
    "        if (num1 % 2 ==0):\n",
    "            print(num1)\n",
    "        num1 = num1 + 1"
   ]
  },
  {
   "cell_type": "code",
   "execution_count": null,
   "id": "52d82747",
   "metadata": {},
   "outputs": [],
   "source": [
    "num1 = int(input(\"Type the Start Point\"))\n",
    "num2 = int(input(\"Type the End Point\"))\n",
    "so= 0\n",
    "se = 0\n",
    "if (num1>num2):\n",
    "    while(num1<num2):\n",
    "        if (num2 % 2 == 0):\n",
    "            print(num2)\n",
    "        num2 = num2 + 1\n",
    "else:\n",
    "    while(num1 < num2):\n",
    "        if (num1 % 2 ==0):\n",
    "            print(num1)\n",
    "        num1 = num1 + 1"
   ]
  },
  {
   "cell_type": "code",
   "execution_count": 5,
   "id": "602581b1",
   "metadata": {},
   "outputs": [
    {
     "name": "stdout",
     "output_type": "stream",
     "text": [
      "Type your Number10\n",
      "Type your Number30\n",
      "10\n",
      "12\n",
      "14\n",
      "16\n",
      "18\n",
      "20\n",
      "22\n",
      "24\n",
      "26\n",
      "28\n"
     ]
    }
   ],
   "source": [
    "num1 = int(input(\"Type your Number\"))\n",
    "num2 = int(input(\"Type your Number\"))\n",
    "\n",
    "if (num1>num2):\n",
    "    while(num1<num2):\n",
    "        if num2%2==0:\n",
    "            print(num2)\n",
    "        num2 = num2 + 1\n",
    "else:\n",
    "    while(num1<num2):\n",
    "        if num1%2==0:\n",
    "            print(num1)\n",
    "        num1 = num1 + 1"
   ]
  },
  {
   "cell_type": "code",
   "execution_count": 26,
   "id": "6d9d139f",
   "metadata": {},
   "outputs": [
    {
     "name": "stdout",
     "output_type": "stream",
     "text": [
      "Type your Number10\n",
      "Type your Number30\n",
      "220\n",
      "200\n"
     ]
    }
   ],
   "source": [
    "num1 = int(input(\"Type your Number\"))\n",
    "num2 = int(input(\"Type your Number\"))\n",
    "so = 0\n",
    "se = 0\n",
    "\n",
    "if (num1 > num2):\n",
    "    while(num2<=num1):\n",
    "        if num2%2==0:\n",
    "            se = se + num2\n",
    "            num2 = num2 + 1\n",
    "        else:\n",
    "            so = so + num2\n",
    "            num2 = num2 + 1\n",
    "else:\n",
    "    while(num1 <= num2):\n",
    "        if num1%2 ==0:\n",
    "            se = se + num1\n",
    "            num1 = num1 + 1\n",
    "        else:\n",
    "            so = so + num1\n",
    "            num1=num1 + 1\n",
    "print(se)\n",
    "print(so)"
   ]
  },
  {
   "cell_type": "code",
   "execution_count": null,
   "id": "8da32729",
   "metadata": {},
   "outputs": [],
   "source": [
    "i = 100\n",
    "\n",
    "while(i<500):\n",
    "    if i%13==0 and i%3!=0:\n",
    "        print(i)\n",
    "        i = i + 1"
   ]
  },
  {
   "cell_type": "code",
   "execution_count": null,
   "id": "090768aa",
   "metadata": {},
   "outputs": [],
   "source": [
    "i = 100\n",
    "while(i<500):\n",
    "    if i%13==0:\n",
    "        print(i)\n",
    "    i = i + 1"
   ]
  },
  {
   "cell_type": "code",
   "execution_count": 5,
   "id": "9ed3dffc",
   "metadata": {},
   "outputs": [
    {
     "name": "stdout",
     "output_type": "stream",
     "text": [
      "{1: 1, 2: 4, 3: 9, 4: 16, 5: 25, 6: 36, 7: 49, 8: 64, 9: 81, 10: 100}"
     ]
    }
   ],
   "source": [
    "\"\"\"Python Dictionary to square of numbers from 1 to 10\"\"\"\n",
    "a = {}\n",
    "\n",
    "for i in range(1, 11):\n",
    "    a[i] = i**2\n",
    "print(a, end=\"\")"
   ]
  },
  {
   "cell_type": "code",
   "execution_count": 33,
   "id": "2e21b691",
   "metadata": {},
   "outputs": [
    {
     "data": {
      "text/plain": [
       "dict_values(['software', 'solution'])"
      ]
     },
     "execution_count": 33,
     "metadata": {},
     "output_type": "execute_result"
    }
   ],
   "source": [
    "\"\"\"Write a Python Program to replace words from dictionary\n",
    "\n",
    "val  = 'ipcs computer education'\n",
    "dic = {'computer':'software'\n",
    "        'education': 'solution'}\n",
    "        \n",
    "Output: \n",
    "Original String: ipcs computer education\n",
    "Replaced String : ipcs software education\"\"\"\n",
    "\n",
    "a  = 'ipcs computer education'\n",
    "dic = {'computer':'software',\n",
    "        'education': 'solution'}\n",
    "\n",
    "for i i\n"
   ]
  },
  {
   "cell_type": "code",
   "execution_count": 35,
   "id": "e9d52ddd",
   "metadata": {},
   "outputs": [
    {
     "data": {
      "text/plain": [
       "('education', 'solution')"
      ]
     },
     "execution_count": 35,
     "metadata": {},
     "output_type": "execute_result"
    }
   ],
   "source": [
    "a  = 'ipcs computer education'\n",
    "dic = {'computer':'software',\n",
    "        'education': 'solution'}\n",
    "\n",
    "dic.pop()"
   ]
  },
  {
   "cell_type": "code",
   "execution_count": 45,
   "id": "6cc848fe",
   "metadata": {},
   "outputs": [
    {
     "name": "stdout",
     "output_type": "stream",
     "text": [
      "Original String: ipcs computer education\n"
     ]
    },
    {
     "ename": "ValueError",
     "evalue": "dictionary update sequence element #0 has length 1; 2 is required",
     "output_type": "error",
     "traceback": [
      "\u001b[1;31m---------------------------------------------------------------------------\u001b[0m",
      "\u001b[1;31mValueError\u001b[0m                                Traceback (most recent call last)",
      "Cell \u001b[1;32mIn[45], line 10\u001b[0m\n\u001b[0;32m      8\u001b[0m \u001b[38;5;28;01mfor\u001b[39;00m i \u001b[38;5;129;01min\u001b[39;00m dic:\n\u001b[0;32m      9\u001b[0m     \u001b[38;5;28;01mif\u001b[39;00m i \u001b[38;5;129;01min\u001b[39;00m a\u001b[38;5;241m.\u001b[39msplit(\u001b[38;5;124m\"\u001b[39m\u001b[38;5;124m \u001b[39m\u001b[38;5;124m\"\u001b[39m):\n\u001b[1;32m---> 10\u001b[0m         dic \u001b[38;5;241m=\u001b[39m dic\u001b[38;5;241m.\u001b[39mupdate(\u001b[38;5;124m\"\u001b[39m\u001b[38;5;124msoftware\u001b[39m\u001b[38;5;124m\"\u001b[39m)\n",
      "\u001b[1;31mValueError\u001b[0m: dictionary update sequence element #0 has length 1; 2 is required"
     ]
    }
   ],
   "source": [
    "a  = 'ipcs computer education'\n",
    "dic = {'computer':'software',\n",
    "        'education': 'solution'}\n",
    "\n",
    "a.split(' ')\n",
    "print(\"Original String:\",a)\n",
    "\n",
    "for i in dic:\n",
    "    if i in a.split(\" \"):\n",
    "        dic = dic.update(\"software\")"
   ]
  },
  {
   "cell_type": "code",
   "execution_count": 1,
   "id": "9933bcc3",
   "metadata": {},
   "outputs": [
    {
     "data": {
      "text/plain": [
       "13"
      ]
     },
     "execution_count": 1,
     "metadata": {},
     "output_type": "execute_result"
    }
   ],
   "source": [
    "3+2*5"
   ]
  },
  {
   "cell_type": "code",
   "execution_count": 3,
   "id": "bc1c4400",
   "metadata": {},
   "outputs": [
    {
     "data": {
      "text/plain": [
       "7"
      ]
     },
     "execution_count": 3,
     "metadata": {},
     "output_type": "execute_result"
    }
   ],
   "source": [
    "3+2*2"
   ]
  },
  {
   "cell_type": "code",
   "execution_count": 4,
   "id": "e04e28fb",
   "metadata": {},
   "outputs": [
    {
     "name": "stdout",
     "output_type": "stream",
     "text": [
      "<class 'str'>\n"
     ]
    }
   ],
   "source": [
    "a= \"3.0\"\n",
    "print(type(a))\n"
   ]
  },
  {
   "cell_type": "code",
   "execution_count": 5,
   "id": "873692ce",
   "metadata": {},
   "outputs": [
    {
     "ename": "NameError",
     "evalue": "name 'true' is not defined",
     "output_type": "error",
     "traceback": [
      "\u001b[1;31m---------------------------------------------------------------------------\u001b[0m",
      "\u001b[1;31mNameError\u001b[0m                                 Traceback (most recent call last)",
      "Cell \u001b[1;32mIn[5], line 1\u001b[0m\n\u001b[1;32m----> 1\u001b[0m \u001b[38;5;28mint\u001b[39m(true)\n",
      "\u001b[1;31mNameError\u001b[0m: name 'true' is not defined"
     ]
    }
   ],
   "source": [
    "int(true)"
   ]
  },
  {
   "cell_type": "code",
   "execution_count": 6,
   "id": "6ddb0bf9",
   "metadata": {},
   "outputs": [
    {
     "data": {
      "text/plain": [
       "'11'"
      ]
     },
     "execution_count": 6,
     "metadata": {},
     "output_type": "execute_result"
    }
   ],
   "source": [
    "'1'+'1'"
   ]
  },
  {
   "cell_type": "code",
   "execution_count": 7,
   "id": "0658bf0f",
   "metadata": {},
   "outputs": [
    {
     "data": {
      "text/plain": [
       "'11'"
      ]
     },
     "execution_count": 7,
     "metadata": {},
     "output_type": "execute_result"
    }
   ],
   "source": [
    "str(1) + str(1)"
   ]
  },
  {
   "cell_type": "code",
   "execution_count": 8,
   "id": "4730fd49",
   "metadata": {},
   "outputs": [
    {
     "data": {
      "text/plain": [
       "'ab3'"
      ]
     },
     "execution_count": 8,
     "metadata": {},
     "output_type": "execute_result"
    }
   ],
   "source": [
    "\"123\".replace('12','ab')"
   ]
  },
  {
   "cell_type": "code",
   "execution_count": 13,
   "id": "05719294",
   "metadata": {},
   "outputs": [
    {
     "data": {
      "text/plain": [
       "'kn'"
      ]
     },
     "execution_count": 13,
     "metadata": {},
     "output_type": "execute_result"
    }
   ],
   "source": [
    "\"kavin\".replace(\"kavi\",\"k\")"
   ]
  },
  {
   "cell_type": "code",
   "execution_count": 16,
   "id": "ec2b5e6e",
   "metadata": {},
   "outputs": [
    {
     "name": "stdout",
     "output_type": "stream",
     "text": [
      "<class 'float'>\n"
     ]
    }
   ],
   "source": [
    " x = 2/2\n",
    "print(type(x))"
   ]
  },
  {
   "cell_type": "code",
   "execution_count": 18,
   "id": "b37262fb",
   "metadata": {},
   "outputs": [
    {
     "ename": "TypeError",
     "evalue": "'float' object is not subscriptable",
     "output_type": "error",
     "traceback": [
      "\u001b[1;31m---------------------------------------------------------------------------\u001b[0m",
      "\u001b[1;31mTypeError\u001b[0m                                 Traceback (most recent call last)",
      "Cell \u001b[1;32mIn[18], line 2\u001b[0m\n\u001b[0;32m      1\u001b[0m x \u001b[38;5;241m=\u001b[39m \u001b[38;5;241m2\u001b[39m\u001b[38;5;241m/\u001b[39m\u001b[38;5;241m2\u001b[39m\n\u001b[1;32m----> 2\u001b[0m y \u001b[38;5;241m=\u001b[39m x[:]\n\u001b[0;32m      3\u001b[0m \u001b[38;5;28mprint\u001b[39m(y)\n",
      "\u001b[1;31mTypeError\u001b[0m: 'float' object is not subscriptable"
     ]
    }
   ],
   "source": [
    "x = 2/2\n",
    "y = x[:]\n",
    "print(y)"
   ]
  },
  {
   "cell_type": "code",
   "execution_count": 22,
   "id": "8fc482f8",
   "metadata": {},
   "outputs": [
    {
     "data": {
      "text/plain": [
       "2"
      ]
     },
     "execution_count": 22,
     "metadata": {},
     "output_type": "execute_result"
    }
   ],
   "source": [
    "a = ((\"disco\",10))\n",
    "len(a)"
   ]
  },
  {
   "cell_type": "code",
   "execution_count": 23,
   "id": "a8b6a620",
   "metadata": {},
   "outputs": [
    {
     "data": {
      "text/plain": [
       "True"
      ]
     },
     "execution_count": 23,
     "metadata": {},
     "output_type": "execute_result"
    }
   ],
   "source": [
    "\"A\" in {'A','B'}"
   ]
  },
  {
   "cell_type": "code",
   "execution_count": 25,
   "id": "fcc540d5",
   "metadata": {},
   "outputs": [
    {
     "name": "stdout",
     "output_type": "stream",
     "text": [
      "{'1', '2', '3'}\n"
     ]
    }
   ],
   "source": [
    "v = {'1','2'}\n",
    "v.add(\"3\")\n",
    "print(v)"
   ]
  },
  {
   "cell_type": "code",
   "execution_count": 26,
   "id": "3e959740",
   "metadata": {},
   "outputs": [
    {
     "data": {
      "text/plain": [
       "1"
      ]
     },
     "execution_count": 26,
     "metadata": {},
     "output_type": "execute_result"
    }
   ],
   "source": [
    "len([sum([0,0,1])])"
   ]
  },
  {
   "cell_type": "code",
   "execution_count": 28,
   "id": "5776c1f8",
   "metadata": {},
   "outputs": [
    {
     "data": {
      "text/plain": [
       "[1, 2, 3]"
      ]
     },
     "execution_count": 28,
     "metadata": {},
     "output_type": "execute_result"
    }
   ],
   "source": [
    "L =(1,3,2)\n",
    "sorted(L)"
   ]
  },
  {
   "cell_type": "code",
   "execution_count": 29,
   "id": "50574cc7",
   "metadata": {},
   "outputs": [
    {
     "ename": "NameError",
     "evalue": "name 'add1' is not defined",
     "output_type": "error",
     "traceback": [
      "\u001b[1;31m---------------------------------------------------------------------------\u001b[0m",
      "\u001b[1;31mNameError\u001b[0m                                 Traceback (most recent call last)",
      "Cell \u001b[1;32mIn[29], line 1\u001b[0m\n\u001b[1;32m----> 1\u001b[0m c \u001b[38;5;241m=\u001b[39m add1(\u001b[38;5;241m2\u001b[39m)\n\u001b[0;32m      2\u001b[0m c \u001b[38;5;241m=\u001b[39m add1(\u001b[38;5;241m10\u001b[39m)\n",
      "\u001b[1;31mNameError\u001b[0m: name 'add1' is not defined"
     ]
    }
   ],
   "source": [
    "c = add1(2)\n",
    "c = add1(10)"
   ]
  },
  {
   "cell_type": "code",
   "execution_count": 32,
   "id": "35676986",
   "metadata": {},
   "outputs": [
    {
     "ename": "TypeError",
     "evalue": "'int' object is not iterable",
     "output_type": "error",
     "traceback": [
      "\u001b[1;31m---------------------------------------------------------------------------\u001b[0m",
      "\u001b[1;31mTypeError\u001b[0m                                 Traceback (most recent call last)",
      "Cell \u001b[1;32mIn[32], line 5\u001b[0m\n\u001b[0;32m      3\u001b[0m         \u001b[38;5;28mprint\u001b[39m(a \u001b[38;5;241m+\u001b[39m \u001b[38;5;124m\"\u001b[39m\u001b[38;5;124m1\u001b[39m\u001b[38;5;124m\"\u001b[39m)\n\u001b[0;32m      4\u001b[0m         \u001b[38;5;28mprint\u001b[39m([\u001b[38;5;124m\"\u001b[39m\u001b[38;5;124ma\u001b[39m\u001b[38;5;124m\"\u001b[39m,\u001b[38;5;124m\"\u001b[39m\u001b[38;5;124mb\u001b[39m\u001b[38;5;124m\"\u001b[39m,\u001b[38;5;124m\"\u001b[39m\u001b[38;5;124mc\u001b[39m\u001b[38;5;124m\"\u001b[39m])\n\u001b[1;32m----> 5\u001b[0m \u001b[38;5;28mprint\u001b[39m(\u001b[38;5;241m1\u001b[39m)\n",
      "Cell \u001b[1;32mIn[32], line 2\u001b[0m, in \u001b[0;36mprint\u001b[1;34m(A)\u001b[0m\n\u001b[0;32m      1\u001b[0m \u001b[38;5;28;01mdef\u001b[39;00m \u001b[38;5;21mprint\u001b[39m(A):\n\u001b[1;32m----> 2\u001b[0m     \u001b[38;5;28;01mfor\u001b[39;00m a \u001b[38;5;129;01min\u001b[39;00m A:\n\u001b[0;32m      3\u001b[0m         \u001b[38;5;28mprint\u001b[39m(a \u001b[38;5;241m+\u001b[39m \u001b[38;5;124m\"\u001b[39m\u001b[38;5;124m1\u001b[39m\u001b[38;5;124m\"\u001b[39m)\n\u001b[0;32m      4\u001b[0m         \u001b[38;5;28mprint\u001b[39m([\u001b[38;5;124m\"\u001b[39m\u001b[38;5;124ma\u001b[39m\u001b[38;5;124m\"\u001b[39m,\u001b[38;5;124m\"\u001b[39m\u001b[38;5;124mb\u001b[39m\u001b[38;5;124m\"\u001b[39m,\u001b[38;5;124m\"\u001b[39m\u001b[38;5;124mc\u001b[39m\u001b[38;5;124m\"\u001b[39m])\n",
      "\u001b[1;31mTypeError\u001b[0m: 'int' object is not iterable"
     ]
    }
   ],
   "source": [
    "def print(A):\n",
    "    for a in A:\n",
    "        print(a + \"1\")\n",
    "        print([\"a\",\"b\",\"c\"])\n",
    "print(1)"
   ]
  },
  {
   "cell_type": "code",
   "execution_count": 3,
   "id": "17196f08",
   "metadata": {},
   "outputs": [
    {
     "ename": "NameError",
     "evalue": "name 'np' is not defined",
     "output_type": "error",
     "traceback": [
      "\u001b[1;31m---------------------------------------------------------------------------\u001b[0m",
      "\u001b[1;31mNameError\u001b[0m                                 Traceback (most recent call last)",
      "Cell \u001b[1;32mIn[3], line 1\u001b[0m\n\u001b[1;32m----> 1\u001b[0m X\u001b[38;5;241m=\u001b[39mnp\u001b[38;5;241m.\u001b[39marray([[\u001b[38;5;241m1\u001b[39m,\u001b[38;5;241m0\u001b[39m],[\u001b[38;5;241m0\u001b[39m,\u001b[38;5;241m1\u001b[39m]])\n\u001b[0;32m      2\u001b[0m Y\u001b[38;5;241m=\u001b[39mnp\u001b[38;5;241m.\u001b[39marray([[\u001b[38;5;241m2\u001b[39m,\u001b[38;5;241m1\u001b[39m],[\u001b[38;5;241m1\u001b[39m,\u001b[38;5;241m2\u001b[39m]]) \n\u001b[0;32m      3\u001b[0m Z\u001b[38;5;241m=\u001b[39mnp\u001b[38;5;241m.\u001b[39mdot(X,Y)\n",
      "\u001b[1;31mNameError\u001b[0m: name 'np' is not defined"
     ]
    }
   ],
   "source": [
    "X=np.array([[1,0],[0,1]])\n",
    "Y=np.array([[2,1],[1,2]]) \n",
    "Z=np.dot(X,Y)"
   ]
  },
  {
   "cell_type": "code",
   "execution_count": 7,
   "id": "5300ea4a",
   "metadata": {},
   "outputs": [
    {
     "data": {
      "text/plain": [
       "0"
      ]
     },
     "execution_count": 7,
     "metadata": {},
     "output_type": "execute_result"
    }
   ],
   "source": [
    "Name = \"EMILY\"\n",
    "Name.find(\"E\")"
   ]
  },
  {
   "cell_type": "code",
   "execution_count": 13,
   "id": "b06def05",
   "metadata": {},
   "outputs": [
    {
     "data": {
      "text/plain": [
       "['1', '2', '3', '4']"
      ]
     },
     "execution_count": 13,
     "metadata": {},
     "output_type": "execute_result"
    }
   ],
   "source": [
    "\"1,2,3,4\".split(',')"
   ]
  },
  {
   "cell_type": "code",
   "execution_count": 20,
   "id": "160c1eaf",
   "metadata": {},
   "outputs": [
    {
     "ename": "NameError",
     "evalue": "name 'file1' is not defined",
     "output_type": "error",
     "traceback": [
      "\u001b[1;31m---------------------------------------------------------------------------\u001b[0m",
      "\u001b[1;31mNameError\u001b[0m                                 Traceback (most recent call last)",
      "Cell \u001b[1;32mIn[20], line 2\u001b[0m\n\u001b[0;32m      1\u001b[0m \u001b[38;5;28;01mfor\u001b[39;00m n \u001b[38;5;129;01min\u001b[39;00m \u001b[38;5;28mrange\u001b[39m(\u001b[38;5;241m0\u001b[39m,\u001b[38;5;241m2\u001b[39m):\n\u001b[1;32m----> 2\u001b[0m     \u001b[38;5;28mprint\u001b[39m(file1\u001b[38;5;241m.\u001b[39mreadline())\n",
      "\u001b[1;31mNameError\u001b[0m: name 'file1' is not defined"
     ]
    }
   ],
   "source": [
    "for n in range(0,2):\n",
    "    print(file1.readline())"
   ]
  },
  {
   "cell_type": "code",
   "execution_count": null,
   "id": "34404c92",
   "metadata": {},
   "outputs": [],
   "source": []
  }
 ],
 "metadata": {
  "kernelspec": {
   "display_name": "Python 3 (ipykernel)",
   "language": "python",
   "name": "python3"
  },
  "language_info": {
   "codemirror_mode": {
    "name": "ipython",
    "version": 3
   },
   "file_extension": ".py",
   "mimetype": "text/x-python",
   "name": "python",
   "nbconvert_exporter": "python",
   "pygments_lexer": "ipython3",
   "version": "3.11.3"
  }
 },
 "nbformat": 4,
 "nbformat_minor": 5
}
