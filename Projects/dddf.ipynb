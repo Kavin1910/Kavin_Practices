{
 "cells": [
  {
   "cell_type": "markdown",
   "id": "cd38db9e",
   "metadata": {},
   "source": [
    "# `Basics Part`"
   ]
  },
  {
   "cell_type": "code",
   "execution_count": 1,
   "id": "c04e49dc",
   "metadata": {},
   "outputs": [
    {
     "name": "stdout",
     "output_type": "stream",
     "text": [
      "0\n",
      "1\n",
      "2\n"
     ]
    }
   ],
   "source": [
    "for i in range(5):\n",
    "    if i==3:\n",
    "        break\n",
    "    print(i)"
   ]
  },
  {
   "cell_type": "code",
   "execution_count": 2,
   "id": "07e6c47f",
   "metadata": {},
   "outputs": [
    {
     "name": "stdout",
     "output_type": "stream",
     "text": [
      "0\n",
      "1\n",
      "2\n",
      "4\n"
     ]
    }
   ],
   "source": [
    "for i in range(5):\n",
    "    if i==3:\n",
    "        continue\n",
    "    print(i)"
   ]
  },
  {
   "cell_type": "code",
   "execution_count": 3,
   "id": "04f9f7f2",
   "metadata": {},
   "outputs": [
    {
     "name": "stdout",
     "output_type": "stream",
     "text": [
      "1\n",
      "2\n",
      "3\n",
      "4\n"
     ]
    }
   ],
   "source": [
    "count = 0\n",
    "for i in range(1,5):\n",
    "    count = count + 1\n",
    "    print(count)"
   ]
  },
  {
   "cell_type": "code",
   "execution_count": 4,
   "id": "817389da",
   "metadata": {},
   "outputs": [
    {
     "name": "stdout",
     "output_type": "stream",
     "text": [
      "Type Number1\n",
      "Type Number30\n",
      "2\n",
      "3\n",
      "5\n",
      "7\n",
      "11\n",
      "13\n",
      "17\n",
      "19\n",
      "23\n",
      "29\n"
     ]
    }
   ],
   "source": [
    "kavin = int(input(\"Type Number\"))\n",
    "navin = int(input(\"Type Number\"))\n",
    "for number in range(kavin,navin+1):\n",
    "    if number>1:\n",
    "        for a in range(2, number):\n",
    "            if number%a==0:\n",
    "                break\n",
    "        else:\n",
    "            print(number)"
   ]
  },
  {
   "cell_type": "code",
   "execution_count": 22,
   "id": "27204d30",
   "metadata": {},
   "outputs": [],
   "source": [
    "for a in 1,2,3,4,5,6,7,8,9\n",
    "    if 197%b==0:\n",
    "        print(197, \"Its an Prime Number\")\n",
    "    else:\n",
    "        print(\"197, Not a Prime Number\")"
   ]
  },
  {
   "cell_type": "code",
   "execution_count": null,
   "id": "44e48072",
   "metadata": {},
   "outputs": [],
   "source": [
    "num = 197\n",
    "\n",
    "if num == 1:\n",
    "    print('It is not a Prime Number')\n",
    "elif num > 1:\n",
    "    "
   ]
  },
  {
   "cell_type": "code",
   "execution_count": 97,
   "id": "611e5067",
   "metadata": {},
   "outputs": [
    {
     "ename": "TypeError",
     "evalue": "'int' object is not iterable",
     "output_type": "error",
     "traceback": [
      "\u001b[1;31m---------------------------------------------------------------------------\u001b[0m",
      "\u001b[1;31mTypeError\u001b[0m                                 Traceback (most recent call last)",
      "Cell \u001b[1;32mIn[97], line 2\u001b[0m\n\u001b[0;32m      1\u001b[0m number \u001b[38;5;241m=\u001b[39m \u001b[38;5;241m0\u001b[39m,\u001b[38;5;241m1\u001b[39m,\u001b[38;5;241m2\u001b[39m,\u001b[38;5;241m3\u001b[39m,\u001b[38;5;241m4\u001b[39m,\u001b[38;5;241m5\u001b[39m\n\u001b[1;32m----> 2\u001b[0m \u001b[38;5;28;01mfor\u001b[39;00m number \u001b[38;5;129;01min\u001b[39;00m \u001b[38;5;241m0\u001b[39m:\n\u001b[0;32m      3\u001b[0m         \u001b[38;5;28mprint\u001b[39m(\u001b[38;5;124m\"\u001b[39m\u001b[38;5;124mOuter For Loop Iteration\u001b[39m\u001b[38;5;124m\"\u001b[39m, \u001b[38;5;241m0\u001b[39m)\n",
      "\u001b[1;31mTypeError\u001b[0m: 'int' object is not iterable"
     ]
    }
   ],
   "source": [
    "number = 0,1,2,3,4,5\n",
    "for number in 0:\n",
    "    print(\"Outer For Loop Iteration\", 0)"
   ]
  },
  {
   "cell_type": "code",
   "execution_count": 2,
   "id": "de4598af",
   "metadata": {},
   "outputs": [
    {
     "name": "stdout",
     "output_type": "stream",
     "text": [
      "Type Number low0\n",
      "Type Number Upper30\n",
      "2\n",
      "3\n",
      "5\n",
      "7\n",
      "11\n",
      "13\n",
      "17\n",
      "19\n",
      "23\n",
      "29\n"
     ]
    }
   ],
   "source": [
    "low = int(input(\"Type Number low\"))\n",
    "upper = int(input(\"Type Number Upper\"))\n",
    "for i in range(low, upper+1):\n",
    "    if i>1:\n",
    "        for x in range(2,i):\n",
    "            if i%x==0:\n",
    "                break\n",
    "        else:\n",
    "            print(i)"
   ]
  },
  {
   "cell_type": "code",
   "execution_count": 10,
   "id": "749b9f90",
   "metadata": {},
   "outputs": [
    {
     "name": "stdout",
     "output_type": "stream",
     "text": [
      "Type Number0\n",
      "Type Number30\n",
      "129\n"
     ]
    }
   ],
   "source": [
    "a = int(input(\"Type Number\"))\n",
    "b = int(input(\"Type Number\"))\n",
    "c = 0\n",
    "for i in range(a,b+1):\n",
    "    if i>1:\n",
    "        for x in range(2,i):\n",
    "            if i%x==0:\n",
    "                break\n",
    "        else:\n",
    "            c = c+i\n",
    "print(c)"
   ]
  },
  {
   "cell_type": "code",
   "execution_count": 17,
   "id": "06593768",
   "metadata": {},
   "outputs": [
    {
     "name": "stdout",
     "output_type": "stream",
     "text": [
      "Type Number2\n",
      "2 is a prime number\n"
     ]
    }
   ],
   "source": [
    "# Prime Number Finder:\n",
    "user = int(input(\"Type Number\"))\n",
    "for i in range(1,200):\n",
    "    if i>1:\n",
    "        for x in range(2,i): \n",
    "            if i%x==0:\n",
    "                break\n",
    "        else:\n",
    "            if user==i:\n",
    "                    print(user, \"is a prime number\")"
   ]
  },
  {
   "cell_type": "code",
   "execution_count": 19,
   "id": "ff93ae6c",
   "metadata": {},
   "outputs": [
    {
     "name": "stdout",
     "output_type": "stream",
     "text": [
      "Iteration:  0\n",
      "Iteration:  1\n",
      "Iteration:  2\n",
      "Iteration:  3\n",
      "Iteration:  4\n",
      "Iteration:  6\n",
      "Iteration:  7\n",
      "Iteration:  8\n",
      "Iteration:  9\n"
     ]
    }
   ],
   "source": [
    "#A1 Iteration Sum\n",
    "for i in range(0,10):\n",
    "    if i==5:\n",
    "        continue\n",
    "    print(\"Iteration: \",i)"
   ]
  },
  {
   "cell_type": "code",
   "execution_count": 58,
   "id": "1de1485d",
   "metadata": {},
   "outputs": [
    {
     "name": "stdout",
     "output_type": "stream",
     "text": [
      "Outer For Loop Iteration 0\n",
      "--Inner For Loop Iteration 1\n",
      "Outer For Loop Iteration 0\n",
      "--Inner For Loop Iteration 2\n",
      "Outer For Loop Iteration 0\n",
      "--Inner For Loop Iteration 3\n",
      "Outer For Loop Iteration 0\n",
      "--Inner For Loop Iteration 4\n"
     ]
    }
   ],
   "source": [
    "# Outer For Loop Iteration and Inner For Loop Iteration sum:\n",
    "for i in range(0,5):\n",
    "    if i==0:\n",
    "        for x in range(0,5):\n",
    "            break\n",
    "    else: \n",
    "        print(\"Outer For Loop Iteration\", 0)\n",
    "        print(\"--Inner For Loop Iteration\", i)"
   ]
  },
  {
   "cell_type": "code",
   "execution_count": 62,
   "id": "5bcd565a",
   "metadata": {},
   "outputs": [
    {
     "ename": "IndentationError",
     "evalue": "expected an indented block after 'for' statement on line 3 (1203281032.py, line 4)",
     "output_type": "error",
     "traceback": [
      "\u001b[1;36m  Cell \u001b[1;32mIn[62], line 4\u001b[1;36m\u001b[0m\n\u001b[1;33m    print(\"Outer For Loop Iteration\", o)\u001b[0m\n\u001b[1;37m    ^\u001b[0m\n\u001b[1;31mIndentationError\u001b[0m\u001b[1;31m:\u001b[0m expected an indented block after 'for' statement on line 3\n"
     ]
    }
   ],
   "source": [
    "for i in range(0,5)\n",
    "\n",
    "\n",
    "        break\n",
    "    else:\n",
    "        print(\"--Inner For Loop Iteration\", i)"
   ]
  },
  {
   "cell_type": "code",
   "execution_count": 1,
   "id": "c36da530",
   "metadata": {},
   "outputs": [
    {
     "name": "stdout",
     "output_type": "stream",
     "text": [
      " My name is kavin, my age is23\n"
     ]
    }
   ],
   "source": [
    "a = \"kavin\"\n",
    "b = 23\n",
    "print(f\" My name is {a}, my age is{b}\")"
   ]
  },
  {
   "cell_type": "code",
   "execution_count": 10,
   "id": "dc75f8fb",
   "metadata": {},
   "outputs": [
    {
     "name": "stdout",
     "output_type": "stream",
     "text": [
      "Outer For Loop Iteration : 0\n",
      "-- Inner For Loop Iteration : 0\n",
      "-- Inner For Loop Iteration : 1\n",
      "-- Inner For Loop Iteration : 2\n",
      "-- Inner For Loop Iteration : 3\n",
      "-- Inner For Loop Iteration : 4\n",
      "Outer For Loop Iteration : 1\n",
      "-- Inner For Loop Iteration : 0\n",
      "-- Inner For Loop Iteration : 1\n",
      "-- Inner For Loop Iteration : 2\n",
      "-- Inner For Loop Iteration : 3\n",
      "-- Inner For Loop Iteration : 4\n",
      "Outer For Loop Iteration : 2\n",
      "-- Inner For Loop Iteration : 0\n",
      "-- Inner For Loop Iteration : 1\n",
      "-- Inner For Loop Iteration : 2\n",
      "-- Inner For Loop Iteration : 3\n",
      "-- Inner For Loop Iteration : 4\n",
      "Outer For Loop Iteration : 3\n",
      "-- Inner For Loop Iteration : 0\n",
      "-- Inner For Loop Iteration : 1\n",
      "-- Inner For Loop Iteration : 2\n",
      "-- Inner For Loop Iteration : 3\n",
      "-- Inner For Loop Iteration : 4\n",
      "Outer For Loop Iteration : 4\n",
      "-- Inner For Loop Iteration : 0\n",
      "-- Inner For Loop Iteration : 1\n",
      "-- Inner For Loop Iteration : 2\n",
      "-- Inner For Loop Iteration : 3\n",
      "-- Inner For Loop Iteration : 4\n"
     ]
    }
   ],
   "source": [
    "for kavin in range(0,5):\n",
    "    print(f\"Outer For Loop Iteration : {kavin}\")\n",
    "    for navin in range(0,15):\n",
    "        if navin==5:\n",
    "            break\n",
    "        print(f\"-- Inner For Loop Iteration : {navin}\")\n",
    "          "
   ]
  },
  {
   "cell_type": "code",
   "execution_count": 15,
   "id": "6edab167",
   "metadata": {},
   "outputs": [
    {
     "name": "stdout",
     "output_type": "stream",
     "text": [
      "How many iterations you want ?\n",
      "3\n",
      "Interation:1\n",
      "This is line before 'pass'\n",
      "This is line after 'pass'\n",
      "This is line before 'continue'\n",
      "Interation:2\n",
      "This is line before 'pass'\n",
      "This is line after 'pass'\n",
      "This is line before 'continue'\n",
      "Interation:3\n",
      "This is line before 'pass'\n",
      "This is line after 'pass'\n",
      "This is line after condition check for 'continue'\n",
      "This is line before 'break'\n"
     ]
    }
   ],
   "source": [
    "num = 3\n",
    "print(f\"How many iterations you want ?\")\n",
    "print(num)\n",
    "for i in range(1,4):\n",
    "    if i<3:\n",
    "        print(f\"Interation:{i}\")\n",
    "        print(\"This is line before 'pass'\")\n",
    "        print(\"This is line after 'pass'\")\n",
    "        print(\"This is line before 'continue'\")\n",
    "    elif i==3:\n",
    "        print(f\"Interation:{i}\")\n",
    "        print(\"This is line before 'pass'\")\n",
    "        print(\"This is line after 'pass'\")\n",
    "        print(\"This is line after condition check for 'continue'\")\n",
    "        print(\"This is line before 'break'\") \n",
    "    "
   ]
  },
  {
   "cell_type": "code",
   "execution_count": 15,
   "id": "aa324817",
   "metadata": {},
   "outputs": [
    {
     "name": "stdout",
     "output_type": "stream",
     "text": [
      "Type your Namek\n",
      "Enter -  Stone / Paper / Scissor : Paper\n",
      "Computer Wins\n"
     ]
    }
   ],
   "source": [
    "import random\n",
    "\n",
    "name = str(input(\"Type your Name\"))\n",
    "user_input = str(input('Enter -  Stone / Paper / Scissor : '))\n",
    "possible_moves = ['Stone', 'Paper', 'Scissor']\n",
    "computer_input = random.choice(possible_moves)\n",
    "\n",
    "if user_input==computer_input:\n",
    "    print(\"Draw\")\n",
    "elif user_input==\"Scissor\" and (computer_input==\"Stone\"):\n",
    "    print(f\"{name} Wins\")\n",
    "elif user_input==\"Stone\" and computer_input==\"Paper\":\n",
    "    print(f\"{name} Wins\")\n",
    "elif user_input==\"Paper\" and computer_input==\"Scissor\":\n",
    "    print(f\"{name} Wins\")\n",
    "else:\n",
    "    print(\"Computer Wins\")"
   ]
  },
  {
   "cell_type": "code",
   "execution_count": 12,
   "id": "1381513e",
   "metadata": {},
   "outputs": [
    {
     "name": "stdout",
     "output_type": "stream",
     "text": [
      "Type your NameKavin\n",
      "Type Number5\n",
      "3\n",
      "Kavin Wins\n"
     ]
    }
   ],
   "source": [
    "import random\n",
    "\n",
    "name = str(input(\"Type your Name\"))\n",
    "user = int(input(\"Type Number\"))\n",
    "possible_roll = (1,2,3,4,5,6)\n",
    "computer_input = random.choice(possible_roll)\n",
    "print(computer_input)\n",
    "if user==computer_input:\n",
    "    print(\"Match Draw\")\n",
    "elif user>computer_input:\n",
    "    print(f\"{name} Wins\")\n",
    "elif computer_input>user:\n",
    "    print(f\"Computer wins\")    "
   ]
  },
  {
   "cell_type": "code",
   "execution_count": null,
   "id": "c11ded96",
   "metadata": {},
   "outputs": [],
   "source": [
    "import random \n",
    "\n",
    "name = str(input(f\" Type your Name\"))\n",
    "user_input=int(input(\"Type Number 1-6 : \"))\n",
    "possible_moves = 1,2,3,4,5,6\n",
    "computer_input = randome.choice(possible_moves)"
   ]
  },
  {
   "cell_type": "code",
   "execution_count": 2,
   "id": "a75382f2",
   "metadata": {},
   "outputs": [
    {
     "ename": "TypeError",
     "evalue": "'End' is an invalid keyword argument for print()",
     "output_type": "error",
     "traceback": [
      "\u001b[1;31m---------------------------------------------------------------------------\u001b[0m",
      "\u001b[1;31mTypeError\u001b[0m                                 Traceback (most recent call last)",
      "Cell \u001b[1;32mIn[2], line 3\u001b[0m\n\u001b[0;32m      1\u001b[0m \u001b[38;5;28;01mfor\u001b[39;00m i \u001b[38;5;129;01min\u001b[39;00m \u001b[38;5;28mrange\u001b[39m(\u001b[38;5;241m1\u001b[39m,\u001b[38;5;241m5\u001b[39m):\n\u001b[0;32m      2\u001b[0m     \u001b[38;5;28;01mfor\u001b[39;00m j \u001b[38;5;129;01min\u001b[39;00m \u001b[38;5;28mrange\u001b[39m(\u001b[38;5;241m1\u001b[39m,i\u001b[38;5;241m+\u001b[39m\u001b[38;5;241m1\u001b[39m):\n\u001b[1;32m----> 3\u001b[0m         \u001b[38;5;28mprint\u001b[39m(\u001b[38;5;124m\"\u001b[39m\u001b[38;5;124m*\u001b[39m\u001b[38;5;124m\"\u001b[39m, End\u001b[38;5;241m=\u001b[39m\u001b[38;5;124m\"\u001b[39m\u001b[38;5;124m \u001b[39m\u001b[38;5;124m\"\u001b[39m)\n\u001b[0;32m      4\u001b[0m     \u001b[38;5;28mprint\u001b[39m()\n",
      "\u001b[1;31mTypeError\u001b[0m: 'End' is an invalid keyword argument for print()"
     ]
    }
   ],
   "source": [
    "for i in range(1,5):\n",
    "    for j in range(1,i+1):\n",
    "        print(\"*\", End=\" \")\n",
    "    print()"
   ]
  },
  {
   "cell_type": "code",
   "execution_count": 6,
   "id": "e7473f4e",
   "metadata": {},
   "outputs": [
    {
     "name": "stdout",
     "output_type": "stream",
     "text": [
      "10\n",
      "10\n"
     ]
    }
   ],
   "source": [
    "n = 10\n",
    "print(n)\n",
    "n = 50\n",
    "n=10\n",
    "print(n)\n"
   ]
  },
  {
   "cell_type": "code",
   "execution_count": 8,
   "id": "b29d195f",
   "metadata": {},
   "outputs": [
    {
     "name": "stdout",
     "output_type": "stream",
     "text": [
      "5\n"
     ]
    }
   ],
   "source": [
    "n = 2\n",
    "n = n + 3\n",
    "print(n)"
   ]
  },
  {
   "cell_type": "code",
   "execution_count": 3,
   "id": "6e5a555a",
   "metadata": {},
   "outputs": [
    {
     "name": "stdout",
     "output_type": "stream",
     "text": [
      "Type your NameKavin\n",
      "Type Number4\n",
      "3\n",
      " Kavin Wins\n"
     ]
    }
   ],
   "source": [
    "import random\n",
    "\n",
    "name = str(input(\"Type your Name\"))\n",
    "user_input = int(input(\"Type Number\"))\n",
    "possible_moves=[1,2,3,4,5,6]\n",
    "computer_input = random.choice(possible_moves)\n",
    "print(computer_input)\n",
    "\n",
    "if user_input == computer_input:\n",
    "    print(\"Match Draw\")\n",
    "elif user_input == 1 and (computer_input==2 or computer_input==3 or computer_input==4 or computer_input==5 or computer_input==6):\n",
    "    print(\"Computer Wins\")\n",
    "elif user_input == 2 and (computer_input==3 or computer_input==4 or computer_input==5 or computer_input==6):\n",
    "    print(\"Computer Wins\")\n",
    "elif user_input == 3 and (computer_input==4 or computer_input==5 or computer_input==6):\n",
    "    print(\"Computer Wins\")\n",
    "elif user_input == 4 and (computer_input==5 or computer_input ==6):\n",
    "    print(\"Computer Wins\")\n",
    "elif user_input == 5 and (computer_input==6):\n",
    "    print(\"Computer Wins\")\n",
    "elif user_input ==6 and (computer_input ==5 or computer_input==4 or computer_input==3 or computer_input ==2 or computer_input ==1):\n",
    "    print(f\" {name}\", \"Wins\")\n",
    "elif user_input ==5 and (computer_input ==4 or computer_input==3 or computer_input==2 or computer_input ==1):\n",
    "    print(f\" {name}\", \"Wins\")\n",
    "elif user_input ==4 and (computer_input ==3 or computer_input==2 or computer_input==1):\n",
    "    print(f\" {name}\", \"Wins\")\n",
    "elif user_input ==3 and (computer_input ==2 or computer_input==1):\n",
    "    print(f\" {name}\", \"Wins\")\n",
    "elif user_input ==2 and (computer_input ==1):\n",
    "    print(f\" {name}\", \"Wins\")\n",
    "\n",
    "\n",
    "\n",
    "\n",
    "\n"
   ]
  },
  {
   "cell_type": "code",
   "execution_count": 2,
   "id": "df52f76c",
   "metadata": {},
   "outputs": [
    {
     "name": "stdout",
     "output_type": "stream",
     "text": [
      "Fizzbuzz\n",
      "1\n",
      "2\n",
      "Fizz\n",
      "4\n",
      "Buzz\n",
      "Fizz\n",
      "7\n",
      "8\n",
      "Fizz\n",
      "Buzz\n",
      "11\n",
      "Fizz\n",
      "13\n",
      "14\n",
      "Fizzbuzz\n",
      "16\n",
      "17\n",
      "Fizz\n",
      "19\n",
      "Buzz\n",
      "Fizz\n",
      "22\n",
      "23\n",
      "Fizz\n",
      "Buzz\n",
      "26\n",
      "Fizz\n",
      "28\n",
      "29\n",
      "Fizzbuzz\n",
      "31\n",
      "32\n",
      "Fizz\n",
      "34\n",
      "Buzz\n",
      "Fizz\n",
      "37\n",
      "38\n",
      "Fizz\n",
      "Buzz\n",
      "41\n",
      "Fizz\n",
      "43\n",
      "44\n",
      "Fizzbuzz\n",
      "46\n",
      "47\n",
      "Fizz\n",
      "49\n",
      "Buzz\n"
     ]
    }
   ],
   "source": [
    "for i in range(0,50 +1):\n",
    "    if i%3==0 and i%5==0:\n",
    "        print(\"Fizzbuzz\")\n",
    "    elif i%3==0:\n",
    "        print(\"Fizz\")\n",
    "    elif i%5==0:\n",
    "        print(\"Buzz\")\n",
    "    else:\n",
    "        print(i)\n",
    "      \n"
   ]
  },
  {
   "cell_type": "code",
   "execution_count": 17,
   "id": "9dbb03a8",
   "metadata": {},
   "outputs": [
    {
     "name": "stdout",
     "output_type": "stream",
     "text": [
      "2\n"
     ]
    }
   ],
   "source": [
    "a = \"welcome to IPCS\"\n",
    "count = 0\n",
    "for i in a:\n",
    "    if i ==  \" \":\n",
    "        count = count + 1\n",
    "print(count)\n",
    "    \n",
    "    "
   ]
  },
  {
   "cell_type": "code",
   "execution_count": 73,
   "id": "44750876",
   "metadata": {},
   "outputs": [
    {
     "name": "stdout",
     "output_type": "stream",
     "text": [
      "1 3\n",
      "1 4\n",
      "2 3\n",
      "2 4\n"
     ]
    }
   ],
   "source": [
    "x = [1, 2]\n",
    "y = [3, 4]\n",
    "for i in x:\n",
    "    for j in y:\n",
    "        print(i,j)\n",
    "               "
   ]
  },
  {
   "cell_type": "code",
   "execution_count": 74,
   "id": "c1ef90af",
   "metadata": {},
   "outputs": [
    {
     "name": "stdout",
     "output_type": "stream",
     "text": [
      "1 3 5\n",
      "1 3 6\n",
      "1 4 5\n",
      "1 4 6\n",
      "2 3 5\n",
      "2 3 6\n",
      "2 4 5\n",
      "2 4 6\n"
     ]
    }
   ],
   "source": [
    "x = [1,2]\n",
    "y = [3,4]\n",
    "z = [5,6]\n",
    "for a in x:\n",
    "    for b in y:\n",
    "        for c in z:\n",
    "            print(a,b,c)"
   ]
  },
  {
   "cell_type": "code",
   "execution_count": 75,
   "id": "6baf6492",
   "metadata": {},
   "outputs": [
    {
     "name": "stdout",
     "output_type": "stream",
     "text": [
      "1 3 10\n",
      "1 3 11\n",
      "1 3 12\n",
      "1 4 10\n",
      "1 4 11\n",
      "1 4 12\n",
      "1 7 10\n",
      "1 7 11\n",
      "1 7 12\n",
      "2 3 10\n",
      "2 3 11\n",
      "2 3 12\n",
      "2 4 10\n",
      "2 4 11\n",
      "2 4 12\n",
      "2 7 10\n",
      "2 7 11\n",
      "2 7 12\n",
      "3 3 10\n",
      "3 3 11\n",
      "3 3 12\n",
      "3 4 10\n",
      "3 4 11\n",
      "3 4 12\n",
      "3 7 10\n",
      "3 7 11\n",
      "3 7 12\n"
     ]
    }
   ],
   "source": [
    "x = [1,2,3]\n",
    "y = [3,4,7]\n",
    "z = [10,11,12]\n",
    "for i in x:\n",
    "    for j in y:\n",
    "        for k in z:\n",
    "            print(i,j,k)"
   ]
  },
  {
   "cell_type": "code",
   "execution_count": 1,
   "id": "ce8e36e3",
   "metadata": {},
   "outputs": [
    {
     "name": "stdout",
     "output_type": "stream",
     "text": [
      "0 1 2 3 4 5 "
     ]
    }
   ],
   "source": [
    "# Date 26.07.2023\n",
    "\n",
    "i = 0\n",
    "while (i <6):\n",
    "    print(i, end =' ')\n",
    "    i = i + 1"
   ]
  },
  {
   "cell_type": "code",
   "execution_count": 1,
   "id": "2c2c0943",
   "metadata": {},
   "outputs": [
    {
     "name": "stdout",
     "output_type": "stream",
     "text": [
      "1\n",
      "2\n",
      "3\n",
      "4\n"
     ]
    }
   ],
   "source": [
    "# Break and Continue:\n",
    "\n",
    "i = 1\n",
    "\n",
    "while (i < 10):\n",
    "    print(i)\n",
    "    if i==4:\n",
    "        break\n",
    "    i = i + 1"
   ]
  },
  {
   "cell_type": "code",
   "execution_count": 1,
   "id": "3c958753",
   "metadata": {},
   "outputs": [
    {
     "name": "stdout",
     "output_type": "stream",
     "text": [
      "10\n",
      "20\n",
      "30\n",
      "40\n",
      "50\n",
      "60\n",
      "70\n",
      "80\n",
      "90\n",
      "100\n",
      "110\n",
      "120\n",
      "130\n",
      "140\n",
      "150\n",
      "160\n",
      "170\n",
      "180\n",
      "190\n",
      "200\n",
      "210\n",
      "220\n",
      "230\n",
      "240\n",
      "250\n",
      "260\n",
      "270\n",
      "280\n",
      "290\n",
      "300\n"
     ]
    }
   ],
   "source": [
    "#A4 Question\n",
    "i = 10\n",
    "\n",
    "while (i<301):\n",
    "    print(i)\n",
    "    i = i + 10"
   ]
  },
  {
   "cell_type": "code",
   "execution_count": 2,
   "id": "89287779",
   "metadata": {},
   "outputs": [
    {
     "name": "stdout",
     "output_type": "stream",
     "text": [
      "7\n",
      "14\n",
      "21\n",
      "28\n",
      "35\n",
      "42\n",
      "49\n",
      "56\n",
      "63\n",
      "70\n",
      "77\n",
      "84\n",
      "91\n",
      "98\n",
      "105\n"
     ]
    }
   ],
   "source": [
    "# Question\n",
    "i = 7\n",
    "\n",
    "while (i<106):\n",
    "    print(i)\n",
    "    i += 7"
   ]
  },
  {
   "cell_type": "code",
   "execution_count": 3,
   "id": "bf30cdfc",
   "metadata": {},
   "outputs": [
    {
     "name": "stdout",
     "output_type": "stream",
     "text": [
      "105\n",
      "98\n",
      "91\n",
      "84\n",
      "77\n",
      "70\n",
      "63\n",
      "56\n",
      "49\n",
      "42\n",
      "35\n",
      "28\n",
      "21\n",
      "14\n",
      "7\n"
     ]
    }
   ],
   "source": [
    "# A5 Question\n",
    "i = 105\n",
    "\n",
    "while (i>=7):\n",
    "    print(i)\n",
    "    i -= 7"
   ]
  },
  {
   "cell_type": "code",
   "execution_count": 1,
   "id": "ad386702",
   "metadata": {},
   "outputs": [
    {
     "name": "stdout",
     "output_type": "stream",
     "text": [
      "Type your Number4\n",
      "4 X 1 = 4\n",
      "4 X 2 = 8\n",
      "4 X 3 = 12\n",
      "4 X 4 = 16\n",
      "4 X 5 = 20\n",
      "4 X 6 = 24\n",
      "4 X 7 = 28\n",
      "4 X 8 = 32\n",
      "4 X 9 = 36\n",
      "4 X 10 = 40\n"
     ]
    }
   ],
   "source": [
    "# Printing Table Using While Loop:\n",
    "table = int(input(\"Type your Number\"))\n",
    "i= 1\n",
    "while(i<11):\n",
    "    ab = (table*i)\n",
    "    print(f\"{table} X {i} = {ab}\")\n",
    "    i= i + 1\\"
   ]
  },
  {
   "cell_type": "code",
   "execution_count": 2,
   "id": "b91dea7d",
   "metadata": {},
   "outputs": [
    {
     "name": "stdout",
     "output_type": "stream",
     "text": [
      "1\n",
      "4\n",
      "9\n",
      "16\n",
      "25\n",
      "36\n",
      "49\n",
      "64\n",
      "81\n",
      "100\n"
     ]
    }
   ],
   "source": [
    "# Squaring The Numbers using While Loop:\n",
    "i = 1\n",
    "while (i<11):\n",
    "    print(i**2)\n",
    "    i = i + 1"
   ]
  },
  {
   "cell_type": "code",
   "execution_count": 3,
   "id": "87e53d85",
   "metadata": {},
   "outputs": [
    {
     "name": "stdout",
     "output_type": "stream",
     "text": [
      "1 \t\t\t 1\n",
      "2 \t\t\t 4\n",
      "3 \t\t\t 9\n",
      "4 \t\t\t 16\n",
      "5 \t\t\t 25\n",
      "6 \t\t\t 36\n",
      "7 \t\t\t 49\n",
      "8 \t\t\t 64\n",
      "9 \t\t\t 81\n",
      "10 \t\t\t 100\n"
     ]
    }
   ],
   "source": [
    "# Squaring the Numbers: \n",
    "\n",
    "i = 1\n",
    "while(i<11):\n",
    "    print(i, '\\t\\t\\t', i**2)\n",
    "    i = i + 1"
   ]
  },
  {
   "cell_type": "code",
   "execution_count": 1,
   "id": "a26599f4",
   "metadata": {},
   "outputs": [
    {
     "name": "stdout",
     "output_type": "stream",
     "text": [
      "104\n",
      "130\n",
      "143\n",
      "169\n",
      "182\n",
      "208\n",
      "221\n",
      "247\n",
      "260\n",
      "286\n",
      "299\n",
      "325\n",
      "338\n",
      "364\n",
      "377\n",
      "403\n",
      "416\n",
      "442\n",
      "455\n",
      "481\n",
      "494\n"
     ]
    }
   ],
   "source": [
    "# Print the numbers which are divisible by 13 and not by 3:\n",
    "i = 100\n",
    "while(i<500):\n",
    "    if i%13==0 and i%3!=0:\n",
    "        print(i)\n",
    "    i = i + 1"
   ]
  },
  {
   "cell_type": "code",
   "execution_count": 1,
   "id": "09ba0c2d",
   "metadata": {},
   "outputs": [
    {
     "name": "stdout",
     "output_type": "stream",
     "text": [
      "Type the Start Point10\n",
      "Type the End Point20\n",
      "11\n",
      "13\n",
      "15\n",
      "17\n",
      "19\n"
     ]
    }
   ],
   "source": [
    "\"\"\"Write a Python to print all the odd numbers that falls between\n",
    "two numbers entered from the User using while loop.\"\"\"\n",
    "\n",
    "\n",
    "num1 = int(input(\"Type the Start Point\"))\n",
    "num2 = int(input(\"Type the End Point\"))\n",
    "if (num1>num2):\n",
    "    while(num1<num2):\n",
    "        if (num2 % 2 != 0):\n",
    "            print(num2)\n",
    "        num2 = num2 + 1\n",
    "else:\n",
    "    while(num1 < num2):\n",
    "        if (num1 % 2 !=0):\n",
    "            print(num1)\n",
    "        num1 = num1 + 1"
   ]
  },
  {
   "cell_type": "code",
   "execution_count": 2,
   "id": "55f5697b",
   "metadata": {},
   "outputs": [
    {
     "name": "stdout",
     "output_type": "stream",
     "text": [
      "Type the Start Point10\n",
      "Type the End Point22\n",
      "10\n",
      "12\n",
      "14\n",
      "16\n",
      "18\n",
      "20\n"
     ]
    }
   ],
   "source": [
    "\"\"\"Write a Program to display sum of  Even numbers separately \n",
    "that fall between two numbers accepted from the user\"\"\"\n",
    "\n",
    "num1 = int(input(\"Type the Start Point\"))\n",
    "num2 = int(input(\"Type the End Point\"))\n",
    "if (num1>num2):\n",
    "    while(num1<num2):\n",
    "        if (num2 % 2 == 0):\n",
    "            print(num2)\n",
    "        num2 = num2 + 1\n",
    "else:\n",
    "    while(num1 < num2):\n",
    "        if (num1 % 2 ==0):\n",
    "            print(num1)\n",
    "        num1 = num1 + 1"
   ]
  },
  {
   "cell_type": "code",
   "execution_count": 8,
   "id": "2aac217a",
   "metadata": {},
   "outputs": [
    {
     "name": "stdout",
     "output_type": "stream",
     "text": [
      "Type your Number10\n",
      "Type your Number100\n",
      "2530\n",
      "2475\n"
     ]
    }
   ],
   "source": [
    "\"\"\"Write a Program to display sum of odd numbers and Even numbers\n",
    "separately that fall between two numbers accepted from the user\"\"\"\n",
    "\n",
    "num1 = int(input(\"Type your Number\"))\n",
    "num2 = int(input(\"Type your Number\"))\n",
    "so = 0\n",
    "se = 0\n",
    "\n",
    "if (num1 > num2):\n",
    "    while(num2<=num1):\n",
    "        if num2%2==0:\n",
    "            se = se + num2\n",
    "            num2 = num2 + 1\n",
    "        else:\n",
    "            so = so + num2\n",
    "            num2 = num2 + 1\n",
    "else:\n",
    "    while(num1 <= num2):\n",
    "        if num1%2 ==0:\n",
    "            se = se + num1\n",
    "            num1 = num1 + 1\n",
    "        else:\n",
    "            so = so + num1\n",
    "            num1=num1 + 1\n",
    "print(se)\n",
    "print(so)"
   ]
  },
  {
   "cell_type": "code",
   "execution_count": 1,
   "id": "b8875d35",
   "metadata": {},
   "outputs": [
    {
     "name": "stdout",
     "output_type": "stream",
     "text": [
      "10\n",
      "20\n",
      "30\n",
      "40\n",
      "50\n",
      "60\n",
      "70\n",
      "80\n",
      "90\n",
      "100\n",
      "110\n",
      "120\n",
      "130\n",
      "140\n",
      "150\n",
      "160\n",
      "170\n",
      "180\n",
      "190\n",
      "200\n",
      "210\n",
      "220\n",
      "230\n",
      "240\n",
      "250\n",
      "260\n",
      "270\n",
      "280\n",
      "290\n",
      "300\n"
     ]
    }
   ],
   "source": [
    "i = 10\n",
    "\n",
    "while (i<301):\n",
    "    print(i)\n",
    "    i = i + 10"
   ]
  },
  {
   "cell_type": "code",
   "execution_count": null,
   "id": "557faf62",
   "metadata": {},
   "outputs": [],
   "source": [
    "i = 7\n",
    "\n",
    "while (i<106):\n",
    "    print(i)\n",
    "    i += 7"
   ]
  },
  {
   "cell_type": "code",
   "execution_count": null,
   "id": "2e09b424",
   "metadata": {},
   "outputs": [],
   "source": [
    "# Write a program to print the following series till n terms:\n",
    "\"\"\"2,22,222,2222_______n terms\"\"\"\n",
    "#Example Concept:\n",
    "\n",
    "for i in range(1, 200000):\n",
    "    if '2' in str(i):\n",
    "        print(i)"
   ]
  },
  {
   "cell_type": "code",
   "execution_count": 2,
   "id": "8899c4a6",
   "metadata": {},
   "outputs": [
    {
     "name": "stdout",
     "output_type": "stream",
     "text": [
      "Type the Number - 5\n",
      "Type the Number - 20\n",
      "5\n",
      "7\n",
      "11\n",
      "13\n",
      "17\n",
      "19\n"
     ]
    }
   ],
   "source": [
    "\"\"\"Write a Python Program to print all the Prime numbers that falls between \n",
    "two numbers : \"\"\"\n",
    "\n",
    "lower_value = int(input(\"Type the Number - \"))\n",
    "upper_value = int(input(\"Type the Number - \"))\n",
    "\n",
    "for number in range(lower_value, upper_value +1):\n",
    "    if number>1:\n",
    "        for a in range(2, number):\n",
    "            if number%a ==0:\n",
    "                break\n",
    "        else:\n",
    "            print(number)\n",
    "            "
   ]
  },
  {
   "cell_type": "code",
   "execution_count": 3,
   "id": "66079198",
   "metadata": {},
   "outputs": [
    {
     "name": "stdout",
     "output_type": "stream",
     "text": [
      "Enter the Number : 8\n",
      "2 , 22 , 222 , 2222 , 22222 , 222222 , 2222222 , 22222222 , "
     ]
    }
   ],
   "source": [
    "\"\"\"Write a Program to print the following series\n",
    "till n terms\n",
    "2,22,222,2222______n terms\"\"\"\n",
    "\n",
    "n = int(input('Enter the Number : '))\n",
    "string = '2'\n",
    "\n",
    "i = 0\n",
    "\n",
    "while(i < n):\n",
    "    print(string, end = ' , ')\n",
    "    string = string + '2'\n",
    "    i = i + 1"
   ]
  },
  {
   "cell_type": "code",
   "execution_count": 6,
   "id": "a3917e26",
   "metadata": {},
   "outputs": [
    {
     "name": "stdout",
     "output_type": "stream",
     "text": [
      "PYTHON\n"
     ]
    }
   ],
   "source": [
    "\"\"\"Write a Program to Print all the Characters in \n",
    "a string \"PYTHON\" using While Loop:\"\"\"\n",
    "\n",
    "string = \"PYTHON\"\n",
    "i=0\n",
    "while(i<=0):\n",
    "    print(string)\n",
    "    i = i + 1"
   ]
  },
  {
   "cell_type": "code",
   "execution_count": 5,
   "id": "e779c7a2",
   "metadata": {},
   "outputs": [
    {
     "name": "stdout",
     "output_type": "stream",
     "text": [
      "Enter a Number10\n",
      "1\n",
      "8\n",
      "27\n",
      "64\n",
      "125\n",
      "216\n",
      "343\n",
      "512\n",
      "729\n",
      "Summation - 2025\n"
     ]
    }
   ],
   "source": [
    "# Write a Program to find the sum of the Following Series:\n",
    "\"\"\" 1+8+27.......n terms\"\"\"\n",
    "\n",
    "n = int(input(\"Enter a Number\"))\n",
    "i = 1\n",
    "sum = 0\n",
    "\n",
    "while(i<n):\n",
    "    j =i**3\n",
    "    print(j)\n",
    "    sum = sum + j\n",
    "    i = i + 1\n",
    "print(f\"Summation - {sum}\")"
   ]
  },
  {
   "cell_type": "code",
   "execution_count": 1,
   "id": "59395bab",
   "metadata": {},
   "outputs": [
    {
     "name": "stdout",
     "output_type": "stream",
     "text": [
      "Type the Number you Need10\n",
      "Type the Number you Need20\n",
      "Type the Number you Need0\n",
      "30\n",
      "0\n"
     ]
    }
   ],
   "source": [
    "\"\"\"Write a Program to enter the numbers till the user enter ZERO\n",
    "and at the end it should display the count of positive and negative\n",
    "numbers entered  \"\"\"\n",
    "\n",
    "sum_positive = 0\n",
    "sum_negative = 0\n",
    "num = 1\n",
    "\n",
    "while (num!= 0):\n",
    "    num = int(input(\"Type the Number you Need\"))\n",
    "    \n",
    "    if num>0:\n",
    "        sum_positive = sum_positive + num\n",
    "    else:\n",
    "        sum_negative = sum_negative + num\n",
    "print(sum_positive)\n",
    "print(sum_negative)   "
   ]
  },
  {
   "cell_type": "code",
   "execution_count": 1,
   "id": "d16e770b",
   "metadata": {},
   "outputs": [
    {
     "name": "stdout",
     "output_type": "stream",
     "text": [
      "1 -- 49\n",
      "2 -- 48\n",
      "3 -- 47\n",
      "4 -- 46\n",
      "5 -- 45\n",
      "6 -- 44\n",
      "7 -- 43\n",
      "8 -- 42\n",
      "9 -- 41\n",
      "10 -- 40\n",
      "11 -- 39\n",
      "12 -- 38\n",
      "13 -- 37\n",
      "14 -- 36\n",
      "15 -- 35\n",
      "16 -- 34\n",
      "17 -- 33\n",
      "18 -- 32\n",
      "19 -- 31\n",
      "20 -- 30\n",
      "21 -- 29\n",
      "22 -- 28\n",
      "23 -- 27\n",
      "24 -- 26\n",
      "25 -- 25\n",
      "26 -- 24\n",
      "27 -- 23\n",
      "28 -- 22\n",
      "29 -- 21\n",
      "30 -- 20\n",
      "31 -- 19\n",
      "32 -- 18\n",
      "33 -- 17\n",
      "34 -- 16\n",
      "35 -- 15\n",
      "36 -- 14\n",
      "37 -- 13\n",
      "38 -- 12\n",
      "39 -- 11\n",
      "40 -- 10\n",
      "41 -- 9\n",
      "42 -- 8\n",
      "43 -- 7\n",
      "44 -- 6\n",
      "45 -- 5\n",
      "46 -- 4\n",
      "47 -- 3\n",
      "48 -- 2\n",
      "49 -- 1\n"
     ]
    }
   ],
   "source": [
    "\"\"\"Write a python program to get the Following Output:\n",
    "1--49\n",
    "2--48\n",
    "3--47\n",
    "\n",
    "\n",
    "48-2\n",
    "49-1    \"\"\"\n",
    "\n",
    "i = 49\n",
    "j = 1\n",
    "\n",
    "while(i>=1):\n",
    "    print(j,\"--\",i)\n",
    "    i = i-1\n",
    "    j = j + 1"
   ]
  },
  {
   "cell_type": "code",
   "execution_count": 1,
   "id": "063c183d",
   "metadata": {},
   "outputs": [
    {
     "name": "stdout",
     "output_type": "stream",
     "text": [
      "Type the Number10\n",
      "1 , 2 , 6 , 24 , 120 , 720 , 5040 , 40320 , 362880 , 3628800 , = 4037913\n"
     ]
    }
   ],
   "source": [
    "\"\"\" Write a Program to find the sum of following series:\n",
    "1 + 2 + 6 + 24 + 120 ....n terms\"\"\"\n",
    "\n",
    "\n",
    "num = int(input(\"Type the Number\"))\n",
    "sum = 0\n",
    "pr = 1\n",
    "i = 1\n",
    "\n",
    "while(i<=num):\n",
    "    pr = i*pr\n",
    "    print(pr, end=\" , \")\n",
    "    sum = sum + pr\n",
    "    i = i + 1\n",
    "print('=', sum)"
   ]
  },
  {
   "cell_type": "code",
   "execution_count": 1,
   "id": "b801d37a",
   "metadata": {},
   "outputs": [
    {
     "name": "stdout",
     "output_type": "stream",
     "text": [
      "Type the Number10\n",
      "221\n",
      "164\n"
     ]
    }
   ],
   "source": [
    "\"\"\"Write a Program to find the sum of following series:\n",
    "s = 1 + 4 - 9 + 16 - 25 + 36 - .... n terms\"\"\"\n",
    "\n",
    "\n",
    "num = int(input(\"Type the Number\"))\n",
    "sum_positive = 1\n",
    "sum_negative = 0\n",
    "i = 2\n",
    "\n",
    "while(i<=num):\n",
    "    if i%2==0:\n",
    "        sum_positive = sum_positive + i**2\n",
    "        i = i + 1\n",
    "    else:\n",
    "        sum_negative = sum_negative + i**2\n",
    "        i = i + 1\n",
    "print(sum_positive)\n",
    "print(sum_negative)"
   ]
  },
  {
   "cell_type": "code",
   "execution_count": null,
   "id": "7f744f1d",
   "metadata": {},
   "outputs": [
    {
     "name": "stdout",
     "output_type": "stream",
     "text": [
      "Type the Number4\n",
      "2.0\n",
      "6.0\n",
      "12.0\n"
     ]
    }
   ],
   "source": [
    "\"\"\"Write a program to find the sum of following series:\n",
    "X + X2(Square)/2 + .........Xn(square)/N\"\"\"\n",
    "\n",
    "num = int(input(\"Type the Number\"))\n",
    "\n",
    "i = 1\n",
    "sum = 0\n",
    "\n",
    "while(i<=num):\n",
    "    if i<num:\n",
    "        x = i + i**2/i\n",
    "        sum = sum + x\n",
    "        i = i + 1\n",
    "        print(sum)"
   ]
  },
  {
   "cell_type": "code",
   "execution_count": null,
   "id": "ac33d689",
   "metadata": {},
   "outputs": [],
   "source": [
    "# List:\n",
    "# Indexing and Slicing:\n",
    "# List:\n",
    "--It is a COntainer\n",
    "--It can take multiple data types\n",
    "-- List is mutable(you can replace or add data in list)\n",
    "-- It comes with square braces"
   ]
  },
  {
   "cell_type": "code",
   "execution_count": 1,
   "id": "52b36e20",
   "metadata": {},
   "outputs": [
    {
     "name": "stdout",
     "output_type": "stream",
     "text": [
      "[1, 2, 3, 4, 5, 6, 7, 8, 9, 10]\n"
     ]
    }
   ],
   "source": [
    "a = [1,2,3,4,5,6,7,8,9,10]\n",
    "print(a)"
   ]
  },
  {
   "cell_type": "code",
   "execution_count": 2,
   "id": "99827660",
   "metadata": {},
   "outputs": [
    {
     "name": "stdout",
     "output_type": "stream",
     "text": [
      "[1, 2, 3, 4, 5, 6, 7, 8, 9, 10]\n",
      "<class 'list'>\n"
     ]
    }
   ],
   "source": [
    "a = [1,2,3,4,5,6,7,8,9,10]\n",
    "print(a)\n",
    "print(type(a))"
   ]
  },
  {
   "cell_type": "code",
   "execution_count": 3,
   "id": "6ffea788",
   "metadata": {},
   "outputs": [
    {
     "name": "stdout",
     "output_type": "stream",
     "text": [
      "['kavin', True, 2.0]\n"
     ]
    }
   ],
   "source": [
    "#? Why double quotes is not there for true\n",
    "a = [\"kavin\",True, 2.0]\n",
    "print (a)"
   ]
  },
  {
   "cell_type": "code",
   "execution_count": 4,
   "id": "e7414eed",
   "metadata": {},
   "outputs": [
    {
     "name": "stdout",
     "output_type": "stream",
     "text": [
      "<class 'bool'>\n"
     ]
    }
   ],
   "source": [
    "a = True\n",
    "print(type(a))"
   ]
  },
  {
   "cell_type": "code",
   "execution_count": 5,
   "id": "ade37bcd",
   "metadata": {},
   "outputs": [
    {
     "name": "stdout",
     "output_type": "stream",
     "text": [
      "[1, 2, 3, 4, 5]\n"
     ]
    }
   ],
   "source": [
    "a = [1,2,3,4,5]\n",
    "print(a)"
   ]
  },
  {
   "cell_type": "code",
   "execution_count": 6,
   "id": "c2a33124",
   "metadata": {},
   "outputs": [
    {
     "name": "stdout",
     "output_type": "stream",
     "text": [
      "[1, 2, 3, 4, 5, 6]\n"
     ]
    }
   ],
   "source": [
    "a.append(6)\n",
    "print(a)"
   ]
  },
  {
   "cell_type": "code",
   "execution_count": 7,
   "id": "1b44fd8e",
   "metadata": {},
   "outputs": [
    {
     "name": "stdout",
     "output_type": "stream",
     "text": [
      "[1, 2, 3, 4, 5, 6, 7]\n"
     ]
    }
   ],
   "source": [
    "a.append(7)\n",
    "print(a)"
   ]
  },
  {
   "cell_type": "code",
   "execution_count": 8,
   "id": "7df86060",
   "metadata": {},
   "outputs": [
    {
     "name": "stdout",
     "output_type": "stream",
     "text": [
      "[1, 2, 3, 4, 5, 6, 7, 'Kavin']\n"
     ]
    }
   ],
   "source": [
    "a.append(\"Kavin\")\n",
    "print(a)"
   ]
  },
  {
   "cell_type": "code",
   "execution_count": 9,
   "id": "60c0c6fd",
   "metadata": {},
   "outputs": [
    {
     "name": "stdout",
     "output_type": "stream",
     "text": [
      "[1, 2, 3, 4, 5, 6, 7, 'Kavin', 'Navin', 'Pravin']\n"
     ]
    }
   ],
   "source": [
    "a.extend([\"Navin\",\"Pravin\"])\n",
    "print(a)"
   ]
  },
  {
   "cell_type": "code",
   "execution_count": 10,
   "id": "5e8e9f51",
   "metadata": {},
   "outputs": [
    {
     "name": "stdout",
     "output_type": "stream",
     "text": [
      "[1, 2, 3, 4, 5, 7, 'Kavin', 'Navin', 'Pravin']\n"
     ]
    }
   ],
   "source": [
    "a.remove(6)\n",
    "print(a)"
   ]
  },
  {
   "cell_type": "code",
   "execution_count": 11,
   "id": "a50bc6ff",
   "metadata": {},
   "outputs": [
    {
     "name": "stdout",
     "output_type": "stream",
     "text": [
      "[1, 2, 3, 4, 5, 6, 7, 8, 9, 10, 11, 12, 13, 14, 15, 16]\n"
     ]
    }
   ],
   "source": [
    "ab = [1,2,3,4,5,6,7,8,9,10,11,12,13,14,15,16]\n",
    "print(ab)"
   ]
  },
  {
   "cell_type": "code",
   "execution_count": 12,
   "id": "0841be12",
   "metadata": {},
   "outputs": [
    {
     "data": {
      "text/plain": [
       "16"
      ]
     },
     "execution_count": 12,
     "metadata": {},
     "output_type": "execute_result"
    }
   ],
   "source": [
    "ab[-1]"
   ]
  },
  {
   "cell_type": "code",
   "execution_count": 13,
   "id": "f4f840ff",
   "metadata": {},
   "outputs": [
    {
     "data": {
      "text/plain": [
       "1"
      ]
     },
     "execution_count": 13,
     "metadata": {},
     "output_type": "execute_result"
    }
   ],
   "source": [
    "ab[0]"
   ]
  },
  {
   "cell_type": "code",
   "execution_count": 14,
   "id": "65195adb",
   "metadata": {},
   "outputs": [
    {
     "data": {
      "text/plain": [
       "6"
      ]
     },
     "execution_count": 14,
     "metadata": {},
     "output_type": "execute_result"
    }
   ],
   "source": [
    "ab[5]"
   ]
  },
  {
   "cell_type": "code",
   "execution_count": 15,
   "id": "8ecd33c3",
   "metadata": {},
   "outputs": [
    {
     "data": {
      "text/plain": [
       "[1, 2, 3, 4, 5, 6, 7, 8, 9, 10, 11, 12, 13, 14, 15, 16]"
      ]
     },
     "execution_count": 15,
     "metadata": {},
     "output_type": "execute_result"
    }
   ],
   "source": [
    "ab[:]"
   ]
  },
  {
   "cell_type": "code",
   "execution_count": 16,
   "id": "de595384",
   "metadata": {},
   "outputs": [
    {
     "data": {
      "text/plain": [
       "[1, 2, 3, 4, 5, 6, 7, 8, 9]"
      ]
     },
     "execution_count": 16,
     "metadata": {},
     "output_type": "execute_result"
    }
   ],
   "source": [
    "ab[:9]"
   ]
  },
  {
   "cell_type": "code",
   "execution_count": 17,
   "id": "e5b79c6e",
   "metadata": {},
   "outputs": [
    {
     "data": {
      "text/plain": [
       "[1, 2, 3, 4, 5, 6, 7, 8, 9, 10, 11, 12, 13, 14, 15, 16]"
      ]
     },
     "execution_count": 17,
     "metadata": {},
     "output_type": "execute_result"
    }
   ],
   "source": [
    "ab[0:]"
   ]
  },
  {
   "cell_type": "code",
   "execution_count": 18,
   "id": "14d9eb86",
   "metadata": {},
   "outputs": [
    {
     "data": {
      "text/plain": [
       "15"
      ]
     },
     "execution_count": 18,
     "metadata": {},
     "output_type": "execute_result"
    }
   ],
   "source": [
    "ab[-2]"
   ]
  },
  {
   "cell_type": "code",
   "execution_count": 19,
   "id": "7b342cd0",
   "metadata": {},
   "outputs": [
    {
     "name": "stdout",
     "output_type": "stream",
     "text": [
      "[1, 12, 2, 3, 4, 5, 6, 7, 8, 9, 10, 11, 12, 13, 14, 15, 16]\n"
     ]
    }
   ],
   "source": [
    "ab.insert(1,12)\n",
    "print(ab)"
   ]
  },
  {
   "cell_type": "code",
   "execution_count": 20,
   "id": "0870dd21",
   "metadata": {},
   "outputs": [],
   "source": [
    "ab.clear()"
   ]
  },
  {
   "cell_type": "code",
   "execution_count": 21,
   "id": "9c703f15",
   "metadata": {},
   "outputs": [
    {
     "name": "stdout",
     "output_type": "stream",
     "text": [
      "[]\n"
     ]
    }
   ],
   "source": [
    "print(ab)"
   ]
  },
  {
   "cell_type": "code",
   "execution_count": 22,
   "id": "61018a61",
   "metadata": {},
   "outputs": [
    {
     "name": "stdout",
     "output_type": "stream",
     "text": [
      "Banana Apple\n"
     ]
    }
   ],
   "source": [
    "# Print the List which contains letter \"A\":\n",
    "\n",
    "fruits = [\"Apple\",\"Banana\",\"Cherry\",\"Kiwi\"]\n",
    "for a in fruits:\n",
    "        if a in \"Banana\" and \"Apple\":\n",
    "            print(\"Banana\",\"Apple\")"
   ]
  },
  {
   "cell_type": "code",
   "execution_count": 23,
   "id": "4c86ecbf",
   "metadata": {},
   "outputs": [
    {
     "name": "stdout",
     "output_type": "stream",
     "text": [
      "apple Banana Kiwi "
     ]
    }
   ],
   "source": [
    "# Print the List except Cherry:\n",
    "\n",
    "fruits = [\"apple\",\"Banana\",\"Cherry\",\"Kiwi\"]\n",
    "for i in fruits:\n",
    "    if \"a\" in i or \"i\" in i:\n",
    "        print(i,end = \" \")"
   ]
  },
  {
   "cell_type": "code",
   "execution_count": 24,
   "id": "93836148",
   "metadata": {},
   "outputs": [
    {
     "name": "stdout",
     "output_type": "stream",
     "text": [
      "[]\n"
     ]
    }
   ],
   "source": [
    "a = []\n",
    "print(a)"
   ]
  },
  {
   "cell_type": "code",
   "execution_count": 25,
   "id": "39ed6976",
   "metadata": {},
   "outputs": [
    {
     "name": "stdout",
     "output_type": "stream",
     "text": [
      "['apple']\n"
     ]
    }
   ],
   "source": [
    "a.append(\"apple\")\n",
    "print(a)"
   ]
  },
  {
   "cell_type": "code",
   "execution_count": 26,
   "id": "a5d4daae",
   "metadata": {},
   "outputs": [
    {
     "name": "stdout",
     "output_type": "stream",
     "text": [
      "['apple', 'banana']\n"
     ]
    }
   ],
   "source": [
    "a.append(\"banana\")\n",
    "print(a)"
   ]
  },
  {
   "cell_type": "code",
   "execution_count": 27,
   "id": "56496fd1",
   "metadata": {},
   "outputs": [
    {
     "name": "stdout",
     "output_type": "stream",
     "text": [
      "['apple', 'banana', 'Kiwi']\n"
     ]
    }
   ],
   "source": [
    "a.append(\"Kiwi\")\n",
    "print(a)"
   ]
  },
  {
   "cell_type": "code",
   "execution_count": 28,
   "id": "5baadee6",
   "metadata": {},
   "outputs": [
    {
     "name": "stdout",
     "output_type": "stream",
     "text": [
      "apple Banana Kiwi ['apple', 'Banana', 'Kiwi']\n"
     ]
    }
   ],
   "source": [
    "fruits = [\"apple\",\"Banana\",\"Cherry\",\"Kiwi\"]\n",
    "b = []\n",
    "for i in fruits:\n",
    "    if \"a\" in i or \"i\" in i:\n",
    "        print(i,end = \" \")\n",
    "        b.append(i)\n",
    "print(b)"
   ]
  },
  {
   "cell_type": "code",
   "execution_count": 30,
   "id": "6a54aea7",
   "metadata": {},
   "outputs": [
    {
     "name": "stdout",
     "output_type": "stream",
     "text": [
      "['apple', 'Banana', 'Kiwi']\n"
     ]
    }
   ],
   "source": [
    "fruits = [\"apple\",\"Banana\",\"Cherry\",\"Kiwi\"]\n",
    "b = []\n",
    "for i in fruits:\n",
    "    if \"a\" in i or \"i\" in i:\n",
    "        b.append(i)\n",
    "print(b)"
   ]
  },
  {
   "cell_type": "code",
   "execution_count": 32,
   "id": "f1c5f109",
   "metadata": {},
   "outputs": [
    {
     "data": {
      "text/plain": [
       "67"
      ]
     },
     "execution_count": 32,
     "metadata": {},
     "output_type": "execute_result"
    }
   ],
   "source": [
    "-1+3+5-9+77-8"
   ]
  },
  {
   "cell_type": "code",
   "execution_count": 31,
   "id": "ae1a1483",
   "metadata": {},
   "outputs": [
    {
     "name": "stdout",
     "output_type": "stream",
     "text": [
      "Summation = 67\n"
     ]
    }
   ],
   "source": [
    "a = [-1,3,5,-9,77,-8]\n",
    "sum = 0\n",
    "\n",
    "for i in a:\n",
    "    sum = sum + i\n",
    "print(f\"Summation = {sum}\")"
   ]
  },
  {
   "cell_type": "code",
   "execution_count": 34,
   "id": "0924b0ae",
   "metadata": {},
   "outputs": [
    {
     "data": {
      "text/plain": [
       "-83160"
      ]
     },
     "execution_count": 34,
     "metadata": {},
     "output_type": "execute_result"
    }
   ],
   "source": [
    "-1*3*5*-9*77*-8"
   ]
  },
  {
   "cell_type": "code",
   "execution_count": 33,
   "id": "8175cb02",
   "metadata": {},
   "outputs": [
    {
     "name": "stdout",
     "output_type": "stream",
     "text": [
      "Summation = -83160\n"
     ]
    }
   ],
   "source": [
    "# In this List calculate the summation using for loop:\n",
    "a = [-1,3,5,-9,77,-8]\n",
    "sum = 1\n",
    "\n",
    "for i in a:\n",
    "    sum = sum * i\n",
    "print(f\"Summation = {sum}\")"
   ]
  },
  {
   "cell_type": "code",
   "execution_count": 35,
   "id": "823f190b",
   "metadata": {},
   "outputs": [
    {
     "name": "stdout",
     "output_type": "stream",
     "text": [
      "102 is the Largest Value\n"
     ]
    }
   ],
   "source": [
    "a = [1,5,17,99,102,34]\n",
    "i = 0\n",
    "for i in a :\n",
    "    if 102>1 and 102>5 and 102>5 and 102>17 and 102>99 and 102>34:\n",
    "        i = i + 1\n",
    "print(\"102 is the Largest Value\")"
   ]
  },
  {
   "cell_type": "code",
   "execution_count": 37,
   "id": "d6aa4dc7",
   "metadata": {},
   "outputs": [
    {
     "name": "stdout",
     "output_type": "stream",
     "text": [
      "1\n"
     ]
    }
   ],
   "source": [
    "# Doubt Clarify:\n",
    "\n",
    "a = [1,5,17,99,102,34]\n",
    "\n",
    "maximum = a[0]\n",
    "\n",
    "for i in a:\n",
    "    if i < maximum:\n",
    "        maximum = i\n",
    "print(maximum)"
   ]
  },
  {
   "cell_type": "code",
   "execution_count": 38,
   "id": "fdda67b2",
   "metadata": {},
   "outputs": [
    {
     "data": {
      "text/plain": [
       "['i', 'am', 'here']"
      ]
     },
     "execution_count": 38,
     "metadata": {},
     "output_type": "execute_result"
    }
   ],
   "source": [
    "# Spilt will not work for list[]:\n",
    "\n",
    "a = 'i am here'\n",
    "a.split(' ')"
   ]
  },
  {
   "cell_type": "code",
   "execution_count": 39,
   "id": "1325dd20",
   "metadata": {},
   "outputs": [
    {
     "name": "stdout",
     "output_type": "stream",
     "text": [
      "Not an empty List\n"
     ]
    }
   ],
   "source": [
    "# Write a python program to check a list is empty or not :  \n",
    "\n",
    "a = [1,2,3,4,5]\n",
    "\n",
    "if a ==[ ]:\n",
    "    print(a, \"empty\")\n",
    "else:\n",
    "    print(\"Not an empty List\")"
   ]
  },
  {
   "cell_type": "code",
   "execution_count": 40,
   "id": "5e730b71",
   "metadata": {},
   "outputs": [
    {
     "name": "stdout",
     "output_type": "stream",
     "text": [
      "Enter a Number4\n",
      "['Words', 'Longer', 'given', 'words']\n"
     ]
    }
   ],
   "source": [
    "\"\"\"Write a Python program to find the list of words that are \n",
    "longer than than n from a given list of words\n",
    "\n",
    "Sample word = Find the List of Words that are Longer than n from \n",
    "given list of words\"\"\"\n",
    "\n",
    "num = int(input(\"Enter a Number\"))\n",
    "word = \"Find the List of Words that are Longer than n from given list of words\"\n",
    "text = word.split( \" \")\n",
    "new_list=[]\n",
    "\n",
    "for i in text:\n",
    "    if len(i)>num:\n",
    "        new_list.append(i)\n",
    "print(new_list)"
   ]
  },
  {
   "cell_type": "code",
   "execution_count": 46,
   "id": "f36735b3",
   "metadata": {},
   "outputs": [],
   "source": [
    "kav = [1,2,3,4,5,6,7,8,9]"
   ]
  },
  {
   "cell_type": "code",
   "execution_count": 47,
   "id": "e5bef97c",
   "metadata": {},
   "outputs": [
    {
     "name": "stdout",
     "output_type": "stream",
     "text": [
      "[1, 2, 3, 4, 5, 6, 7, 8, 9]\n"
     ]
    }
   ],
   "source": [
    "print(kav)"
   ]
  },
  {
   "cell_type": "code",
   "execution_count": 48,
   "id": "49bacb43",
   "metadata": {},
   "outputs": [
    {
     "name": "stdout",
     "output_type": "stream",
     "text": [
      "[100, 1, 2, 3, 4, 5, 6, 7, 8, 9]\n"
     ]
    }
   ],
   "source": [
    "kav.insert(0,100)\n",
    "print(kav)"
   ]
  },
  {
   "cell_type": "code",
   "execution_count": 49,
   "id": "3e6d3304",
   "metadata": {},
   "outputs": [
    {
     "name": "stdout",
     "output_type": "stream",
     "text": [
      "5\n"
     ]
    }
   ],
   "source": [
    "\"\"\"Write a Program that get two lists as input\n",
    "and check if they have at least one common member\n",
    "\n",
    "list1=[1,2,3,4,5]\n",
    "list2=[5,6,7,8,9]\"\"\"\n",
    "\n",
    "list_1= [1,2,3,4,5]\n",
    "list_2= [5,6,7,8,9]\n",
    "\n",
    "for i in list_1:\n",
    "    for j in list_2:\n",
    "        if i == j:\n",
    "            print(i)"
   ]
  },
  {
   "cell_type": "code",
   "execution_count": 1,
   "id": "3f806b8f",
   "metadata": {},
   "outputs": [
    {
     "name": "stdout",
     "output_type": "stream",
     "text": [
      "4 9 16 25 36 "
     ]
    }
   ],
   "source": [
    "\"\"\"Python Program to square each element of a list:\n",
    "Given: x=[2,3,4,5,6]\"\"\"\n",
    "\n",
    "x = [2,3,4,5,6]\n",
    "for i in x:\n",
    "    i = i**2\n",
    "    print(i, end= \" \")"
   ]
  },
  {
   "cell_type": "code",
   "execution_count": 2,
   "id": "b30fdd80",
   "metadata": {},
   "outputs": [
    {
     "name": "stdout",
     "output_type": "stream",
     "text": [
      "Total Count of items are: 5\n"
     ]
    }
   ],
   "source": [
    "\"\"\"Write a program to count the number of items stored in a list\n",
    "num=[23,34,\"hello\",32,56]\n",
    "\n",
    "Expected Output\n",
    "Total count of items are:5\"\"\"\n",
    "\n",
    "num=[23,34,\"hello\",32,56]\n",
    "a = 0\n",
    "for i in num:\n",
    "    a = a + 1\n",
    "print(f\"Total Count of items are: {a}\")"
   ]
  },
  {
   "cell_type": "code",
   "execution_count": 3,
   "id": "becee705",
   "metadata": {},
   "outputs": [
    {
     "name": "stdout",
     "output_type": "stream",
     "text": [
      "23 24 54 34 "
     ]
    }
   ],
   "source": [
    "\"\"\"Write a program to print all the elements of a list in single line: \n",
    "num = [23,24,54,34]\n",
    "\n",
    "Expected Output\n",
    "23 24 54 34\"\"\"\n",
    "\n",
    "\n",
    "num = [23,24,54,34]\n",
    "\n",
    "for i in num:\n",
    "    print(i, end= \" \")"
   ]
  },
  {
   "cell_type": "code",
   "execution_count": null,
   "id": "be6d7553",
   "metadata": {},
   "outputs": [],
   "source": [
    "a = 10\n",
    "\n",
    "for i in a:\n",
    "     \n",
    "        "
   ]
  }
 ],
 "metadata": {
  "kernelspec": {
   "display_name": "Python 3 (ipykernel)",
   "language": "python",
   "name": "python3"
  },
  "language_info": {
   "codemirror_mode": {
    "name": "ipython",
    "version": 3
   },
   "file_extension": ".py",
   "mimetype": "text/x-python",
   "name": "python",
   "nbconvert_exporter": "python",
   "pygments_lexer": "ipython3",
   "version": "3.11.3"
  }
 },
 "nbformat": 4,
 "nbformat_minor": 5
}
